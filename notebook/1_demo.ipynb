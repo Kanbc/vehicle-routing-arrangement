{
 "cells": [
  {
   "cell_type": "markdown",
   "metadata": {},
   "source": [
    "## Problem"
   ]
  },
  {
   "cell_type": "markdown",
   "metadata": {},
   "source": [
    "Input : \n",
    "- จุดเริ่มต้น : ในที่นี้ให้เป็น A\n",
    "- งาน(ต้นทาง-ปลายทาง) + จำนวนของแต่ละงาน : จากข้างล่างคือ table tasks\n",
    "- ระยะทางระหว่างจุดทั้งหมด : ตัวแปร distances"
   ]
  },
  {
   "cell_type": "markdown",
   "metadata": {},
   "source": [
    "Output : \n",
    "- หาทุกทางที่ทำให้งานจบ\n",
    "- ทุกทางยาวเท่าไหร่\n",
    "- บอกด้วยว่าจากระยะทางทั้งหมด แบ่งเป็นระยะทางมีของและไม่มีของอย่างละเท่าไหร่\n",
    "- เอาทางที่ระยะทางซ้ำกันออก"
   ]
  },
  {
   "cell_type": "markdown",
   "metadata": {},
   "source": [
    "Import Library"
   ]
  },
  {
   "cell_type": "code",
   "execution_count": 1,
   "metadata": {},
   "outputs": [],
   "source": [
    "import numpy as np\n",
    "import pandas as pd"
   ]
  },
  {
   "cell_type": "markdown",
   "metadata": {},
   "source": [
    "### Input"
   ]
  },
  {
   "cell_type": "code",
   "execution_count": 34,
   "metadata": {},
   "outputs": [],
   "source": [
    "start_point = np.array([['A']])\n",
    "distances = np.load('data/distances.npy')\n",
    "tasks = pd.read_csv('data/tasks.csv')\n",
    "tasks['path'] = tasks['start'] +'-'+ tasks['end']\n",
    "node_names = np.load('data/node_name.npy')"
   ]
  },
  {
   "cell_type": "code",
   "execution_count": 35,
   "metadata": {},
   "outputs": [
    {
     "data": {
      "text/plain": [
       "array([['A']], dtype='<U1')"
      ]
     },
     "execution_count": 35,
     "metadata": {},
     "output_type": "execute_result"
    }
   ],
   "source": [
    "start_point"
   ]
  },
  {
   "cell_type": "code",
   "execution_count": 36,
   "metadata": {},
   "outputs": [
    {
     "data": {
      "text/plain": [
       "array([[  0,  65,   7,  46, 284],\n",
       "       [ 65,   0,  88,  67,  86],\n",
       "       [  7,  88,   0, 121, 294],\n",
       "       [ 46,  67, 121,   0, 194],\n",
       "       [284,  86, 294, 194,   0]])"
      ]
     },
     "execution_count": 36,
     "metadata": {},
     "output_type": "execute_result"
    }
   ],
   "source": [
    "distances"
   ]
  },
  {
   "cell_type": "code",
   "execution_count": 37,
   "metadata": {},
   "outputs": [
    {
     "data": {
      "text/html": [
       "<div>\n",
       "<style scoped>\n",
       "    .dataframe tbody tr th:only-of-type {\n",
       "        vertical-align: middle;\n",
       "    }\n",
       "\n",
       "    .dataframe tbody tr th {\n",
       "        vertical-align: top;\n",
       "    }\n",
       "\n",
       "    .dataframe thead th {\n",
       "        text-align: right;\n",
       "    }\n",
       "</style>\n",
       "<table border=\"1\" class=\"dataframe\">\n",
       "  <thead>\n",
       "    <tr style=\"text-align: right;\">\n",
       "      <th></th>\n",
       "      <th>counts</th>\n",
       "      <th>start</th>\n",
       "      <th>end</th>\n",
       "      <th>path</th>\n",
       "    </tr>\n",
       "  </thead>\n",
       "  <tbody>\n",
       "    <tr>\n",
       "      <th>0</th>\n",
       "      <td>2</td>\n",
       "      <td>A</td>\n",
       "      <td>B</td>\n",
       "      <td>A-B</td>\n",
       "    </tr>\n",
       "    <tr>\n",
       "      <th>1</th>\n",
       "      <td>1</td>\n",
       "      <td>A</td>\n",
       "      <td>C</td>\n",
       "      <td>A-C</td>\n",
       "    </tr>\n",
       "    <tr>\n",
       "      <th>2</th>\n",
       "      <td>1</td>\n",
       "      <td>A</td>\n",
       "      <td>E</td>\n",
       "      <td>A-E</td>\n",
       "    </tr>\n",
       "    <tr>\n",
       "      <th>3</th>\n",
       "      <td>1</td>\n",
       "      <td>C</td>\n",
       "      <td>B</td>\n",
       "      <td>C-B</td>\n",
       "    </tr>\n",
       "    <tr>\n",
       "      <th>4</th>\n",
       "      <td>2</td>\n",
       "      <td>C</td>\n",
       "      <td>D</td>\n",
       "      <td>C-D</td>\n",
       "    </tr>\n",
       "  </tbody>\n",
       "</table>\n",
       "</div>"
      ],
      "text/plain": [
       "   counts start end path\n",
       "0       2     A   B  A-B\n",
       "1       1     A   C  A-C\n",
       "2       1     A   E  A-E\n",
       "3       1     C   B  C-B\n",
       "4       2     C   D  C-D"
      ]
     },
     "execution_count": 37,
     "metadata": {},
     "output_type": "execute_result"
    }
   ],
   "source": [
    "tasks"
   ]
  },
  {
   "cell_type": "code",
   "execution_count": 38,
   "metadata": {},
   "outputs": [
    {
     "data": {
      "text/plain": [
       "array(['A', 'B', 'C', 'D', 'E'], dtype='<U1')"
      ]
     },
     "execution_count": 38,
     "metadata": {},
     "output_type": "execute_result"
    }
   ],
   "source": [
    "node_names # ชื่อของ node ทั้งหมด เอาไว้ map กับ matrix distance"
   ]
  },
  {
   "cell_type": "markdown",
   "metadata": {},
   "source": [
    "# Solve"
   ]
  },
  {
   "cell_type": "markdown",
   "metadata": {},
   "source": [
    "#### Idea\n",
    "- ถ้าอยู่จุดรับ(มีของ) คิดว่ามีงานไรที่เริ่มจากจุดเราบ้าง (จากตาราง tasks ถ้าเราอยู่จุด A เราจะไปได้ 3 จุดคือ B, C, E)\n",
    "- อยู่จุดส่ง(ว่าง) มองหาจุดรับ (ถ้าอยู่ที่ B ก็ต้องกลับไปไม่ A ก็ C เพื่อรับของไปส่งใหม่)\n",
    "- ทำซ้ำไปเรื่อยๆ จนงานหมด"
   ]
  },
  {
   "cell_type": "markdown",
   "metadata": {},
   "source": [
    "จาก idea พบว่าน่าจะมี function สำหรับแต่ละงานดังนี้\n",
    "1. จาก table tasks ถ้าใส่ path ปัจจุบันเข้าไปแล้วบอกว่าตอนนี้เหลือ task อะไรบ้าง เช่น [A-B,B-A,A-C,C-X] อาจบอกว่าเหลือ 2 task คือ A-E กับ C-D\n",
    "2. กรณีที่งานยังไม่หมด check ว่าที่ตัวเองอยู่เป็นจุดรับหรือส่ง แล้วบอกว่าจะไปจุดไหนต่อจากจุดนี้\n",
    "    - ถ้าอยู่ส่ง ควรไปจุดรับ\n",
    "    - ถ้าอยู่จุดรับ(หรือจุดที่ไม่ใช่จุดส่ง) ควรกลับไปจุดส่ง\n",
    "3. ฟังก์ชั่นสร้าง matrix ของงานทั้งหมดที่เป็นไปได้ใน step ถัดไป จาก งานที่ทำไปแล้ว(row หนึ่ง) และ task ที่เหลือ(เอา row ยัดใส่ 1.)\n",
    "4. ทำซ้ำเรื่อยๆ จน column สุดท้ายเป็น '0' หมด\n",
    "5. คำนวณระยะทางของแต่ละเส้นทางจากตัวแปร distance\n",
    "    - แบ่งเป็นระยะทางที่ + และ - \n",
    "    - ลบ path ที่ให้ผลเหมือนกันออก"
   ]
  },
  {
   "cell_type": "code",
   "execution_count": 130,
   "metadata": {},
   "outputs": [],
   "source": [
    "# 1. for each path - check how much the job done.\n",
    "def checkRemainingTasks(job_done, tasks):\n",
    "    remaining_tasks = tasks.copy()\n",
    "    active_path = tasks['path'].values\n",
    "    \n",
    "    # สนเฉพาะ job ที่อยู่ใน tasks\n",
    "    job_done = job_done[np.isin(job_done, active_path)] \n",
    "    \n",
    "    for job in job_done:\n",
    "        if len(remaining_tasks) > 0:\n",
    "            remaining_tasks.loc[remaining_tasks['path'] == job, 'counts'] = remaining_tasks[remaining_tasks['path'] == job]['counts'] - 1\n",
    "            remaining_tasks = remaining_tasks[remaining_tasks['counts'] != 0]\n",
    "\n",
    "            number_of_rmtasks = sum(remaining_tasks['counts'])\n",
    "            \n",
    "    # return task ที่ job ยังไม่ได้ทำ ถ้าทำหมดแล้วจะ return table เปล่า\n",
    "    return remaining_tasks\n",
    "\n",
    "# 2.\n",
    "def startOrEnd(current_position,rm_task):\n",
    "    if len(rm_task) > 0:\n",
    "        start_set = rm_tasks['start'].unique()\n",
    "        end_set = rm_tasks['end'].unique()\n",
    "    \n",
    "        # ถ้าอยู่ในกลุ่ม start ต้องไปจุด end ของ position ที่เราอยู่\n",
    "        if current_position in start_set:\n",
    "            return rm_task[rm_task['start'] == current_position]['end'].values\n",
    "        # ถ้าอยู่ในกลุ่ม end ต้องไปกลุ่ม start\n",
    "        elif current_position in end_set:\n",
    "            return start_set\n",
    "        \n",
    "        # ถ้าไม่อยู่ทั้งคู่ไปจุด start\n",
    "        else:\n",
    "            return start_set\n",
    "    else:\n",
    "        return 0\n",
    "\n",
    "# 3.\n",
    "def nextJobsMatrix(job_done,next_nodes):\n",
    "    current_position = job_done[-1].split('-')[-1]\n",
    "    next_jobs = current_position + '-' + next_nodes\n",
    "    \n",
    "    output = np.empty((0,len(job_done) + 1), str) if len(job_done[0]) > 1 else np.empty((0,1), str)\n",
    "\n",
    "    for next_job in next_jobs:\n",
    "        if len(job_done[0]) > 1:\n",
    "            next_job_done = np.append(job_done,next_job)\n",
    "            output = np.vstack((output, next_job_done))\n",
    "        else:\n",
    "            output = np.vstack((output, next_job))\n",
    "    return output\n",
    "\n",
    "# 4.\n",
    "def allTasksPath(before_path,tasks):\n",
    "    output = np.empty((0,before_path.shape[1] + 1), str) if len(before_path[0,0]) > 1 else np.empty((0,1), str)\n",
    "    \n",
    "    for each_row in before_path:\n",
    "        current_position = each_row[-1].split('-')[-1]\n",
    "        remaining_jobs = checkRemainingTasks(each_row,tasks)\n",
    "\n",
    "        if len(remaining_jobs) == 0:\n",
    "            job_matrix = np.append(each_row,'0')\n",
    "        else:\n",
    "            next_nodes = startOrEnd(current_position,remaining_jobs)\n",
    "            job_matrix = nextJobsMatrix(each_row,next_nodes)\n",
    "        output = np.vstack((output, job_matrix))\n",
    "\n",
    "    last_column = output[:,-1]\n",
    "    all_zero = sum(last_column == '0')\n",
    "    print('Output :')\n",
    "    print(output)\n",
    "    if all_zero == len(last_column):\n",
    "        return output\n",
    "    else:\n",
    "        return allTasksPath(output,tasks)"
   ]
  },
  {
   "cell_type": "markdown",
   "metadata": {},
   "source": [
    "#### ทดสอบ"
   ]
  },
  {
   "cell_type": "markdown",
   "metadata": {},
   "source": [
    "ตอนอยู่ A ที่จุดแรกเลย"
   ]
  },
  {
   "cell_type": "code",
   "execution_count": 112,
   "metadata": {},
   "outputs": [
    {
     "data": {
      "text/plain": [
       "array([['A']], dtype='<U1')"
      ]
     },
     "execution_count": 112,
     "metadata": {},
     "output_type": "execute_result"
    }
   ],
   "source": [
    "start_point"
   ]
  },
  {
   "cell_type": "code",
   "execution_count": 113,
   "metadata": {},
   "outputs": [
    {
     "data": {
      "text/plain": [
       "'A'"
      ]
     },
     "execution_count": 113,
     "metadata": {},
     "output_type": "execute_result"
    }
   ],
   "source": [
    "current_position = start_point[0][-1].split('-')[-1]\n",
    "current_position"
   ]
  },
  {
   "cell_type": "code",
   "execution_count": 114,
   "metadata": {},
   "outputs": [
    {
     "data": {
      "text/html": [
       "<div>\n",
       "<style scoped>\n",
       "    .dataframe tbody tr th:only-of-type {\n",
       "        vertical-align: middle;\n",
       "    }\n",
       "\n",
       "    .dataframe tbody tr th {\n",
       "        vertical-align: top;\n",
       "    }\n",
       "\n",
       "    .dataframe thead th {\n",
       "        text-align: right;\n",
       "    }\n",
       "</style>\n",
       "<table border=\"1\" class=\"dataframe\">\n",
       "  <thead>\n",
       "    <tr style=\"text-align: right;\">\n",
       "      <th></th>\n",
       "      <th>counts</th>\n",
       "      <th>start</th>\n",
       "      <th>end</th>\n",
       "      <th>path</th>\n",
       "    </tr>\n",
       "  </thead>\n",
       "  <tbody>\n",
       "    <tr>\n",
       "      <th>0</th>\n",
       "      <td>2</td>\n",
       "      <td>A</td>\n",
       "      <td>B</td>\n",
       "      <td>A-B</td>\n",
       "    </tr>\n",
       "    <tr>\n",
       "      <th>1</th>\n",
       "      <td>1</td>\n",
       "      <td>A</td>\n",
       "      <td>C</td>\n",
       "      <td>A-C</td>\n",
       "    </tr>\n",
       "    <tr>\n",
       "      <th>2</th>\n",
       "      <td>1</td>\n",
       "      <td>A</td>\n",
       "      <td>E</td>\n",
       "      <td>A-E</td>\n",
       "    </tr>\n",
       "    <tr>\n",
       "      <th>3</th>\n",
       "      <td>1</td>\n",
       "      <td>C</td>\n",
       "      <td>B</td>\n",
       "      <td>C-B</td>\n",
       "    </tr>\n",
       "    <tr>\n",
       "      <th>4</th>\n",
       "      <td>2</td>\n",
       "      <td>C</td>\n",
       "      <td>D</td>\n",
       "      <td>C-D</td>\n",
       "    </tr>\n",
       "  </tbody>\n",
       "</table>\n",
       "</div>"
      ],
      "text/plain": [
       "   counts start end path\n",
       "0       2     A   B  A-B\n",
       "1       1     A   C  A-C\n",
       "2       1     A   E  A-E\n",
       "3       1     C   B  C-B\n",
       "4       2     C   D  C-D"
      ]
     },
     "execution_count": 114,
     "metadata": {},
     "output_type": "execute_result"
    }
   ],
   "source": [
    "rm_tasks = checkRemainingTasks(start_point,tasks)\n",
    "rm_tasks"
   ]
  },
  {
   "cell_type": "markdown",
   "metadata": {},
   "source": [
    "อยู่ที่จุดเริ่ม งานที่เหลือเท่ากับงานทั้งหมด"
   ]
  },
  {
   "cell_type": "code",
   "execution_count": 115,
   "metadata": {},
   "outputs": [
    {
     "data": {
      "text/plain": [
       "array(['B', 'C', 'E'], dtype=object)"
      ]
     },
     "execution_count": 115,
     "metadata": {},
     "output_type": "execute_result"
    }
   ],
   "source": [
    "next_nodes = startOrEnd(current_position,rm_tasks)\n",
    "next_nodes"
   ]
  },
  {
   "cell_type": "markdown",
   "metadata": {},
   "source": [
    "จากจุด A ผลออกมาว่าควรไป B,C,E "
   ]
  },
  {
   "cell_type": "code",
   "execution_count": 116,
   "metadata": {},
   "outputs": [
    {
     "data": {
      "text/plain": [
       "array(['A-B', 'A-C', 'A-E'], dtype=object)"
      ]
     },
     "execution_count": 116,
     "metadata": {},
     "output_type": "execute_result"
    }
   ],
   "source": [
    "next_jobs = current_position + '-' + next_nodes\n",
    "next_jobs"
   ]
  },
  {
   "cell_type": "markdown",
   "metadata": {},
   "source": [
    "ทำให้อยู่ใน format Start-End"
   ]
  },
  {
   "cell_type": "markdown",
   "metadata": {},
   "source": [
    "ลองทำเป็น recursive function stack matrix ซ้อนกันเรื่อยๆ จะได้"
   ]
  },
  {
   "cell_type": "code",
   "execution_count": 131,
   "metadata": {},
   "outputs": [
    {
     "name": "stdout",
     "output_type": "stream",
     "text": [
      "Output :\n",
      "[['A-B']\n",
      " ['A-C']\n",
      " ['A-E']]\n",
      "Output :\n",
      "[['A-B' 'B-A']\n",
      " ['A-B' 'B-C']\n",
      " ['A-C' 'C-B']\n",
      " ['A-C' 'C-D']\n",
      " ['A-E' 'E-A']\n",
      " ['A-E' 'E-C']]\n",
      "Output :\n",
      "[['A-B' 'B-A' 'A-B']\n",
      " ['A-B' 'B-A' 'A-C']\n",
      " ['A-B' 'B-A' 'A-E']\n",
      " ['A-B' 'B-C' 'C-B']\n",
      " ['A-B' 'B-C' 'C-D']\n",
      " ['A-C' 'C-B' 'B-A']\n",
      " ['A-C' 'C-B' 'B-C']\n",
      " ['A-C' 'C-D' 'D-A']\n",
      " ['A-C' 'C-D' 'D-C']\n",
      " ['A-E' 'E-A' 'A-B']\n",
      " ['A-E' 'E-A' 'A-C']\n",
      " ['A-E' 'E-C' 'C-B']\n",
      " ['A-E' 'E-C' 'C-D']]\n",
      "Output :\n",
      "[['A-B' 'B-A' 'A-B' 'B-A']\n",
      " ['A-B' 'B-A' 'A-B' 'B-C']\n",
      " ['A-B' 'B-A' 'A-C' 'C-B']\n",
      " ['A-B' 'B-A' 'A-C' 'C-D']\n",
      " ['A-B' 'B-A' 'A-E' 'E-A']\n",
      " ['A-B' 'B-A' 'A-E' 'E-C']\n",
      " ['A-B' 'B-C' 'C-B' 'B-A']\n",
      " ['A-B' 'B-C' 'C-B' 'B-C']\n",
      " ['A-B' 'B-C' 'C-D' 'D-A']\n",
      " ['A-B' 'B-C' 'C-D' 'D-C']\n",
      " ['A-C' 'C-B' 'B-A' 'A-B']\n",
      " ['A-C' 'C-B' 'B-A' 'A-E']\n",
      " ['A-C' 'C-B' 'B-C' 'C-D']\n",
      " ['A-C' 'C-D' 'D-A' 'A-B']\n",
      " ['A-C' 'C-D' 'D-A' 'A-E']\n",
      " ['A-C' 'C-D' 'D-C' 'C-B']\n",
      " ['A-C' 'C-D' 'D-C' 'C-D']\n",
      " ['A-E' 'E-A' 'A-B' 'B-A']\n",
      " ['A-E' 'E-A' 'A-B' 'B-C']\n",
      " ['A-E' 'E-A' 'A-C' 'C-B']\n",
      " ['A-E' 'E-A' 'A-C' 'C-D']\n",
      " ['A-E' 'E-C' 'C-B' 'B-A']\n",
      " ['A-E' 'E-C' 'C-B' 'B-C']\n",
      " ['A-E' 'E-C' 'C-D' 'D-A']\n",
      " ['A-E' 'E-C' 'C-D' 'D-C']]\n",
      "Output :\n",
      "[['A-B' 'B-A' 'A-B' 'B-A' 'A-C']\n",
      " ['A-B' 'B-A' 'A-B' 'B-A' 'A-E']\n",
      " ['A-B' 'B-A' 'A-B' 'B-C' 'C-B']\n",
      " ['A-B' 'B-A' 'A-B' 'B-C' 'C-D']\n",
      " ['A-B' 'B-A' 'A-C' 'C-B' 'B-A']\n",
      " ['A-B' 'B-A' 'A-C' 'C-B' 'B-C']\n",
      " ['A-B' 'B-A' 'A-C' 'C-D' 'D-A']\n",
      " ['A-B' 'B-A' 'A-C' 'C-D' 'D-C']\n",
      " ['A-B' 'B-A' 'A-E' 'E-A' 'A-B']\n",
      " ['A-B' 'B-A' 'A-E' 'E-A' 'A-C']\n",
      " ['A-B' 'B-A' 'A-E' 'E-C' 'C-B']\n",
      " ['A-B' 'B-A' 'A-E' 'E-C' 'C-D']\n",
      " ['A-B' 'B-C' 'C-B' 'B-A' 'A-B']\n",
      " ['A-B' 'B-C' 'C-B' 'B-A' 'A-C']\n",
      " ['A-B' 'B-C' 'C-B' 'B-A' 'A-E']\n",
      " ['A-B' 'B-C' 'C-B' 'B-C' 'C-D']\n",
      " ['A-B' 'B-C' 'C-D' 'D-A' 'A-B']\n",
      " ['A-B' 'B-C' 'C-D' 'D-A' 'A-C']\n",
      " ['A-B' 'B-C' 'C-D' 'D-A' 'A-E']\n",
      " ['A-B' 'B-C' 'C-D' 'D-C' 'C-B']\n",
      " ['A-B' 'B-C' 'C-D' 'D-C' 'C-D']\n",
      " ['A-C' 'C-B' 'B-A' 'A-B' 'B-A']\n",
      " ['A-C' 'C-B' 'B-A' 'A-B' 'B-C']\n",
      " ['A-C' 'C-B' 'B-A' 'A-E' 'E-A']\n",
      " ['A-C' 'C-B' 'B-A' 'A-E' 'E-C']\n",
      " ['A-C' 'C-B' 'B-C' 'C-D' 'D-A']\n",
      " ['A-C' 'C-B' 'B-C' 'C-D' 'D-C']\n",
      " ['A-C' 'C-D' 'D-A' 'A-B' 'B-A']\n",
      " ['A-C' 'C-D' 'D-A' 'A-B' 'B-C']\n",
      " ['A-C' 'C-D' 'D-A' 'A-E' 'E-A']\n",
      " ['A-C' 'C-D' 'D-A' 'A-E' 'E-C']\n",
      " ['A-C' 'C-D' 'D-C' 'C-B' 'B-A']\n",
      " ['A-C' 'C-D' 'D-C' 'C-B' 'B-C']\n",
      " ['A-C' 'C-D' 'D-C' 'C-D' 'D-A']\n",
      " ['A-C' 'C-D' 'D-C' 'C-D' 'D-C']\n",
      " ['A-E' 'E-A' 'A-B' 'B-A' 'A-B']\n",
      " ['A-E' 'E-A' 'A-B' 'B-A' 'A-C']\n",
      " ['A-E' 'E-A' 'A-B' 'B-C' 'C-B']\n",
      " ['A-E' 'E-A' 'A-B' 'B-C' 'C-D']\n",
      " ['A-E' 'E-A' 'A-C' 'C-B' 'B-A']\n",
      " ['A-E' 'E-A' 'A-C' 'C-B' 'B-C']\n",
      " ['A-E' 'E-A' 'A-C' 'C-D' 'D-A']\n",
      " ['A-E' 'E-A' 'A-C' 'C-D' 'D-C']\n",
      " ['A-E' 'E-C' 'C-B' 'B-A' 'A-B']\n",
      " ['A-E' 'E-C' 'C-B' 'B-A' 'A-C']\n",
      " ['A-E' 'E-C' 'C-B' 'B-C' 'C-D']\n",
      " ['A-E' 'E-C' 'C-D' 'D-A' 'A-B']\n",
      " ['A-E' 'E-C' 'C-D' 'D-A' 'A-C']\n",
      " ['A-E' 'E-C' 'C-D' 'D-C' 'C-B']\n",
      " ['A-E' 'E-C' 'C-D' 'D-C' 'C-D']]\n",
      "Output :\n",
      "[['A-B' 'B-A' 'A-B' 'B-A' 'A-C' 'C-B']\n",
      " ['A-B' 'B-A' 'A-B' 'B-A' 'A-C' 'C-D']\n",
      " ['A-B' 'B-A' 'A-B' 'B-A' 'A-E' 'E-A']\n",
      " ['A-B' 'B-A' 'A-B' 'B-A' 'A-E' 'E-C']\n",
      " ['A-B' 'B-A' 'A-B' 'B-C' 'C-B' 'B-A']\n",
      " ['A-B' 'B-A' 'A-B' 'B-C' 'C-B' 'B-C']\n",
      " ['A-B' 'B-A' 'A-B' 'B-C' 'C-D' 'D-A']\n",
      " ['A-B' 'B-A' 'A-B' 'B-C' 'C-D' 'D-C']\n",
      " ['A-B' 'B-A' 'A-C' 'C-B' 'B-A' 'A-B']\n",
      " ['A-B' 'B-A' 'A-C' 'C-B' 'B-A' 'A-E']\n",
      " ['A-B' 'B-A' 'A-C' 'C-B' 'B-C' 'C-D']\n",
      " ['A-B' 'B-A' 'A-C' 'C-D' 'D-A' 'A-B']\n",
      " ['A-B' 'B-A' 'A-C' 'C-D' 'D-A' 'A-E']\n",
      " ['A-B' 'B-A' 'A-C' 'C-D' 'D-C' 'C-B']\n",
      " ['A-B' 'B-A' 'A-C' 'C-D' 'D-C' 'C-D']\n",
      " ['A-B' 'B-A' 'A-E' 'E-A' 'A-B' 'B-A']\n",
      " ['A-B' 'B-A' 'A-E' 'E-A' 'A-B' 'B-C']\n",
      " ['A-B' 'B-A' 'A-E' 'E-A' 'A-C' 'C-B']\n",
      " ['A-B' 'B-A' 'A-E' 'E-A' 'A-C' 'C-D']\n",
      " ['A-B' 'B-A' 'A-E' 'E-C' 'C-B' 'B-A']\n",
      " ['A-B' 'B-A' 'A-E' 'E-C' 'C-B' 'B-C']\n",
      " ['A-B' 'B-A' 'A-E' 'E-C' 'C-D' 'D-A']\n",
      " ['A-B' 'B-A' 'A-E' 'E-C' 'C-D' 'D-C']\n",
      " ['A-B' 'B-C' 'C-B' 'B-A' 'A-B' 'B-A']\n",
      " ['A-B' 'B-C' 'C-B' 'B-A' 'A-B' 'B-C']\n",
      " ['A-B' 'B-C' 'C-B' 'B-A' 'A-C' 'C-D']\n",
      " ['A-B' 'B-C' 'C-B' 'B-A' 'A-E' 'E-A']\n",
      " ['A-B' 'B-C' 'C-B' 'B-A' 'A-E' 'E-C']\n",
      " ['A-B' 'B-C' 'C-B' 'B-C' 'C-D' 'D-A']\n",
      " ['A-B' 'B-C' 'C-B' 'B-C' 'C-D' 'D-C']\n",
      " ['A-B' 'B-C' 'C-D' 'D-A' 'A-B' 'B-A']\n",
      " ['A-B' 'B-C' 'C-D' 'D-A' 'A-B' 'B-C']\n",
      " ['A-B' 'B-C' 'C-D' 'D-A' 'A-C' 'C-B']\n",
      " ['A-B' 'B-C' 'C-D' 'D-A' 'A-C' 'C-D']\n",
      " ['A-B' 'B-C' 'C-D' 'D-A' 'A-E' 'E-A']\n",
      " ['A-B' 'B-C' 'C-D' 'D-A' 'A-E' 'E-C']\n",
      " ['A-B' 'B-C' 'C-D' 'D-C' 'C-B' 'B-A']\n",
      " ['A-B' 'B-C' 'C-D' 'D-C' 'C-B' 'B-C']\n",
      " ['A-B' 'B-C' 'C-D' 'D-C' 'C-D' 'D-A']\n",
      " ['A-B' 'B-C' 'C-D' 'D-C' 'C-D' 'D-C']\n",
      " ['A-C' 'C-B' 'B-A' 'A-B' 'B-A' 'A-B']\n",
      " ['A-C' 'C-B' 'B-A' 'A-B' 'B-A' 'A-E']\n",
      " ['A-C' 'C-B' 'B-A' 'A-B' 'B-C' 'C-D']\n",
      " ['A-C' 'C-B' 'B-A' 'A-E' 'E-A' 'A-B']\n",
      " ['A-C' 'C-B' 'B-A' 'A-E' 'E-C' 'C-D']\n",
      " ['A-C' 'C-B' 'B-C' 'C-D' 'D-A' 'A-B']\n",
      " ['A-C' 'C-B' 'B-C' 'C-D' 'D-A' 'A-E']\n",
      " ['A-C' 'C-B' 'B-C' 'C-D' 'D-C' 'C-D']\n",
      " ['A-C' 'C-D' 'D-A' 'A-B' 'B-A' 'A-B']\n",
      " ['A-C' 'C-D' 'D-A' 'A-B' 'B-A' 'A-E']\n",
      " ['A-C' 'C-D' 'D-A' 'A-B' 'B-C' 'C-B']\n",
      " ['A-C' 'C-D' 'D-A' 'A-B' 'B-C' 'C-D']\n",
      " ['A-C' 'C-D' 'D-A' 'A-E' 'E-A' 'A-B']\n",
      " ['A-C' 'C-D' 'D-A' 'A-E' 'E-C' 'C-B']\n",
      " ['A-C' 'C-D' 'D-A' 'A-E' 'E-C' 'C-D']\n",
      " ['A-C' 'C-D' 'D-C' 'C-B' 'B-A' 'A-B']\n",
      " ['A-C' 'C-D' 'D-C' 'C-B' 'B-A' 'A-E']\n",
      " ['A-C' 'C-D' 'D-C' 'C-B' 'B-C' 'C-D']\n",
      " ['A-C' 'C-D' 'D-C' 'C-D' 'D-A' 'A-B']\n",
      " ['A-C' 'C-D' 'D-C' 'C-D' 'D-A' 'A-E']\n",
      " ['A-C' 'C-D' 'D-C' 'C-D' 'D-C' 'C-B']\n",
      " ['A-E' 'E-A' 'A-B' 'B-A' 'A-B' 'B-A']\n",
      " ['A-E' 'E-A' 'A-B' 'B-A' 'A-B' 'B-C']\n",
      " ['A-E' 'E-A' 'A-B' 'B-A' 'A-C' 'C-B']\n",
      " ['A-E' 'E-A' 'A-B' 'B-A' 'A-C' 'C-D']\n",
      " ['A-E' 'E-A' 'A-B' 'B-C' 'C-B' 'B-A']\n",
      " ['A-E' 'E-A' 'A-B' 'B-C' 'C-B' 'B-C']\n",
      " ['A-E' 'E-A' 'A-B' 'B-C' 'C-D' 'D-A']\n",
      " ['A-E' 'E-A' 'A-B' 'B-C' 'C-D' 'D-C']\n",
      " ['A-E' 'E-A' 'A-C' 'C-B' 'B-A' 'A-B']\n",
      " ['A-E' 'E-A' 'A-C' 'C-B' 'B-C' 'C-D']\n",
      " ['A-E' 'E-A' 'A-C' 'C-D' 'D-A' 'A-B']\n",
      " ['A-E' 'E-A' 'A-C' 'C-D' 'D-C' 'C-B']\n",
      " ['A-E' 'E-A' 'A-C' 'C-D' 'D-C' 'C-D']\n",
      " ['A-E' 'E-C' 'C-B' 'B-A' 'A-B' 'B-A']\n",
      " ['A-E' 'E-C' 'C-B' 'B-A' 'A-B' 'B-C']\n",
      " ['A-E' 'E-C' 'C-B' 'B-A' 'A-C' 'C-D']\n",
      " ['A-E' 'E-C' 'C-B' 'B-C' 'C-D' 'D-A']\n",
      " ['A-E' 'E-C' 'C-B' 'B-C' 'C-D' 'D-C']\n",
      " ['A-E' 'E-C' 'C-D' 'D-A' 'A-B' 'B-A']\n",
      " ['A-E' 'E-C' 'C-D' 'D-A' 'A-B' 'B-C']\n",
      " ['A-E' 'E-C' 'C-D' 'D-A' 'A-C' 'C-B']\n",
      " ['A-E' 'E-C' 'C-D' 'D-A' 'A-C' 'C-D']\n",
      " ['A-E' 'E-C' 'C-D' 'D-C' 'C-B' 'B-A']\n",
      " ['A-E' 'E-C' 'C-D' 'D-C' 'C-B' 'B-C']\n",
      " ['A-E' 'E-C' 'C-D' 'D-C' 'C-D' 'D-A']\n",
      " ['A-E' 'E-C' 'C-D' 'D-C' 'C-D' 'D-C']]\n",
      "Output :\n",
      "[['A-B' 'B-A' 'A-B' ... 'A-C' 'C-B' 'B-A']\n",
      " ['A-B' 'B-A' 'A-B' ... 'A-C' 'C-B' 'B-C']\n",
      " ['A-B' 'B-A' 'A-B' ... 'A-C' 'C-D' 'D-A']\n",
      " ...\n",
      " ['A-E' 'E-C' 'C-D' ... 'C-D' 'D-A' 'A-B']\n",
      " ['A-E' 'E-C' 'C-D' ... 'C-D' 'D-A' 'A-C']\n",
      " ['A-E' 'E-C' 'C-D' ... 'C-D' 'D-C' 'C-B']]\n",
      "Output :\n",
      "[['A-B' 'B-A' 'A-B' ... 'C-B' 'B-A' 'A-E']\n",
      " ['A-B' 'B-A' 'A-B' ... 'C-B' 'B-C' 'C-D']\n",
      " ['A-B' 'B-A' 'A-B' ... 'C-D' 'D-A' 'A-E']\n",
      " ...\n",
      " ['A-E' 'E-C' 'C-D' ... 'D-A' 'A-C' 'C-B']\n",
      " ['A-E' 'E-C' 'C-D' ... 'D-C' 'C-B' 'B-A']\n",
      " ['A-E' 'E-C' 'C-D' ... 'D-C' 'C-B' 'B-C']]\n",
      "Output :\n",
      "[['A-B' 'B-A' 'A-B' ... 'B-A' 'A-E' 'E-A']\n",
      " ['A-B' 'B-A' 'A-B' ... 'B-A' 'A-E' 'E-C']\n",
      " ['A-B' 'B-A' 'A-B' ... 'B-C' 'C-D' 'D-A']\n",
      " ...\n",
      " ['A-E' 'E-C' 'C-D' ... 'A-C' 'C-B' 'B-C']\n",
      " ['A-E' 'E-C' 'C-D' ... 'C-B' 'B-A' 'A-B']\n",
      " ['A-E' 'E-C' 'C-D' ... 'C-B' 'B-A' 'A-C']]\n",
      "Output :\n",
      "[['A-B' 'B-A' 'A-B' ... 'A-E' 'E-C' 'C-D']\n",
      " ['A-B' 'B-A' 'A-B' ... 'C-D' 'D-A' 'A-E']\n",
      " ['A-B' 'B-A' 'A-B' ... 'C-D' 'D-C' 'C-D']\n",
      " ...\n",
      " ['A-E' 'E-C' 'C-D' ... 'C-B' 'B-A' 'A-B']\n",
      " ['A-E' 'E-C' 'C-D' ... 'B-A' 'A-B' 'B-A']\n",
      " ['A-E' 'E-C' 'C-D' ... 'B-A' 'A-B' 'B-C']]\n",
      "Output :\n",
      "[['A-B' 'B-A' 'A-B' ... 'E-C' 'C-D' 'D-A']\n",
      " ['A-B' 'B-A' 'A-B' ... 'E-C' 'C-D' 'D-C']\n",
      " ['A-B' 'B-A' 'A-B' ... 'D-A' 'A-E' 'E-A']\n",
      " ...\n",
      " ['A-E' 'E-C' 'C-D' ... 'B-A' 'A-B' 'B-C']\n",
      " ['A-E' 'E-C' 'C-D' ... 'A-B' 'B-A' 'A-B']\n",
      " ['A-E' 'E-C' 'C-D' ... 'A-B' 'B-A' 'A-C']]\n",
      "Output :\n",
      "[['A-B' 'B-A' 'A-B' ... 'C-D' 'D-C' 'C-D']\n",
      " ['A-B' 'B-A' 'A-B' ... 'A-E' 'E-C' 'C-D']\n",
      " ['A-B' 'B-A' 'A-B' ... 'C-D' 'D-A' 'A-E']\n",
      " ...\n",
      " ['A-E' 'E-C' 'C-D' ... 'A-B' 'B-A' 'A-B']\n",
      " ['A-E' 'E-C' 'C-D' ... 'B-A' 'A-B' 'B-A']\n",
      " ['A-E' 'E-C' 'C-D' ... 'B-A' 'A-B' 'B-C']]\n",
      "Output :\n",
      "[['A-B' 'B-A' 'A-B' ... 'D-C' 'C-D' '0']\n",
      " ['A-B' 'B-A' 'A-B' ... 'E-C' 'C-D' '0']\n",
      " ['A-B' 'B-A' 'A-B' ... 'D-A' 'A-E' '0']\n",
      " ...\n",
      " ['A-E' 'E-C' 'C-D' ... 'A-B' 'B-A' 'A-C']\n",
      " ['A-E' 'E-C' 'C-D' ... 'B-A' 'A-B' '0']\n",
      " ['A-E' 'E-C' 'C-D' ... 'A-B' 'B-A' 'A-C']]\n",
      "Output :\n",
      "[['A-B' 'B-A' 'A-B' ... 'C-D' '0' '0']\n",
      " ['A-B' 'B-A' 'A-B' ... 'C-D' '0' '0']\n",
      " ['A-B' 'B-A' 'A-B' ... 'A-E' '0' '0']\n",
      " ...\n",
      " ['A-E' 'E-C' 'C-D' ... 'B-A' 'A-C' '0']\n",
      " ['A-E' 'E-C' 'C-D' ... 'A-B' '0' '0']\n",
      " ['A-E' 'E-C' 'C-D' ... 'B-A' 'A-C' '0']]\n"
     ]
    }
   ],
   "source": [
    "all_paths = allTasksPath(start_point,tasks)"
   ]
  },
  {
   "cell_type": "markdown",
   "metadata": {},
   "source": [
    "ลองเชคคำตอบ"
   ]
  },
  {
   "cell_type": "code",
   "execution_count": 135,
   "metadata": {},
   "outputs": [
    {
     "data": {
      "text/plain": [
       "(450, 14)"
      ]
     },
     "execution_count": 135,
     "metadata": {},
     "output_type": "execute_result"
    }
   ],
   "source": [
    "all_paths.shape"
   ]
  },
  {
   "cell_type": "code",
   "execution_count": 134,
   "metadata": {},
   "outputs": [
    {
     "data": {
      "text/plain": [
       "array([['A-B', 'B-A', 'A-B', ..., 'C-D', '0', '0'],\n",
       "       ['A-B', 'B-A', 'A-B', ..., 'C-D', '0', '0'],\n",
       "       ['A-B', 'B-A', 'A-B', ..., 'A-E', '0', '0'],\n",
       "       ...,\n",
       "       ['A-E', 'E-C', 'C-D', ..., 'B-A', 'A-C', '0'],\n",
       "       ['A-E', 'E-C', 'C-D', ..., 'A-B', '0', '0'],\n",
       "       ['A-E', 'E-C', 'C-D', ..., 'B-A', 'A-C', '0']], dtype='<U3')"
      ]
     },
     "execution_count": 134,
     "metadata": {},
     "output_type": "execute_result"
    }
   ],
   "source": [
    "all_paths"
   ]
  },
  {
   "cell_type": "markdown",
   "metadata": {},
   "source": [
    "จะเห็นว่า columns สุดท้ายเป็น 0 หมดแล้ว"
   ]
  },
  {
   "cell_type": "code",
   "execution_count": 145,
   "metadata": {},
   "outputs": [
    {
     "data": {
      "text/plain": [
       "array(['A-C', 'C-D', 'D-C', 'C-B', 'B-A', 'A-B', 'B-A', 'A-E', 'E-C',\n",
       "       'C-D', 'D-A', 'A-B', '0', '0'], dtype='<U3')"
      ]
     },
     "execution_count": 145,
     "metadata": {},
     "output_type": "execute_result"
    }
   ],
   "source": [
    "all_paths[309]"
   ]
  },
  {
   "cell_type": "markdown",
   "metadata": {},
   "source": [
    "สุ่มทดสองสัก tasks ดูว่างานหมดจริงไหม"
   ]
  },
  {
   "cell_type": "code",
   "execution_count": 146,
   "metadata": {},
   "outputs": [
    {
     "data": {
      "text/html": [
       "<div>\n",
       "<style scoped>\n",
       "    .dataframe tbody tr th:only-of-type {\n",
       "        vertical-align: middle;\n",
       "    }\n",
       "\n",
       "    .dataframe tbody tr th {\n",
       "        vertical-align: top;\n",
       "    }\n",
       "\n",
       "    .dataframe thead th {\n",
       "        text-align: right;\n",
       "    }\n",
       "</style>\n",
       "<table border=\"1\" class=\"dataframe\">\n",
       "  <thead>\n",
       "    <tr style=\"text-align: right;\">\n",
       "      <th></th>\n",
       "      <th>counts</th>\n",
       "      <th>start</th>\n",
       "      <th>end</th>\n",
       "      <th>path</th>\n",
       "    </tr>\n",
       "  </thead>\n",
       "  <tbody>\n",
       "  </tbody>\n",
       "</table>\n",
       "</div>"
      ],
      "text/plain": [
       "Empty DataFrame\n",
       "Columns: [counts, start, end, path]\n",
       "Index: []"
      ]
     },
     "execution_count": 146,
     "metadata": {},
     "output_type": "execute_result"
    }
   ],
   "source": [
    "checkRemainingTasks(all_paths[309], tasks)"
   ]
  },
  {
   "cell_type": "markdown",
   "metadata": {},
   "source": [
    "งานหมดจริง"
   ]
  },
  {
   "cell_type": "markdown",
   "metadata": {},
   "source": [
    "คำนวณ distances"
   ]
  },
  {
   "cell_type": "code",
   "execution_count": 147,
   "metadata": {},
   "outputs": [
    {
     "data": {
      "text/plain": [
       "array([[  0,  65,   7,  46, 284],\n",
       "       [ 65,   0,  88,  67,  86],\n",
       "       [  7,  88,   0, 121, 294],\n",
       "       [ 46,  67, 121,   0, 194],\n",
       "       [284,  86, 294, 194,   0]])"
      ]
     },
     "execution_count": 147,
     "metadata": {},
     "output_type": "execute_result"
    }
   ],
   "source": [
    "distances"
   ]
  },
  {
   "cell_type": "code",
   "execution_count": null,
   "metadata": {},
   "outputs": [],
   "source": []
  }
 ],
 "metadata": {
  "kernelspec": {
   "display_name": "Python 3",
   "language": "python",
   "name": "python3"
  },
  "language_info": {
   "codemirror_mode": {
    "name": "ipython",
    "version": 3
   },
   "file_extension": ".py",
   "mimetype": "text/x-python",
   "name": "python",
   "nbconvert_exporter": "python",
   "pygments_lexer": "ipython3",
   "version": "3.6.8"
  }
 },
 "nbformat": 4,
 "nbformat_minor": 2
}
