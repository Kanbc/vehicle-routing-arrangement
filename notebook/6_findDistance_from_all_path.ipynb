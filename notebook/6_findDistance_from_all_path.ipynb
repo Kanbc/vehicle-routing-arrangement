{
 "cells": [
  {
   "cell_type": "code",
   "execution_count": 70,
   "metadata": {},
   "outputs": [
    {
     "name": "stdout",
     "output_type": "stream",
     "text": [
      "Number of Core : 4\n"
     ]
    }
   ],
   "source": [
    "import numpy as np\n",
    "import pandas as pd\n",
    "import time\n",
    "import multiprocessing as mp\n",
    "print('Number of Core :',mp.cpu_count())\n",
    "\n",
    "class VehicleRoutingArrangement:\n",
    "    def __init__(self, node_names, distances_matrix, tasks):\n",
    "        self.full_node_names = node_names\n",
    "        self.node_names = node_names['name'].values\n",
    "        self.distances = distances_matrix\n",
    "        self.tasks = tasks\n",
    "        \n",
    "    def checkRemainingTasks(self, job_done):\n",
    "        remaining_tasks = self.tasks.copy()\n",
    "        if len(remaining_tasks) > 0:\n",
    "            active_path = tasks['path'].values\n",
    "            job_done = job_done[np.isin(job_done, active_path)]\n",
    "            \n",
    "            job_unique, job_counts = np.unique(job_done, return_counts=True)\n",
    "            job_done_df = pd.DataFrame({'path': job_unique, 'Count': job_counts})\n",
    "            \n",
    "            merged_df = remaining_tasks.merge(job_done_df, on='path',how='outer')\n",
    "            merged_df.loc[merged_df['Count_y'].isnull(), 'Count_y'] = 0\n",
    "            merged_df['Count'] = merged_df['Count_x'] - merged_df['Count_y']\n",
    "            output = merged_df[merged_df['Count'] > 0][['Start','End','path','Count']]        \n",
    "            return output\n",
    "        else:\n",
    "            return remaining_tasks\n",
    "    \n",
    "    def startOrEnd(self, current_position,rm_task):\n",
    "        start_set = rm_task['Start'].unique()\n",
    "        if current_position in start_set:\n",
    "            return rm_task[rm_task['Start'] == current_position]['End'].values\n",
    "        else:\n",
    "            return start_set\n",
    "        \n",
    "    def nextJobsMatrix(self, job_done, next_nodes):\n",
    "        current_position = job_done[-1].split('-')[-1]\n",
    "        next_jobs = current_position + '-' + next_nodes\n",
    "        \n",
    "        if len(job_done[0]) > 1:\n",
    "            ini_mat = np.tile(job_done,(len(next_jobs),1))\n",
    "            output = np.hstack((ini_mat, np.array([next_jobs]).T ))\n",
    "        else:\n",
    "            output = np.array([next_jobs]).T\n",
    "        return output\n",
    "    \n",
    "    def jobMatrix(self, each_row):\n",
    "        remaining_jobs = self.checkRemainingTasks(each_row)\n",
    "        if len(remaining_jobs) == 0:\n",
    "            job_matrix = np.append(each_row,'0')\n",
    "        else:\n",
    "            current_position = each_row[-1].split('-')[-1]\n",
    "            next_nodes = self.startOrEnd(current_position, remaining_jobs)\n",
    "            job_matrix = self.nextJobsMatrix(each_row, next_nodes)\n",
    "        return job_matrix\n",
    "    \n",
    "    def currentPosition(self, x):\n",
    "        return x.split('-')[-1]\n",
    "    \n",
    "    def getUniqueRows(self, output):\n",
    "        # re-output to unique matrix\n",
    "        old_output = output.copy()\n",
    "        vCurrentPos = np.vectorize(self.currentPosition)\n",
    "        last_position = old_output[:,-1]\n",
    "        current_pos_arr = vCurrentPos(last_position)\n",
    "        output.sort(axis=1)\n",
    "        all_groups = pd.DataFrame({\n",
    "                        'tasks' : [\"\".join(i) for i in output.astype(str)], \n",
    "                        'current_pos': list(current_pos_arr) , \n",
    "                        'id': range(len(current_pos_arr)) }).groupby(['tasks','current_pos'])\n",
    "        unique_index = all_groups.first()['id'].values\n",
    "        output = old_output[unique_index,:]\n",
    "        return output \n",
    "    \n",
    "    def allPath(self, output):\n",
    "        # Pool Multiple Processing    \n",
    "        pool = mp.Pool(processes=15)\n",
    "        \n",
    "        last_column = output[:,-1]\n",
    "        all_zero = sum(last_column == '0')\n",
    "        while all_zero != len(last_column):\n",
    "            # find all path\n",
    "            start_time = time.time() \n",
    "            output_list = pool.map(self.jobMatrix, output)\n",
    "            output = np.vstack(output_list)\n",
    "            output = self.getUniqueRows(output)\n",
    "            \n",
    "            last_column = output[:,-1]\n",
    "            all_zero = sum(last_column == '0')\n",
    "            stop_time = time.time() - start_time\n",
    "            print('Output Matrix Shape :', output.shape, ', Use Time :', stop_time, 's')\n",
    "            del output_list\n",
    "        \n",
    "        return output \n",
    "    \n",
    "    def getDistance(self, startEndStr):\n",
    "        tasks_arr = self.tasks['path'].values\n",
    "        if startEndStr == '0':\n",
    "            return 0\n",
    "        else:\n",
    "            start,end = startEndStr.split('-')\n",
    "            i,j = np.where(self.node_names == start)[0][0],np.where(self.node_names == end)[0][0]\n",
    "            return self.distances[i,j]\n",
    "        \n",
    "    def positiveDistance(self):\n",
    "        task_list = []\n",
    "        for i in range(len(self.tasks)):\n",
    "            task_list = task_list + [self.tasks['path'].values[i]] *self.tasks['Count'].values[i]\n",
    "        getDistanceAllElement = np.vectorize(self.getDistance) \n",
    "        result_array = getDistanceAllElement(task_list)\n",
    "        return sum(result_array)\n",
    "        \n",
    "    def sumDistance(self, distance_arr):        \n",
    "        pos_distances = self.positiveDistance()\n",
    "        abs_distances = sum(distance_arr)\n",
    "        neg_distances = pos_distances - abs_distances\n",
    "        all_distances = pos_distances + neg_distances\n",
    "        return pos_distances, neg_distances, all_distances, abs_distances\n",
    "        \n",
    "    def allDistancePath(self, all_path):\n",
    "        getDistanceAllElement = np.vectorize(self.getDistance) \n",
    "        result_array = getDistanceAllElement(all_path)\n",
    "        all_distance_path = np.apply_along_axis(self.sumDistance, 1, result_array)\n",
    "        return all_distance_path\n",
    "    \n",
    "    def getTaskName(self, task_path):\n",
    "        name_arr = self.full_node_names['name'].values\n",
    "        only_task = task_path[task_path != '0']\n",
    "\n",
    "        # แยกจุดเริ่ม-จบ \n",
    "        start_f = lambda x : x.split('-')[0]\n",
    "        start_vf = np.vectorize(start_f)\n",
    "        start_node = start_vf(only_task)\n",
    "        end_f = lambda y : y.split('-')[1]\n",
    "        end_vf = np.vectorize(end_f)\n",
    "        end_node = end_vf(only_task)\n",
    "\n",
    "        row_num = len(only_task)\n",
    "\n",
    "        name_list = []\n",
    "        distance_list = []\n",
    "        for i in range(row_num):\n",
    "            # name        \n",
    "            start_name =  self.full_node_names[self.full_node_names['name'] == start_node[i]]['node'].values[0]\n",
    "            end_name =  self.full_node_names[self.full_node_names['name'] == end_node[i]]['node'].values[0]\n",
    "            name = start_name + '-' + end_name \n",
    "            name_list.append(name)\n",
    "\n",
    "            # distance        \n",
    "            start,end = start_node[i],end_node[i]\n",
    "            m,n = np.where(name_arr == start)[0][0],np.where(name_arr == end)[0][0]\n",
    "            before_path = only_task[0:i]\n",
    "            remaining_tasks = self.checkRemainingTasks(before_path)\n",
    "            current_task = task_path[i] \n",
    "            if current_task in remaining_tasks['path'].values:\n",
    "                distance_list.append(self.distances[m,n])\n",
    "            else:\n",
    "                distance_list.append(-self.distances[m,n])\n",
    "\n",
    "        return pd.DataFrame({'Name' : name_list, 'Distance': distance_list})\n",
    "    \n",
    "start_point = np.array([['S']]) # start_point\n",
    "node_names = pd.read_csv('data/node_names.csv')\n",
    "distances = pd.read_csv('data/distances_matrix.csv', header=None).values\n",
    "tasks = pd.read_csv('data/tasks.csv')[['Start','End','Count']]\n",
    "tasks['path'] = tasks['Start'] +'-'+ tasks['End']"
   ]
  },
  {
   "cell_type": "code",
   "execution_count": 71,
   "metadata": {},
   "outputs": [],
   "source": [
    "vehicleObj = VehicleRoutingArrangement(node_names, distances, tasks)"
   ]
  },
  {
   "cell_type": "markdown",
   "metadata": {},
   "source": [
    "โหลด All Path จากไฟล์"
   ]
  },
  {
   "cell_type": "code",
   "execution_count": 3,
   "metadata": {},
   "outputs": [],
   "source": [
    "all_path = np.load('../all_path.npy')"
   ]
  },
  {
   "cell_type": "code",
   "execution_count": 59,
   "metadata": {},
   "outputs": [
    {
     "data": {
      "text/plain": [
       "(502778, 30)"
      ]
     },
     "execution_count": 59,
     "metadata": {},
     "output_type": "execute_result"
    }
   ],
   "source": [
    "all_path.shape"
   ]
  },
  {
   "cell_type": "code",
   "execution_count": 60,
   "metadata": {},
   "outputs": [
    {
     "data": {
      "text/plain": [
       "array([['S-T', 'T-E', 'E-G', ..., 'S-T', '0', '0'],\n",
       "       ['S-T', 'T-S', 'S-T', ..., 'A-Q', '0', '0'],\n",
       "       ['S-T', 'T-E', 'E-G', ..., 'S-T', '0', '0'],\n",
       "       ...,\n",
       "       ['S-T', 'T-B', 'B-N', ..., 'T-A', 'A-B', '0'],\n",
       "       ['S-T', 'T-A', 'A-P', ..., 'T-A', 'A-B', '0'],\n",
       "       ['S-T', 'T-A', 'A-P', ..., 'T-A', 'A-B', '0']], dtype=object)"
      ]
     },
     "execution_count": 60,
     "metadata": {},
     "output_type": "execute_result"
    }
   ],
   "source": [
    "all_path"
   ]
  },
  {
   "cell_type": "code",
   "execution_count": 61,
   "metadata": {},
   "outputs": [
    {
     "data": {
      "text/plain": [
       "array(['S-T', 'T-E', 'E-G', 'G-A', 'A-L', 'L-A', 'A-L', 'L-A', 'A-P',\n",
       "       'P-D', 'D-L', 'L-A', 'A-P', 'P-E', 'E-M', 'M-A', 'A-B', 'B-P',\n",
       "       'P-B', 'B-P', 'P-B', 'B-N', 'N-A', 'A-Q', 'Q-S', 'S-T', 'T-S',\n",
       "       'S-T', '0', '0'], dtype=object)"
      ]
     },
     "execution_count": 61,
     "metadata": {},
     "output_type": "execute_result"
    }
   ],
   "source": [
    "all_path[0]"
   ]
  },
  {
   "cell_type": "code",
   "execution_count": 63,
   "metadata": {},
   "outputs": [],
   "source": [
    "distance_path = vehicleObj.allDistancePath(all_path) # unique อยู่แล้ว"
   ]
  },
  {
   "cell_type": "markdown",
   "metadata": {},
   "source": [
    "ระยะทางที่มีของ 2438"
   ]
  },
  {
   "cell_type": "code",
   "execution_count": 64,
   "metadata": {},
   "outputs": [
    {
     "data": {
      "text/plain": [
       "array([[ 2438.4, -2250.3,   188.1,  4688.7],\n",
       "       [ 2438.4, -2092.3,   346.1,  4530.7],\n",
       "       [ 2438.4, -2293.3,   145.1,  4731.7],\n",
       "       ...,\n",
       "       [ 2438.4, -1995.1,   443.3,  4433.5],\n",
       "       [ 2438.4, -1991.3,   447.1,  4429.7],\n",
       "       [ 2438.4, -1977.2,   461.2,  4415.6]])"
      ]
     },
     "execution_count": 64,
     "metadata": {},
     "output_type": "execute_result"
    }
   ],
   "source": [
    "distance_path"
   ]
  },
  {
   "cell_type": "markdown",
   "metadata": {},
   "source": [
    "ค่าดีสุดคือน้อยที่สุด เมื่อ sort แล้ว ค่าดีสุดจะอยู่อันแรก"
   ]
  },
  {
   "cell_type": "code",
   "execution_count": 66,
   "metadata": {},
   "outputs": [
    {
     "data": {
      "text/plain": [
       "array([3568.7, 3569.6, 3569.6, ..., 4912.7, 4913.8, 4917.6])"
      ]
     },
     "execution_count": 66,
     "metadata": {},
     "output_type": "execute_result"
    }
   ],
   "source": [
    "np.sort(distance_path[:,3])"
   ]
  },
  {
   "cell_type": "code",
   "execution_count": 67,
   "metadata": {},
   "outputs": [
    {
     "data": {
      "text/plain": [
       "array([['S-T', 'T-A', 'A-P', 'P-A', 'A-P', 'P-A', 'A-B', 'B-N', 'N-E',\n",
       "        'E-G', 'G-E', 'E-M', 'M-B', 'B-P', 'P-B', 'B-P', 'P-A', 'A-L',\n",
       "        'L-S', 'S-T', 'T-A', 'A-L', 'L-D', 'D-L', 'L-S', 'S-T', 'T-A',\n",
       "        'A-Q', '0', '0']], dtype=object)"
      ]
     },
     "execution_count": 67,
     "metadata": {},
     "output_type": "execute_result"
    }
   ],
   "source": [
    "path_from_number_of_distances = all_path[distance_path[:,3] == np.sort(distance_path[:,3])[0]] # เอาค่าดีสุด\n",
    "path_from_number_of_distances"
   ]
  },
  {
   "cell_type": "code",
   "execution_count": 72,
   "metadata": {},
   "outputs": [
    {
     "data": {
      "text/html": [
       "<div>\n",
       "<style scoped>\n",
       "    .dataframe tbody tr th:only-of-type {\n",
       "        vertical-align: middle;\n",
       "    }\n",
       "\n",
       "    .dataframe tbody tr th {\n",
       "        vertical-align: top;\n",
       "    }\n",
       "\n",
       "    .dataframe thead th {\n",
       "        text-align: right;\n",
       "    }\n",
       "</style>\n",
       "<table border=\"1\" class=\"dataframe\">\n",
       "  <thead>\n",
       "    <tr style=\"text-align: right;\">\n",
       "      <th></th>\n",
       "      <th>Name</th>\n",
       "      <th>Distance</th>\n",
       "    </tr>\n",
       "  </thead>\n",
       "  <tbody>\n",
       "    <tr>\n",
       "      <th>0</th>\n",
       "      <td>ลำปลายมาศ-วังแดง</td>\n",
       "      <td>322.0</td>\n",
       "    </tr>\n",
       "    <tr>\n",
       "      <th>1</th>\n",
       "      <td>วังแดง-นครหลวง</td>\n",
       "      <td>-11.6</td>\n",
       "    </tr>\n",
       "    <tr>\n",
       "      <th>2</th>\n",
       "      <td>นครหลวง-โคกตูม</td>\n",
       "      <td>45.6</td>\n",
       "    </tr>\n",
       "    <tr>\n",
       "      <th>3</th>\n",
       "      <td>โคกตูม-นครหลวง</td>\n",
       "      <td>-45.6</td>\n",
       "    </tr>\n",
       "    <tr>\n",
       "      <th>4</th>\n",
       "      <td>นครหลวง-โคกตูม</td>\n",
       "      <td>45.6</td>\n",
       "    </tr>\n",
       "    <tr>\n",
       "      <th>5</th>\n",
       "      <td>โคกตูม-นครหลวง</td>\n",
       "      <td>-45.6</td>\n",
       "    </tr>\n",
       "    <tr>\n",
       "      <th>6</th>\n",
       "      <td>นครหลวง-ท่าเรือ</td>\n",
       "      <td>19.8</td>\n",
       "    </tr>\n",
       "    <tr>\n",
       "      <th>7</th>\n",
       "      <td>ท่าเรือ-หนองแค(สัตว์บก)</td>\n",
       "      <td>43.2</td>\n",
       "    </tr>\n",
       "    <tr>\n",
       "      <th>8</th>\n",
       "      <td>หนองแค(สัตว์บก)-บางปะกง</td>\n",
       "      <td>-148.0</td>\n",
       "    </tr>\n",
       "    <tr>\n",
       "      <th>9</th>\n",
       "      <td>บางปะกง-บางนา</td>\n",
       "      <td>30.2</td>\n",
       "    </tr>\n",
       "    <tr>\n",
       "      <th>10</th>\n",
       "      <td>บางนา-บางปะกง</td>\n",
       "      <td>-30.2</td>\n",
       "    </tr>\n",
       "    <tr>\n",
       "      <th>11</th>\n",
       "      <td>บางปะกง-ปักธงชัย</td>\n",
       "      <td>300.0</td>\n",
       "    </tr>\n",
       "    <tr>\n",
       "      <th>12</th>\n",
       "      <td>ปักธงชัย-ท่าเรือ</td>\n",
       "      <td>-155.0</td>\n",
       "    </tr>\n",
       "    <tr>\n",
       "      <th>13</th>\n",
       "      <td>ท่าเรือ-โคกตูม</td>\n",
       "      <td>29.5</td>\n",
       "    </tr>\n",
       "    <tr>\n",
       "      <th>14</th>\n",
       "      <td>โคกตูม-ท่าเรือ</td>\n",
       "      <td>-29.5</td>\n",
       "    </tr>\n",
       "    <tr>\n",
       "      <th>15</th>\n",
       "      <td>ท่าเรือ-โคกตูม</td>\n",
       "      <td>29.5</td>\n",
       "    </tr>\n",
       "    <tr>\n",
       "      <th>16</th>\n",
       "      <td>โคกตูม-นครหลวง</td>\n",
       "      <td>-45.6</td>\n",
       "    </tr>\n",
       "    <tr>\n",
       "      <th>17</th>\n",
       "      <td>นครหลวง-โคราช</td>\n",
       "      <td>174.0</td>\n",
       "    </tr>\n",
       "    <tr>\n",
       "      <th>18</th>\n",
       "      <td>โคราช-ลำปลายมาศ</td>\n",
       "      <td>-163.0</td>\n",
       "    </tr>\n",
       "    <tr>\n",
       "      <th>19</th>\n",
       "      <td>ลำปลายมาศ-วังแดง</td>\n",
       "      <td>322.0</td>\n",
       "    </tr>\n",
       "    <tr>\n",
       "      <th>20</th>\n",
       "      <td>วังแดง-นครหลวง</td>\n",
       "      <td>-11.6</td>\n",
       "    </tr>\n",
       "    <tr>\n",
       "      <th>21</th>\n",
       "      <td>นครหลวง-โคราช</td>\n",
       "      <td>174.0</td>\n",
       "    </tr>\n",
       "    <tr>\n",
       "      <th>22</th>\n",
       "      <td>โคราช-น้ำมันพืชไทย</td>\n",
       "      <td>-270.0</td>\n",
       "    </tr>\n",
       "    <tr>\n",
       "      <th>23</th>\n",
       "      <td>น้ำมันพืชไทย-โคราช</td>\n",
       "      <td>270.0</td>\n",
       "    </tr>\n",
       "    <tr>\n",
       "      <th>24</th>\n",
       "      <td>โคราช-ลำปลายมาศ</td>\n",
       "      <td>-163.0</td>\n",
       "    </tr>\n",
       "    <tr>\n",
       "      <th>25</th>\n",
       "      <td>ลำปลายมาศ-วังแดง</td>\n",
       "      <td>322.0</td>\n",
       "    </tr>\n",
       "    <tr>\n",
       "      <th>26</th>\n",
       "      <td>วังแดง-นครหลวง</td>\n",
       "      <td>-11.6</td>\n",
       "    </tr>\n",
       "    <tr>\n",
       "      <th>27</th>\n",
       "      <td>นครหลวง-พิษณุโลก</td>\n",
       "      <td>311.0</td>\n",
       "    </tr>\n",
       "  </tbody>\n",
       "</table>\n",
       "</div>"
      ],
      "text/plain": [
       "                       Name  Distance\n",
       "0          ลำปลายมาศ-วังแดง     322.0\n",
       "1            วังแดง-นครหลวง     -11.6\n",
       "2            นครหลวง-โคกตูม      45.6\n",
       "3            โคกตูม-นครหลวง     -45.6\n",
       "4            นครหลวง-โคกตูม      45.6\n",
       "5            โคกตูม-นครหลวง     -45.6\n",
       "6           นครหลวง-ท่าเรือ      19.8\n",
       "7   ท่าเรือ-หนองแค(สัตว์บก)      43.2\n",
       "8   หนองแค(สัตว์บก)-บางปะกง    -148.0\n",
       "9             บางปะกง-บางนา      30.2\n",
       "10            บางนา-บางปะกง     -30.2\n",
       "11         บางปะกง-ปักธงชัย     300.0\n",
       "12         ปักธงชัย-ท่าเรือ    -155.0\n",
       "13           ท่าเรือ-โคกตูม      29.5\n",
       "14           โคกตูม-ท่าเรือ     -29.5\n",
       "15           ท่าเรือ-โคกตูม      29.5\n",
       "16           โคกตูม-นครหลวง     -45.6\n",
       "17            นครหลวง-โคราช     174.0\n",
       "18          โคราช-ลำปลายมาศ    -163.0\n",
       "19         ลำปลายมาศ-วังแดง     322.0\n",
       "20           วังแดง-นครหลวง     -11.6\n",
       "21            นครหลวง-โคราช     174.0\n",
       "22       โคราช-น้ำมันพืชไทย    -270.0\n",
       "23       น้ำมันพืชไทย-โคราช     270.0\n",
       "24          โคราช-ลำปลายมาศ    -163.0\n",
       "25         ลำปลายมาศ-วังแดง     322.0\n",
       "26           วังแดง-นครหลวง     -11.6\n",
       "27         นครหลวง-พิษณุโลก     311.0"
      ]
     },
     "execution_count": 72,
     "metadata": {},
     "output_type": "execute_result"
    }
   ],
   "source": [
    "thai_name = vehicleObj.getTaskName(path_from_number_of_distances[0])\n",
    "thai_name"
   ]
  },
  {
   "cell_type": "code",
   "execution_count": 73,
   "metadata": {},
   "outputs": [
    {
     "data": {
      "text/plain": [
       "array([[ 2438.4, -1130.3,  1308.1,  3568.7]])"
      ]
     },
     "execution_count": 73,
     "metadata": {},
     "output_type": "execute_result"
    }
   ],
   "source": [
    "distance_path[distance_path[:,3] == np.sort(distance_path[:,3])[0]]"
   ]
  },
  {
   "cell_type": "code",
   "execution_count": null,
   "metadata": {},
   "outputs": [],
   "source": []
  }
 ],
 "metadata": {
  "kernelspec": {
   "display_name": "Python 3",
   "language": "python",
   "name": "python3"
  },
  "language_info": {
   "codemirror_mode": {
    "name": "ipython",
    "version": 3
   },
   "file_extension": ".py",
   "mimetype": "text/x-python",
   "name": "python",
   "nbconvert_exporter": "python",
   "pygments_lexer": "ipython3",
   "version": "3.6.8"
  }
 },
 "nbformat": 4,
 "nbformat_minor": 2
}
