{
 "cells": [
  {
   "cell_type": "markdown",
   "metadata": {},
   "source": [
    "# Info"
   ]
  },
  {
   "cell_type": "markdown",
   "metadata": {},
   "source": [
    "- วิธีแม่นตรง (Exact Method) คือที่เราต้องทำ แตกกิ่ง(Branch and Bound) หาวิธีการทั้งหมดที่เป็นไปได้และระยะของแต่ละวิธี\n",
    "\n",
    "- Algo ที่ใช้จากในโปรเจคมี Saving Algorithm และ K-nearest (เป็นวิธีที่จะทำให้คำนวณออกมาได้เร็วกว่าวิธีในข้อ 2.1)\n",
    "\n",
    "- ตัวเลขในตาราง pivot table คือระยะทาง (km)\n",
    "\n",
    "- โปรแกรมเก่ารันผลออกมาได้ประมาณ 300k วิธี แต่มีแค่ 50 วิธีที่ต่างกัน\n"
   ]
  },
  {
   "cell_type": "markdown",
   "metadata": {},
   "source": [
    "# Data"
   ]
  },
  {
   "cell_type": "markdown",
   "metadata": {},
   "source": [
    "![](img/2.png)"
   ]
  },
  {
   "cell_type": "code",
   "execution_count": 35,
   "metadata": {},
   "outputs": [],
   "source": [
    "import pandas as pd\n",
    "import numpy as np\n",
    "\n",
    "def generateDistance(dimension):\n",
    "    a = np.random.randint(300, size=(dimension, dimension))\n",
    "    m = np.tril(a) + np.tril(a, -1).T\n",
    "    \n",
    "    for i in range(dimension):\n",
    "        m[i,i] = 0\n",
    "    return m"
   ]
  },
  {
   "cell_type": "code",
   "execution_count": 39,
   "metadata": {},
   "outputs": [
    {
     "data": {
      "text/plain": [
       "array([[  0,  65,   7,  46, 284],\n",
       "       [ 65,   0,  88,  67,  86],\n",
       "       [  7,  88,   0, 121, 294],\n",
       "       [ 46,  67, 121,   0, 194],\n",
       "       [284,  86, 294, 194,   0]])"
      ]
     },
     "execution_count": 39,
     "metadata": {},
     "output_type": "execute_result"
    }
   ],
   "source": [
    "distance = generateDistance(5)\n",
    "distance"
   ]
  },
  {
   "cell_type": "code",
   "execution_count": 58,
   "metadata": {},
   "outputs": [
    {
     "data": {
      "text/plain": [
       "['A', 'B', 'C', 'D', 'E']"
      ]
     },
     "execution_count": 58,
     "metadata": {},
     "output_type": "execute_result"
    }
   ],
   "source": [
    "node_name = ['A','B','C','D','E']\n",
    "node_name"
   ]
  },
  {
   "cell_type": "code",
   "execution_count": 60,
   "metadata": {},
   "outputs": [],
   "source": [
    "np.save('data/distances.npy', distance)\n",
    "np.save('data/node_name.npy', node_name)"
   ]
  },
  {
   "cell_type": "markdown",
   "metadata": {},
   "source": [
    "![](img/1.png)"
   ]
  },
  {
   "cell_type": "markdown",
   "metadata": {},
   "source": [
    "จาก data ข้างต้น ลองสร้างงานแบบสุ่มดู จะได้"
   ]
  },
  {
   "cell_type": "code",
   "execution_count": 155,
   "metadata": {},
   "outputs": [
    {
     "data": {
      "text/plain": [
       "array(['A', 'B', 'C', 'D', 'E'], dtype='<U1')"
      ]
     },
     "execution_count": 155,
     "metadata": {},
     "output_type": "execute_result"
    }
   ],
   "source": [
    "from random import randint\n",
    "import numpy as np\n",
    "import pandas as pd\n",
    "\n",
    "nodes = np.load('data/node_name.npy')\n",
    "nodes"
   ]
  },
  {
   "cell_type": "markdown",
   "metadata": {},
   "source": [
    "Input:\n",
    "- จำนวนงานทั้งหมด (7)\n",
    "- แหล่งที่มีของ : A,C\n",
    "\n",
    "ปล.ปลายทางการส่งเป็นอะไรก็ได้ที่ไม่ใช่ตัวเอง"
   ]
  },
  {
   "cell_type": "code",
   "execution_count": 156,
   "metadata": {},
   "outputs": [],
   "source": [
    "num_of_work = 7\n",
    "begin_nodes = ['A','C']"
   ]
  },
  {
   "cell_type": "code",
   "execution_count": 188,
   "metadata": {},
   "outputs": [],
   "source": [
    "def genarateTask(num_of_work,begin_nodes):\n",
    "    # define start-end nodes\n",
    "    works = np.empty((0,2), str)\n",
    "\n",
    "    for bnode in begin_nodes:\n",
    "        for node in nodes:\n",
    "            if bnode != node:\n",
    "                works = np.vstack( (works,np.array([bnode,node])) )\n",
    "\n",
    "    # define works\n",
    "    work_list = []\n",
    "    for nw in range(num_of_work):\n",
    "        work_list.append(randint(0, num_of_work-1))\n",
    "\n",
    "    work_df = pd.DataFrame({'row': work_list})\n",
    "    work_df = work_df.groupby(['row']).size().reset_index(name='counts')\n",
    "\n",
    "    start = []\n",
    "    end = []\n",
    "\n",
    "    for ind,w in work_df.iterrows():\n",
    "        start.append(works[w['row'],:][0])\n",
    "        end.append(works[w['row'],:][1])\n",
    "\n",
    "    work_df['start'] = start\n",
    "    work_df['end'] = end\n",
    "    del work_df['row']\n",
    "    return work_df"
   ]
  },
  {
   "cell_type": "code",
   "execution_count": 189,
   "metadata": {},
   "outputs": [
    {
     "data": {
      "text/html": [
       "<div>\n",
       "<style scoped>\n",
       "    .dataframe tbody tr th:only-of-type {\n",
       "        vertical-align: middle;\n",
       "    }\n",
       "\n",
       "    .dataframe tbody tr th {\n",
       "        vertical-align: top;\n",
       "    }\n",
       "\n",
       "    .dataframe thead th {\n",
       "        text-align: right;\n",
       "    }\n",
       "</style>\n",
       "<table border=\"1\" class=\"dataframe\">\n",
       "  <thead>\n",
       "    <tr style=\"text-align: right;\">\n",
       "      <th></th>\n",
       "      <th>counts</th>\n",
       "      <th>start</th>\n",
       "      <th>end</th>\n",
       "    </tr>\n",
       "  </thead>\n",
       "  <tbody>\n",
       "    <tr>\n",
       "      <th>0</th>\n",
       "      <td>2</td>\n",
       "      <td>A</td>\n",
       "      <td>B</td>\n",
       "    </tr>\n",
       "    <tr>\n",
       "      <th>1</th>\n",
       "      <td>1</td>\n",
       "      <td>A</td>\n",
       "      <td>C</td>\n",
       "    </tr>\n",
       "    <tr>\n",
       "      <th>2</th>\n",
       "      <td>1</td>\n",
       "      <td>A</td>\n",
       "      <td>E</td>\n",
       "    </tr>\n",
       "    <tr>\n",
       "      <th>3</th>\n",
       "      <td>1</td>\n",
       "      <td>C</td>\n",
       "      <td>B</td>\n",
       "    </tr>\n",
       "    <tr>\n",
       "      <th>4</th>\n",
       "      <td>2</td>\n",
       "      <td>C</td>\n",
       "      <td>D</td>\n",
       "    </tr>\n",
       "  </tbody>\n",
       "</table>\n",
       "</div>"
      ],
      "text/plain": [
       "   counts start end\n",
       "0       2     A   B\n",
       "1       1     A   C\n",
       "2       1     A   E\n",
       "3       1     C   B\n",
       "4       2     C   D"
      ]
     },
     "execution_count": 189,
     "metadata": {},
     "output_type": "execute_result"
    }
   ],
   "source": [
    "tasks = genarateTask(num_of_work,begin_nodes)\n",
    "tasks"
   ]
  },
  {
   "cell_type": "code",
   "execution_count": 190,
   "metadata": {},
   "outputs": [],
   "source": [
    "tasks.to_csv('data/tasks.csv',index=False)"
   ]
  },
  {
   "cell_type": "markdown",
   "metadata": {},
   "source": [
    "# Output"
   ]
  },
  {
   "cell_type": "markdown",
   "metadata": {},
   "source": [
    "![](img/3.png)"
   ]
  },
  {
   "cell_type": "markdown",
   "metadata": {},
   "source": [
    "![](img/4.png)"
   ]
  }
 ],
 "metadata": {
  "kernelspec": {
   "display_name": "Python 3",
   "language": "python",
   "name": "python3"
  },
  "language_info": {
   "codemirror_mode": {
    "name": "ipython",
    "version": 3
   },
   "file_extension": ".py",
   "mimetype": "text/x-python",
   "name": "python",
   "nbconvert_exporter": "python",
   "pygments_lexer": "ipython3",
   "version": "3.6.8"
  }
 },
 "nbformat": 4,
 "nbformat_minor": 2
}
