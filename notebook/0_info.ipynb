{
 "cells": [
  {
   "cell_type": "markdown",
   "metadata": {},
   "source": [
    "## Info"
   ]
  },
  {
   "cell_type": "markdown",
   "metadata": {},
   "source": [
    "- วิธีแม่นตรง (Exact Method) คือที่เราต้องทำ แตกกิ่ง(Branch and Bound) หาวิธีการทั้งหมดที่เป็นไปได้และระยะของแต่ละวิธี\n",
    "\n",
    "- Algo ที่ใช้จากในโปรเจคมี Saving Algorithm และ K-nearest (เป็นวิธีที่จะทำให้คำนวณออกมาได้เร็วกว่าวิธีในข้อ 2.1)\n",
    "\n",
    "- ตัวเลขในตาราง pivot table คือระยะทาง (km)\n",
    "\n",
    "- โปรแกรมเก่ารันผลออกมาได้ประมาณ 300k วิธี แต่มีแค่ 50 วิีธีที่ต่างกัน\n"
   ]
  }
 ],
 "metadata": {
  "kernelspec": {
   "display_name": "Python 3",
   "language": "python",
   "name": "python3"
  },
  "language_info": {
   "codemirror_mode": {
    "name": "ipython",
    "version": 3
   },
   "file_extension": ".py",
   "mimetype": "text/x-python",
   "name": "python",
   "nbconvert_exporter": "python",
   "pygments_lexer": "ipython3",
   "version": "3.6.8"
  }
 },
 "nbformat": 4,
 "nbformat_minor": 2
}
