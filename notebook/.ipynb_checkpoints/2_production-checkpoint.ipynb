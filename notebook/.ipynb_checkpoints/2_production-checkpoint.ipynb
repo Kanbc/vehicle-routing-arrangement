{
 "cells": [
  {
   "cell_type": "markdown",
   "metadata": {},
   "source": [
    "# Computation Class"
   ]
  },
  {
   "cell_type": "code",
   "execution_count": 3,
   "metadata": {},
   "outputs": [],
   "source": [
    "import numpy as np\n",
    "import pandas as pd"
   ]
  },
  {
   "cell_type": "markdown",
   "metadata": {},
   "source": [
    "### Input"
   ]
  },
  {
   "cell_type": "code",
   "execution_count": 41,
   "metadata": {},
   "outputs": [],
   "source": [
    "start_point = np.array([['S']]) # start_point\n",
    "node_names = pd.read_csv('data/node_names.csv')\n",
    "distances = pd.read_csv('data/distances_matrix.csv', header=None).values\n",
    "tasks = pd.read_csv('data/demo_tasks.csv')[['Start','End','Count']]\n",
    "tasks['path'] = tasks['Start'] +'-'+ tasks['End']"
   ]
  },
  {
   "cell_type": "code",
   "execution_count": 98,
   "metadata": {},
   "outputs": [],
   "source": [
    "class VehicleRoutingArrangement:\n",
    "    def __init__(self, node_names, distances_matrix, tasks):\n",
    "        self.full_node_names = node_names\n",
    "        self.node_names = node_names['name'].values\n",
    "        self.distances = distances_matrix\n",
    "        self.tasks = tasks\n",
    "        \n",
    "    def checkRemainingTasks(self, job_done):\n",
    "        remaining_tasks = self.tasks.copy()\n",
    "        active_path = tasks['path'].values\n",
    "        job_done = job_done[np.isin(job_done, active_path)] \n",
    "\n",
    "        for job in job_done:\n",
    "            if len(remaining_tasks) > 0:\n",
    "                remaining_tasks.loc[remaining_tasks['path'] == job, 'Count'] = remaining_tasks[remaining_tasks['path'] == job]['Count'] - 1\n",
    "                remaining_tasks = remaining_tasks[remaining_tasks['Count'] != 0]\n",
    "\n",
    "        return remaining_tasks\n",
    "    \n",
    "    def startOrEnd(self, current_position,rm_task):\n",
    "        start_set = rm_task['Start'].unique()\n",
    "        if current_position in start_set:\n",
    "            return rm_task[rm_task['Start'] == current_position]['End'].values\n",
    "        else:\n",
    "            return start_set\n",
    "        \n",
    "    def nextJobsMatrix(self, job_done, next_nodes):\n",
    "        current_position = job_done[-1].split('-')[-1]\n",
    "        next_jobs = current_position + '-' + next_nodes\n",
    "        output = np.empty((0,len(job_done) + 1), str) if len(job_done[0]) > 1 else np.empty((0,1), str)\n",
    "\n",
    "        for next_job in next_jobs:\n",
    "            if len(job_done[0]) > 1:\n",
    "                next_job_done = np.append(job_done,next_job)\n",
    "                output = np.vstack((output, next_job_done))\n",
    "            else:\n",
    "                output = np.vstack((output, next_job))\n",
    "        return output\n",
    "    \n",
    "    def allPath(self, before_path):\n",
    "        output = np.empty((0,before_path.shape[1] + 1), str) if len(before_path[0,0]) > 1 else np.empty((0,1), str)\n",
    "\n",
    "        for each_row in before_path:\n",
    "            remaining_jobs = self.checkRemainingTasks(each_row)\n",
    "            if len(remaining_jobs) == 0:\n",
    "                job_matrix = np.append(each_row,'0')\n",
    "            else:\n",
    "                current_position = each_row[-1].split('-')[-1]\n",
    "                next_nodes = self.startOrEnd(current_position, remaining_jobs)\n",
    "                job_matrix = self.nextJobsMatrix(each_row, next_nodes)\n",
    "            output = np.vstack((output, job_matrix))\n",
    "\n",
    "        last_column = output[:,-1]\n",
    "        all_zero = sum(last_column == '0')\n",
    "        if all_zero == len(last_column):\n",
    "            return output\n",
    "        else:\n",
    "            return self.allPath(output)\n",
    "    \n",
    "    def getDistance(self, startEndStr):\n",
    "        tasks_arr = self.tasks['path'].values\n",
    "        if startEndStr == '0':\n",
    "            return 0\n",
    "        else:\n",
    "            start,end = startEndStr.split('-')\n",
    "            i,j = np.where(self.node_names == start)[0][0],np.where(self.node_names == end)[0][0]\n",
    "            return self.distances[i,j] if startEndStr in tasks_arr else -1*self.distances[i,j]\n",
    "        \n",
    "    def sumDistance(self, distance_arr):\n",
    "        all_distances = sum(distance_arr)\n",
    "        pos_distances = sum(distance_arr[distance_arr > 0])\n",
    "        neg_distances = sum(distance_arr[distance_arr < 0])\n",
    "        abs_distances = pos_distances + abs(neg_distances)\n",
    "        return pos_distances, neg_distances, all_distances, abs_distances\n",
    "        \n",
    "    def allDistancePath(self, all_path):\n",
    "        getDistanceAllElement = np.vectorize(self.getDistance) \n",
    "        result_array = getDistanceAllElement(all_path)\n",
    "        all_distance_path = np.apply_along_axis(self.sumDistance, 1, result_array)\n",
    "        return all_distance_path\n",
    "    \n",
    "    def getTaskName(self, task_path):\n",
    "        name_arr = self.full_node_names['name'].values\n",
    "        only_task = task_path[task_path != '0'];\n",
    "        active_path = self.tasks['path'].values\n",
    "\n",
    "        # ดูว่า job ไทนมี tasks เป็น + บ้าง\n",
    "        is_positive_task = np.isin(only_task, active_path) \n",
    "\n",
    "        # แยกจุดเริ่ม-จบ \n",
    "        start_f = lambda x : x.split('-')[0]\n",
    "        start_vf = np.vectorize(start_f)\n",
    "        start_node = start_vf(only_task)\n",
    "        end_f = lambda y : y.split('-')[1]\n",
    "        end_vf = np.vectorize(end_f)\n",
    "        end_node = end_vf(only_task)\n",
    "\n",
    "        row_num = len(only_task)\n",
    "\n",
    "        name_list = []\n",
    "        distance_list = []\n",
    "        for i in range(row_num):\n",
    "            # name        \n",
    "            start_name =  self.full_node_names[self.full_node_names['name'] == start_node[i]]['node'].values[0]\n",
    "            end_name =  self.full_node_names[self.full_node_names['name'] == end_node[i]]['node'].values[0]\n",
    "            name = start_name + '-' + end_name \n",
    "            name_list.append(name)\n",
    "\n",
    "            # distance        \n",
    "            start,end = start_node[i],end_node[i]\n",
    "            m,n = np.where(name_arr == start)[0][0],np.where(name_arr == end)[0][0]\n",
    "            before_path = only_task[0:i]\n",
    "            remaining_tasks = self.checkRemainingTasks(before_path)\n",
    "            current_task = task_path[i] \n",
    "            if current_task in remaining_tasks['path'].values:\n",
    "                distance_list.append(self.distances[m,n])\n",
    "            else:\n",
    "                distance_list.append(-self.distances[m,n])\n",
    "\n",
    "        return pd.DataFrame({'Name' : name_list, 'Distance': distance_list})"
   ]
  },
  {
   "cell_type": "code",
   "execution_count": 99,
   "metadata": {},
   "outputs": [],
   "source": [
    "vehicleObj = VehicleRoutingArrangement(node_names, distances, tasks)\n",
    "# all_path = vehicleObj.allPath(np.array([['A']]))"
   ]
  },
  {
   "cell_type": "code",
   "execution_count": 100,
   "metadata": {},
   "outputs": [],
   "source": [
    "# np.set_printoptions(threshold=np.nan,linewidth=200)\n",
    "# all_path"
   ]
  },
  {
   "cell_type": "code",
   "execution_count": 108,
   "metadata": {},
   "outputs": [
    {
     "data": {
      "text/plain": [
       "array([ 62.8,  66.9,  66.9,  76.6,  80.3,  81.8,  84.8,  85.9,  85.9,  85.9,  89.6,  92.7,  92.7,  95.6,  96.4,  96.4,  96.8,  99.3, 103. , 103.8, 103.8, 107.5, 110.1, 110.1, 110.6, 111.7, 111.7,\n",
       "       114.3, 114.3, 114.3, 115.4, 115.4, 115.4, 115.4, 115.8, 119.1, 119.1, 128. , 128. , 133.3, 137. ])"
      ]
     },
     "execution_count": 108,
     "metadata": {},
     "output_type": "execute_result"
    }
   ],
   "source": [
    "distance_path = vehicleObj.allDistancePath(all_path)\n",
    "np.unique(distance_path[:,2]) # เอาค่า unique"
   ]
  },
  {
   "cell_type": "code",
   "execution_count": 109,
   "metadata": {},
   "outputs": [
    {
     "name": "stdout",
     "output_type": "stream",
     "text": [
      "24\n"
     ]
    }
   ],
   "source": [
    "print(len(all_path[distance_path[:,2] == 137])) # จำนวนของค่าดีสุด\n",
    "path_from_number_of_distances = all_path[distance_path[:,2] == 137] # เอาค่าดีสุด\n",
    "# path_from_number_of_distances"
   ]
  },
  {
   "cell_type": "code",
   "execution_count": 103,
   "metadata": {},
   "outputs": [
    {
     "data": {
      "text/html": [
       "<div>\n",
       "<style scoped>\n",
       "    .dataframe tbody tr th:only-of-type {\n",
       "        vertical-align: middle;\n",
       "    }\n",
       "\n",
       "    .dataframe tbody tr th {\n",
       "        vertical-align: top;\n",
       "    }\n",
       "\n",
       "    .dataframe thead th {\n",
       "        text-align: right;\n",
       "    }\n",
       "</style>\n",
       "<table border=\"1\" class=\"dataframe\">\n",
       "  <thead>\n",
       "    <tr style=\"text-align: right;\">\n",
       "      <th></th>\n",
       "      <th>Name</th>\n",
       "      <th>Distance</th>\n",
       "    </tr>\n",
       "  </thead>\n",
       "  <tbody>\n",
       "    <tr>\n",
       "      <th>0</th>\n",
       "      <td>นครหลวง-ท่าเรือ</td>\n",
       "      <td>19.8</td>\n",
       "    </tr>\n",
       "    <tr>\n",
       "      <th>1</th>\n",
       "      <td>ท่าเรือ-โคกตูม</td>\n",
       "      <td>29.5</td>\n",
       "    </tr>\n",
       "    <tr>\n",
       "      <th>2</th>\n",
       "      <td>โคกตูม-ท่าเรือ</td>\n",
       "      <td>-29.5</td>\n",
       "    </tr>\n",
       "    <tr>\n",
       "      <th>3</th>\n",
       "      <td>ท่าเรือ-หนองแค(สัตว์บก)</td>\n",
       "      <td>43.2</td>\n",
       "    </tr>\n",
       "    <tr>\n",
       "      <th>4</th>\n",
       "      <td>หนองแค(สัตว์บก)-ลำปลายมาศ</td>\n",
       "      <td>-282.0</td>\n",
       "    </tr>\n",
       "    <tr>\n",
       "      <th>5</th>\n",
       "      <td>ลำปลายมาศ-วังแดง</td>\n",
       "      <td>322.0</td>\n",
       "    </tr>\n",
       "    <tr>\n",
       "      <th>6</th>\n",
       "      <td>วังแดง-นครหลวง</td>\n",
       "      <td>-11.6</td>\n",
       "    </tr>\n",
       "    <tr>\n",
       "      <th>7</th>\n",
       "      <td>นครหลวง-โคกตูม</td>\n",
       "      <td>45.6</td>\n",
       "    </tr>\n",
       "    <tr>\n",
       "      <th>8</th>\n",
       "      <td>โคกตูม-นครหลวง</td>\n",
       "      <td>-45.6</td>\n",
       "    </tr>\n",
       "    <tr>\n",
       "      <th>9</th>\n",
       "      <td>นครหลวง-โคกตูม</td>\n",
       "      <td>45.6</td>\n",
       "    </tr>\n",
       "    <tr>\n",
       "      <th>10</th>\n",
       "      <td>โคกตูม-ท่าเรือ</td>\n",
       "      <td>-29.5</td>\n",
       "    </tr>\n",
       "    <tr>\n",
       "      <th>11</th>\n",
       "      <td>ท่าเรือ-โคกตูม</td>\n",
       "      <td>29.5</td>\n",
       "    </tr>\n",
       "  </tbody>\n",
       "</table>\n",
       "</div>"
      ],
      "text/plain": [
       "                         Name  Distance\n",
       "0             นครหลวง-ท่าเรือ      19.8\n",
       "1              ท่าเรือ-โคกตูม      29.5\n",
       "2              โคกตูม-ท่าเรือ     -29.5\n",
       "3     ท่าเรือ-หนองแค(สัตว์บก)      43.2\n",
       "4   หนองแค(สัตว์บก)-ลำปลายมาศ    -282.0\n",
       "5            ลำปลายมาศ-วังแดง     322.0\n",
       "6              วังแดง-นครหลวง     -11.6\n",
       "7              นครหลวง-โคกตูม      45.6\n",
       "8              โคกตูม-นครหลวง     -45.6\n",
       "9              นครหลวง-โคกตูม      45.6\n",
       "10             โคกตูม-ท่าเรือ     -29.5\n",
       "11             ท่าเรือ-โคกตูม      29.5"
      ]
     },
     "execution_count": 103,
     "metadata": {},
     "output_type": "execute_result"
    }
   ],
   "source": [
    "thai_name = vehicleObj.getTaskName(path_from_number_of_distances[3])\n",
    "thai_name"
   ]
  },
  {
   "cell_type": "code",
   "execution_count": null,
   "metadata": {},
   "outputs": [],
   "source": []
  }
 ],
 "metadata": {
  "kernelspec": {
   "display_name": "Python 3",
   "language": "python",
   "name": "python3"
  },
  "language_info": {
   "codemirror_mode": {
    "name": "ipython",
    "version": 3
   },
   "file_extension": ".py",
   "mimetype": "text/x-python",
   "name": "python",
   "nbconvert_exporter": "python",
   "pygments_lexer": "ipython3",
   "version": "3.6.8"
  }
 },
 "nbformat": 4,
 "nbformat_minor": 2
}
