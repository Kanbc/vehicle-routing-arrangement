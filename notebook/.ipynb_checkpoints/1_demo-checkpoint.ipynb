{
 "cells": [
  {
   "cell_type": "markdown",
   "metadata": {},
   "source": [
    "# Problem"
   ]
  },
  {
   "cell_type": "markdown",
   "metadata": {},
   "source": [
    "Input : \n",
    "- จุดเริ่มต้น : ในที่นี้ให้เป็น A\n",
    "- งาน(ต้นทาง-ปลายทาง) + จำนวนของแต่ละงาน : จากข้างล่างคือ table tasks\n",
    "- ระยะทางระหว่างจุดทั้งหมด : ตัวแปร distances"
   ]
  },
  {
   "cell_type": "markdown",
   "metadata": {},
   "source": [
    "Output : \n",
    "- หาทุกทางที่ทำให้งานจบ\n",
    "- ทุกทางยาวเท่าไหร่\n",
    "- บอกด้วยว่าจากระยะทางทั้งหมด แบ่งเป็นระยะทางมีของและไม่มีของอย่างละเท่าไหร่\n",
    "- เอาทางที่ระยะทางซ้ำกันออก"
   ]
  },
  {
   "cell_type": "markdown",
   "metadata": {},
   "source": [
    "Import Library"
   ]
  },
  {
   "cell_type": "code",
   "execution_count": 1,
   "metadata": {},
   "outputs": [],
   "source": [
    "import numpy as np\n",
    "import pandas as pd"
   ]
  },
  {
   "cell_type": "markdown",
   "metadata": {},
   "source": [
    "# Input (Demo)"
   ]
  },
  {
   "cell_type": "code",
   "execution_count": 85,
   "metadata": {},
   "outputs": [],
   "source": [
    "job_done = np.array([['S']]) # start_point\n",
    "node_names = pd.read_csv('data/node_names.csv')['name'].values\n",
    "distances = pd.read_csv('data/distances_matrix.csv', header=None).values\n",
    "tasks = pd.read_csv('data/demo_tasks.csv')[['Start','End','Count']]\n",
    "tasks['path'] = tasks['Start'] +'-'+ tasks['End']"
   ]
  },
  {
   "cell_type": "code",
   "execution_count": 86,
   "metadata": {},
   "outputs": [
    {
     "data": {
      "text/plain": [
       "array([['A']], dtype='<U1')"
      ]
     },
     "execution_count": 86,
     "metadata": {},
     "output_type": "execute_result"
    }
   ],
   "source": [
    "job_done"
   ]
  },
  {
   "cell_type": "code",
   "execution_count": 87,
   "metadata": {},
   "outputs": [
    {
     "data": {
      "text/plain": [
       "array(['A', 'B', 'C', 'D', 'E', 'F', 'G', 'H', 'I', 'J', 'K', 'L', 'M', 'N', 'O', 'P', 'Q', 'R', 'S', 'T', 'U', 'V'], dtype=object)"
      ]
     },
     "execution_count": 87,
     "metadata": {},
     "output_type": "execute_result"
    }
   ],
   "source": [
    "node_names # ชื่อของ node ทั้งหมด เอาไว้ map กับ distances matrix "
   ]
  },
  {
   "cell_type": "code",
   "execution_count": 88,
   "metadata": {},
   "outputs": [
    {
     "data": {
      "text/plain": [
       "(22, 22)"
      ]
     },
     "execution_count": 88,
     "metadata": {},
     "output_type": "execute_result"
    }
   ],
   "source": [
    "distances.shape"
   ]
  },
  {
   "cell_type": "code",
   "execution_count": 89,
   "metadata": {},
   "outputs": [
    {
     "data": {
      "text/html": [
       "<div>\n",
       "<style scoped>\n",
       "    .dataframe tbody tr th:only-of-type {\n",
       "        vertical-align: middle;\n",
       "    }\n",
       "\n",
       "    .dataframe tbody tr th {\n",
       "        vertical-align: top;\n",
       "    }\n",
       "\n",
       "    .dataframe thead th {\n",
       "        text-align: right;\n",
       "    }\n",
       "</style>\n",
       "<table border=\"1\" class=\"dataframe\">\n",
       "  <thead>\n",
       "    <tr style=\"text-align: right;\">\n",
       "      <th></th>\n",
       "      <th>Start</th>\n",
       "      <th>End</th>\n",
       "      <th>Count</th>\n",
       "      <th>path</th>\n",
       "    </tr>\n",
       "  </thead>\n",
       "  <tbody>\n",
       "    <tr>\n",
       "      <th>0</th>\n",
       "      <td>S</td>\n",
       "      <td>T</td>\n",
       "      <td>1</td>\n",
       "      <td>S-T</td>\n",
       "    </tr>\n",
       "    <tr>\n",
       "      <th>1</th>\n",
       "      <td>B</td>\n",
       "      <td>P</td>\n",
       "      <td>2</td>\n",
       "      <td>B-P</td>\n",
       "    </tr>\n",
       "    <tr>\n",
       "      <th>2</th>\n",
       "      <td>B</td>\n",
       "      <td>N</td>\n",
       "      <td>1</td>\n",
       "      <td>B-N</td>\n",
       "    </tr>\n",
       "    <tr>\n",
       "      <th>3</th>\n",
       "      <td>A</td>\n",
       "      <td>B</td>\n",
       "      <td>1</td>\n",
       "      <td>A-B</td>\n",
       "    </tr>\n",
       "    <tr>\n",
       "      <th>4</th>\n",
       "      <td>A</td>\n",
       "      <td>P</td>\n",
       "      <td>2</td>\n",
       "      <td>A-P</td>\n",
       "    </tr>\n",
       "  </tbody>\n",
       "</table>\n",
       "</div>"
      ],
      "text/plain": [
       "  Start End  Count path\n",
       "0     S   T      1  S-T\n",
       "1     B   P      2  B-P\n",
       "2     B   N      1  B-N\n",
       "3     A   B      1  A-B\n",
       "4     A   P      2  A-P"
      ]
     },
     "execution_count": 89,
     "metadata": {},
     "output_type": "execute_result"
    }
   ],
   "source": [
    "tasks"
   ]
  },
  {
   "cell_type": "markdown",
   "metadata": {},
   "source": [
    "# Solve"
   ]
  },
  {
   "cell_type": "markdown",
   "metadata": {},
   "source": [
    "#### Idea\n",
    "- ถ้าอยู่จุดรับ(มีของ) คิดว่ามีงานไรที่เริ่มจากจุดเราบ้าง (จากตาราง tasks ถ้าเราอยู่จุด A เราจะไปได้ 3 จุดคือ B, C, E)\n",
    "- อยู่จุดส่ง(ว่าง) มองหาจุดรับ (ถ้าอยู่ที่ B ก็ต้องกลับไปไม่ A ก็ C เพื่อรับของไปส่งใหม่)\n",
    "- ทำซ้ำไปเรื่อยๆ จนงานหมด"
   ]
  },
  {
   "cell_type": "markdown",
   "metadata": {},
   "source": [
    "จาก idea พบว่าน่าจะมี function สำหรับแต่ละงานดังนี้\n",
    "1. จาก table tasks ถ้าใส่ path ปัจจุบันเข้าไปแล้วบอกว่าตอนนี้เหลือ task อะไรบ้าง เช่น [A-B,B-A,A-C,C-X] อาจบอกว่าเหลือ 2 task คือ A-E กับ C-D\n",
    "2. กรณีที่งานยังไม่หมด check ว่าที่ตัวเองอยู่เป็นจุดรับหรือส่ง แล้วบอกว่าจะไปจุดไหนต่อจากจุดนี้\n",
    "    - ถ้าอยู่ส่ง ควรไปจุดรับ\n",
    "    - ถ้าอยู่จุดรับ(หรือจุดที่ไม่ใช่จุดส่ง) ควรกลับไปจุดส่ง\n",
    "3. ฟังก์ชั่นสร้าง matrix ของงานทั้งหมดที่เป็นไปได้ใน step ถัดไป จาก งานที่ทำไปแล้ว(row หนึ่ง) และ task ที่เหลือ(เอา row ยัดใส่ 1.)\n",
    "4. ทำซ้ำเรื่อยๆ จน column สุดท้ายเป็น '0' หมด\n",
    "5. คำนวณระยะทางของแต่ละเส้นทางจากตัวแปร distance\n",
    "    - แบ่งเป็นระยะทางที่ + และ - \n",
    "    - ลบ path ที่ให้ผลเหมือนกันออก"
   ]
  },
  {
   "cell_type": "code",
   "execution_count": 27,
   "metadata": {},
   "outputs": [],
   "source": [
    "# 1. for each path - check how much the job done.\n",
    "def checkRemainingTasks(job_done, tasks):\n",
    "    remaining_tasks = tasks.copy()\n",
    "    active_path = tasks['path'].values\n",
    "    \n",
    "    # สนเฉพาะ job ที่อยู่ใน tasks\n",
    "    job_done = job_done[np.isin(job_done, active_path)] \n",
    "    \n",
    "    for job in job_done:\n",
    "        if len(remaining_tasks) > 0:\n",
    "            remaining_tasks.loc[remaining_tasks['path'] == job, 'Count'] = remaining_tasks[remaining_tasks['path'] == job]['Count'] - 1\n",
    "            remaining_tasks = remaining_tasks[remaining_tasks['Count'] != 0]\n",
    "            \n",
    "    # return task ที่ job ยังไม่ได้ทำ ถ้าทำหมดแล้วจะ return table เปล่า\n",
    "    return remaining_tasks\n",
    "\n",
    "# 2.\n",
    "def startOrEnd(current_position,rm_task):\n",
    "    start_set = rm_tasks['Start'].unique()\n",
    "\n",
    "    # ถ้าอยู่ในกลุ่ม start ต้องไปจุด end ของ position ที่เราอยู่\n",
    "    if current_position in start_set:\n",
    "        return rm_task[rm_task['Start'] == current_position]['End'].values\n",
    "    # ถ้าไม่อยู่ทั้งคู่ไปจุด start\n",
    "    else:\n",
    "        return start_set\n",
    "\n",
    "# 3.\n",
    "def nextJobsMatrix(job_done,next_nodes):\n",
    "    current_position = job_done[-1].split('-')[-1]\n",
    "    next_jobs = current_position + '-' + next_nodes\n",
    "    \n",
    "    output = np.empty((0,len(job_done) + 1), str) if len(job_done[0]) > 1 else np.empty((0,1), str)\n",
    "\n",
    "    for next_job in next_jobs:\n",
    "        if len(job_done[0]) > 1:\n",
    "            next_job_done = np.append(job_done,next_job)\n",
    "            output = np.vstack((output, next_job_done))\n",
    "        else:\n",
    "            output = np.vstack((output, next_job))\n",
    "    return output\n",
    "\n",
    "# 4.\n",
    "def allPath(before_path,tasks):\n",
    "    output = np.empty((0,before_path.shape[1] + 1), str) if len(before_path[0,0]) > 1 else np.empty((0,1), str)\n",
    "    \n",
    "    for each_row in before_path:\n",
    "        remaining_jobs = checkRemainingTasks(each_row,tasks)\n",
    "        if len(remaining_jobs) == 0:\n",
    "            job_matrix = np.append(each_row,'0')\n",
    "        else:\n",
    "            current_position = each_row[-1].split('-')[-1]\n",
    "            next_nodes = startOrEnd(current_position,remaining_jobs)\n",
    "            job_matrix = nextJobsMatrix(each_row,next_nodes)\n",
    "        output = np.vstack((output, job_matrix))\n",
    "\n",
    "    last_column = output[:,-1]\n",
    "    all_zero = sum(last_column == '0')\n",
    "    print('Output :')\n",
    "    print(output)\n",
    "    if all_zero == len(last_column):\n",
    "        return output\n",
    "    else:\n",
    "        return allPath(output,tasks)"
   ]
  },
  {
   "cell_type": "markdown",
   "metadata": {},
   "source": [
    "## ทดสอบ"
   ]
  },
  {
   "cell_type": "markdown",
   "metadata": {},
   "source": [
    "ตอนอยู่ A ที่จุดแรกเลย"
   ]
  },
  {
   "cell_type": "code",
   "execution_count": 28,
   "metadata": {},
   "outputs": [
    {
     "data": {
      "text/plain": [
       "array([['A']], dtype='<U1')"
      ]
     },
     "execution_count": 28,
     "metadata": {},
     "output_type": "execute_result"
    }
   ],
   "source": [
    "job_done"
   ]
  },
  {
   "cell_type": "code",
   "execution_count": 29,
   "metadata": {},
   "outputs": [
    {
     "data": {
      "text/plain": [
       "'A'"
      ]
     },
     "execution_count": 29,
     "metadata": {},
     "output_type": "execute_result"
    }
   ],
   "source": [
    "current_position = job_done[0][-1].split('-')[-1]\n",
    "current_position"
   ]
  },
  {
   "cell_type": "code",
   "execution_count": 31,
   "metadata": {},
   "outputs": [
    {
     "data": {
      "text/html": [
       "<div>\n",
       "<style scoped>\n",
       "    .dataframe tbody tr th:only-of-type {\n",
       "        vertical-align: middle;\n",
       "    }\n",
       "\n",
       "    .dataframe tbody tr th {\n",
       "        vertical-align: top;\n",
       "    }\n",
       "\n",
       "    .dataframe thead th {\n",
       "        text-align: right;\n",
       "    }\n",
       "</style>\n",
       "<table border=\"1\" class=\"dataframe\">\n",
       "  <thead>\n",
       "    <tr style=\"text-align: right;\">\n",
       "      <th></th>\n",
       "      <th>Start</th>\n",
       "      <th>End</th>\n",
       "      <th>Count</th>\n",
       "      <th>path</th>\n",
       "    </tr>\n",
       "  </thead>\n",
       "  <tbody>\n",
       "    <tr>\n",
       "      <th>0</th>\n",
       "      <td>S</td>\n",
       "      <td>T</td>\n",
       "      <td>1</td>\n",
       "      <td>S-T</td>\n",
       "    </tr>\n",
       "    <tr>\n",
       "      <th>1</th>\n",
       "      <td>B</td>\n",
       "      <td>P</td>\n",
       "      <td>2</td>\n",
       "      <td>B-P</td>\n",
       "    </tr>\n",
       "    <tr>\n",
       "      <th>2</th>\n",
       "      <td>B</td>\n",
       "      <td>N</td>\n",
       "      <td>1</td>\n",
       "      <td>B-N</td>\n",
       "    </tr>\n",
       "    <tr>\n",
       "      <th>3</th>\n",
       "      <td>A</td>\n",
       "      <td>B</td>\n",
       "      <td>1</td>\n",
       "      <td>A-B</td>\n",
       "    </tr>\n",
       "    <tr>\n",
       "      <th>4</th>\n",
       "      <td>A</td>\n",
       "      <td>P</td>\n",
       "      <td>2</td>\n",
       "      <td>A-P</td>\n",
       "    </tr>\n",
       "  </tbody>\n",
       "</table>\n",
       "</div>"
      ],
      "text/plain": [
       "  Start End  Count path\n",
       "0     S   T      1  S-T\n",
       "1     B   P      2  B-P\n",
       "2     B   N      1  B-N\n",
       "3     A   B      1  A-B\n",
       "4     A   P      2  A-P"
      ]
     },
     "execution_count": 31,
     "metadata": {},
     "output_type": "execute_result"
    }
   ],
   "source": [
    "rm_tasks = checkRemainingTasks(job_done,tasks)\n",
    "rm_tasks"
   ]
  },
  {
   "cell_type": "markdown",
   "metadata": {},
   "source": [
    "อยู่ที่จุดเริ่ม งานที่เหลือเท่ากับงานทั้งหมด"
   ]
  },
  {
   "cell_type": "code",
   "execution_count": 32,
   "metadata": {},
   "outputs": [
    {
     "data": {
      "text/plain": [
       "array(['B', 'P'], dtype=object)"
      ]
     },
     "execution_count": 32,
     "metadata": {},
     "output_type": "execute_result"
    }
   ],
   "source": [
    "next_nodes = startOrEnd(current_position,rm_tasks)\n",
    "next_nodes"
   ]
  },
  {
   "cell_type": "markdown",
   "metadata": {},
   "source": [
    "จากจุด A ผลออกมาว่าควรไป B,P"
   ]
  },
  {
   "cell_type": "code",
   "execution_count": 33,
   "metadata": {},
   "outputs": [
    {
     "data": {
      "text/plain": [
       "array(['A-B', 'A-P'], dtype=object)"
      ]
     },
     "execution_count": 33,
     "metadata": {},
     "output_type": "execute_result"
    }
   ],
   "source": [
    "next_jobs = current_position + '-' + next_nodes\n",
    "next_jobs"
   ]
  },
  {
   "cell_type": "markdown",
   "metadata": {},
   "source": [
    "ทำให้อยู่ใน format Start-End"
   ]
  },
  {
   "cell_type": "markdown",
   "metadata": {},
   "source": [
    "ลองทำเป็น recursive function stack matrix ซ้อนกันเรื่อยๆ จะได้"
   ]
  },
  {
   "cell_type": "code",
   "execution_count": 34,
   "metadata": {},
   "outputs": [
    {
     "name": "stdout",
     "output_type": "stream",
     "text": [
      "Output :\n",
      "[['A-B']\n",
      " ['A-P']]\n",
      "Output :\n",
      "[['A-B' 'B-P']\n",
      " ['A-B' 'B-N']\n",
      " ['A-P' 'P-S']\n",
      " ['A-P' 'P-B']\n",
      " ['A-P' 'P-A']]\n",
      "Output :\n",
      "[['A-B' 'B-P' 'P-S']\n",
      " ['A-B' 'B-P' 'P-B']\n",
      " ['A-B' 'B-P' 'P-A']\n",
      " ['A-B' 'B-N' 'N-S']\n",
      " ['A-B' 'B-N' 'N-B']\n",
      " ['A-B' 'B-N' 'N-A']\n",
      " ['A-P' 'P-S' 'S-T']\n",
      " ['A-P' 'P-B' 'B-P']\n",
      " ['A-P' 'P-B' 'B-N']\n",
      " ['A-P' 'P-A' 'A-B']\n",
      " ['A-P' 'P-A' 'A-P']]\n",
      "Output :\n",
      "[['A-B' 'B-P' 'P-S' 'S-T']\n",
      " ['A-B' 'B-P' 'P-B' 'B-P']\n",
      " ['A-B' 'B-P' 'P-B' 'B-N']\n",
      " ['A-B' 'B-P' 'P-A' 'A-P']\n",
      " ['A-B' 'B-N' 'N-S' 'S-T']\n",
      " ['A-B' 'B-N' 'N-B' 'B-P']\n",
      " ['A-B' 'B-N' 'N-A' 'A-P']\n",
      " ['A-P' 'P-S' 'S-T' 'T-S']\n",
      " ['A-P' 'P-S' 'S-T' 'T-B']\n",
      " ['A-P' 'P-S' 'S-T' 'T-A']\n",
      " ['A-P' 'P-B' 'B-P' 'P-S']\n",
      " ['A-P' 'P-B' 'B-P' 'P-B']\n",
      " ['A-P' 'P-B' 'B-P' 'P-A']\n",
      " ['A-P' 'P-B' 'B-N' 'N-S']\n",
      " ['A-P' 'P-B' 'B-N' 'N-B']\n",
      " ['A-P' 'P-B' 'B-N' 'N-A']\n",
      " ['A-P' 'P-A' 'A-B' 'B-P']\n",
      " ['A-P' 'P-A' 'A-B' 'B-N']\n",
      " ['A-P' 'P-A' 'A-P' 'P-S']\n",
      " ['A-P' 'P-A' 'A-P' 'P-B']\n",
      " ['A-P' 'P-A' 'A-P' 'P-A']]\n",
      "Output :\n",
      "[['A-B' 'B-P' 'P-S' 'S-T' 'T-S']\n",
      " ['A-B' 'B-P' 'P-S' 'S-T' 'T-B']\n",
      " ['A-B' 'B-P' 'P-S' 'S-T' 'T-A']\n",
      " ['A-B' 'B-P' 'P-B' 'B-P' 'P-S']\n",
      " ['A-B' 'B-P' 'P-B' 'B-P' 'P-B']\n",
      " ['A-B' 'B-P' 'P-B' 'B-P' 'P-A']\n",
      " ['A-B' 'B-P' 'P-B' 'B-N' 'N-S']\n",
      " ['A-B' 'B-P' 'P-B' 'B-N' 'N-B']\n",
      " ['A-B' 'B-P' 'P-B' 'B-N' 'N-A']\n",
      " ['A-B' 'B-P' 'P-A' 'A-P' 'P-S']\n",
      " ['A-B' 'B-P' 'P-A' 'A-P' 'P-B']\n",
      " ['A-B' 'B-P' 'P-A' 'A-P' 'P-A']\n",
      " ['A-B' 'B-N' 'N-S' 'S-T' 'T-S']\n",
      " ['A-B' 'B-N' 'N-S' 'S-T' 'T-B']\n",
      " ['A-B' 'B-N' 'N-S' 'S-T' 'T-A']\n",
      " ['A-B' 'B-N' 'N-B' 'B-P' 'P-S']\n",
      " ['A-B' 'B-N' 'N-B' 'B-P' 'P-B']\n",
      " ['A-B' 'B-N' 'N-B' 'B-P' 'P-A']\n",
      " ['A-B' 'B-N' 'N-A' 'A-P' 'P-S']\n",
      " ['A-B' 'B-N' 'N-A' 'A-P' 'P-B']\n",
      " ['A-B' 'B-N' 'N-A' 'A-P' 'P-A']\n",
      " ['A-P' 'P-S' 'S-T' 'T-B' 'B-P']\n",
      " ['A-P' 'P-S' 'S-T' 'T-B' 'B-N']\n",
      " ['A-P' 'P-S' 'S-T' 'T-A' 'A-B']\n",
      " ['A-P' 'P-S' 'S-T' 'T-A' 'A-P']\n",
      " ['A-P' 'P-B' 'B-P' 'P-S' 'S-T']\n",
      " ['A-P' 'P-B' 'B-P' 'P-B' 'B-P']\n",
      " ['A-P' 'P-B' 'B-P' 'P-B' 'B-N']\n",
      " ['A-P' 'P-B' 'B-P' 'P-A' 'A-B']\n",
      " ['A-P' 'P-B' 'B-P' 'P-A' 'A-P']\n",
      " ['A-P' 'P-B' 'B-N' 'N-S' 'S-T']\n",
      " ['A-P' 'P-B' 'B-N' 'N-B' 'B-P']\n",
      " ['A-P' 'P-B' 'B-N' 'N-A' 'A-B']\n",
      " ['A-P' 'P-B' 'B-N' 'N-A' 'A-P']\n",
      " ['A-P' 'P-A' 'A-B' 'B-P' 'P-S']\n",
      " ['A-P' 'P-A' 'A-B' 'B-P' 'P-B']\n",
      " ['A-P' 'P-A' 'A-B' 'B-P' 'P-A']\n",
      " ['A-P' 'P-A' 'A-B' 'B-N' 'N-S']\n",
      " ['A-P' 'P-A' 'A-B' 'B-N' 'N-B']\n",
      " ['A-P' 'P-A' 'A-B' 'B-N' 'N-A']\n",
      " ['A-P' 'P-A' 'A-P' 'P-S' 'S-T']\n",
      " ['A-P' 'P-A' 'A-P' 'P-B' 'B-P']\n",
      " ['A-P' 'P-A' 'A-P' 'P-B' 'B-N']\n",
      " ['A-P' 'P-A' 'A-P' 'P-A' 'A-B']]\n",
      "Output :\n",
      "[['A-B' 'B-P' 'P-S' 'S-T' 'T-B' 'B-P']\n",
      " ['A-B' 'B-P' 'P-S' 'S-T' 'T-B' 'B-N']\n",
      " ['A-B' 'B-P' 'P-S' 'S-T' 'T-A' 'A-P']\n",
      " ['A-B' 'B-P' 'P-B' 'B-P' 'P-S' 'S-T']\n",
      " ['A-B' 'B-P' 'P-B' 'B-P' 'P-B' 'B-N']\n",
      " ['A-B' 'B-P' 'P-B' 'B-P' 'P-A' 'A-P']\n",
      " ['A-B' 'B-P' 'P-B' 'B-N' 'N-S' 'S-T']\n",
      " ['A-B' 'B-P' 'P-B' 'B-N' 'N-B' 'B-P']\n",
      " ['A-B' 'B-P' 'P-B' 'B-N' 'N-A' 'A-P']\n",
      " ['A-B' 'B-P' 'P-A' 'A-P' 'P-S' 'S-T']\n",
      " ['A-B' 'B-P' 'P-A' 'A-P' 'P-B' 'B-P']\n",
      " ['A-B' 'B-P' 'P-A' 'A-P' 'P-B' 'B-N']\n",
      " ['A-B' 'B-P' 'P-A' 'A-P' 'P-A' 'A-P']\n",
      " ['A-B' 'B-N' 'N-S' 'S-T' 'T-B' 'B-P']\n",
      " ['A-B' 'B-N' 'N-S' 'S-T' 'T-A' 'A-P']\n",
      " ['A-B' 'B-N' 'N-B' 'B-P' 'P-S' 'S-T']\n",
      " ['A-B' 'B-N' 'N-B' 'B-P' 'P-B' 'B-P']\n",
      " ['A-B' 'B-N' 'N-B' 'B-P' 'P-A' 'A-P']\n",
      " ['A-B' 'B-N' 'N-A' 'A-P' 'P-S' 'S-T']\n",
      " ['A-B' 'B-N' 'N-A' 'A-P' 'P-B' 'B-P']\n",
      " ['A-B' 'B-N' 'N-A' 'A-P' 'P-A' 'A-P']\n",
      " ['A-P' 'P-S' 'S-T' 'T-B' 'B-P' 'P-S']\n",
      " ['A-P' 'P-S' 'S-T' 'T-B' 'B-P' 'P-B']\n",
      " ['A-P' 'P-S' 'S-T' 'T-B' 'B-P' 'P-A']\n",
      " ['A-P' 'P-S' 'S-T' 'T-B' 'B-N' 'N-S']\n",
      " ['A-P' 'P-S' 'S-T' 'T-B' 'B-N' 'N-B']\n",
      " ['A-P' 'P-S' 'S-T' 'T-B' 'B-N' 'N-A']\n",
      " ['A-P' 'P-S' 'S-T' 'T-A' 'A-B' 'B-P']\n",
      " ['A-P' 'P-S' 'S-T' 'T-A' 'A-B' 'B-N']\n",
      " ['A-P' 'P-S' 'S-T' 'T-A' 'A-P' 'P-S']\n",
      " ['A-P' 'P-S' 'S-T' 'T-A' 'A-P' 'P-B']\n",
      " ['A-P' 'P-S' 'S-T' 'T-A' 'A-P' 'P-A']\n",
      " ['A-P' 'P-B' 'B-P' 'P-S' 'S-T' 'T-S']\n",
      " ['A-P' 'P-B' 'B-P' 'P-S' 'S-T' 'T-B']\n",
      " ['A-P' 'P-B' 'B-P' 'P-S' 'S-T' 'T-A']\n",
      " ['A-P' 'P-B' 'B-P' 'P-B' 'B-P' 'P-S']\n",
      " ['A-P' 'P-B' 'B-P' 'P-B' 'B-P' 'P-B']\n",
      " ['A-P' 'P-B' 'B-P' 'P-B' 'B-P' 'P-A']\n",
      " ['A-P' 'P-B' 'B-P' 'P-B' 'B-N' 'N-S']\n",
      " ['A-P' 'P-B' 'B-P' 'P-B' 'B-N' 'N-B']\n",
      " ['A-P' 'P-B' 'B-P' 'P-B' 'B-N' 'N-A']\n",
      " ['A-P' 'P-B' 'B-P' 'P-A' 'A-B' 'B-P']\n",
      " ['A-P' 'P-B' 'B-P' 'P-A' 'A-B' 'B-N']\n",
      " ['A-P' 'P-B' 'B-P' 'P-A' 'A-P' 'P-S']\n",
      " ['A-P' 'P-B' 'B-P' 'P-A' 'A-P' 'P-B']\n",
      " ['A-P' 'P-B' 'B-P' 'P-A' 'A-P' 'P-A']\n",
      " ['A-P' 'P-B' 'B-N' 'N-S' 'S-T' 'T-S']\n",
      " ['A-P' 'P-B' 'B-N' 'N-S' 'S-T' 'T-B']\n",
      " ['A-P' 'P-B' 'B-N' 'N-S' 'S-T' 'T-A']\n",
      " ['A-P' 'P-B' 'B-N' 'N-B' 'B-P' 'P-S']\n",
      " ['A-P' 'P-B' 'B-N' 'N-B' 'B-P' 'P-B']\n",
      " ['A-P' 'P-B' 'B-N' 'N-B' 'B-P' 'P-A']\n",
      " ['A-P' 'P-B' 'B-N' 'N-A' 'A-B' 'B-P']\n",
      " ['A-P' 'P-B' 'B-N' 'N-A' 'A-P' 'P-S']\n",
      " ['A-P' 'P-B' 'B-N' 'N-A' 'A-P' 'P-B']\n",
      " ['A-P' 'P-B' 'B-N' 'N-A' 'A-P' 'P-A']\n",
      " ['A-P' 'P-A' 'A-B' 'B-P' 'P-S' 'S-T']\n",
      " ['A-P' 'P-A' 'A-B' 'B-P' 'P-B' 'B-P']\n",
      " ['A-P' 'P-A' 'A-B' 'B-P' 'P-B' 'B-N']\n",
      " ['A-P' 'P-A' 'A-B' 'B-P' 'P-A' 'A-P']\n",
      " ['A-P' 'P-A' 'A-B' 'B-N' 'N-S' 'S-T']\n",
      " ['A-P' 'P-A' 'A-B' 'B-N' 'N-B' 'B-P']\n",
      " ['A-P' 'P-A' 'A-B' 'B-N' 'N-A' 'A-P']\n",
      " ['A-P' 'P-A' 'A-P' 'P-S' 'S-T' 'T-S']\n",
      " ['A-P' 'P-A' 'A-P' 'P-S' 'S-T' 'T-B']\n",
      " ['A-P' 'P-A' 'A-P' 'P-S' 'S-T' 'T-A']\n",
      " ['A-P' 'P-A' 'A-P' 'P-B' 'B-P' 'P-S']\n",
      " ['A-P' 'P-A' 'A-P' 'P-B' 'B-P' 'P-B']\n",
      " ['A-P' 'P-A' 'A-P' 'P-B' 'B-P' 'P-A']\n",
      " ['A-P' 'P-A' 'A-P' 'P-B' 'B-N' 'N-S']\n",
      " ['A-P' 'P-A' 'A-P' 'P-B' 'B-N' 'N-B']\n",
      " ['A-P' 'P-A' 'A-P' 'P-B' 'B-N' 'N-A']\n",
      " ['A-P' 'P-A' 'A-P' 'P-A' 'A-B' 'B-P']\n",
      " ['A-P' 'P-A' 'A-P' 'P-A' 'A-B' 'B-N']]\n",
      "Output :\n",
      "[['A-B' 'B-P' 'P-S' ... 'T-B' 'B-P' 'P-S']\n",
      " ['A-B' 'B-P' 'P-S' ... 'T-B' 'B-P' 'P-B']\n",
      " ['A-B' 'B-P' 'P-S' ... 'T-B' 'B-P' 'P-A']\n",
      " ...\n",
      " ['A-P' 'P-A' 'A-P' ... 'A-B' 'B-N' 'N-S']\n",
      " ['A-P' 'P-A' 'A-P' ... 'A-B' 'B-N' 'N-B']\n",
      " ['A-P' 'P-A' 'A-P' ... 'A-B' 'B-N' 'N-A']]\n",
      "Output :\n",
      "[['A-B' 'B-P' 'P-S' ... 'B-P' 'P-B' 'B-N']\n",
      " ['A-B' 'B-P' 'P-S' ... 'B-P' 'P-A' 'A-P']\n",
      " ['A-B' 'B-P' 'P-S' ... 'B-N' 'N-B' 'B-P']\n",
      " ...\n",
      " ['A-P' 'P-A' 'A-P' ... 'B-P' 'P-B' 'B-N']\n",
      " ['A-P' 'P-A' 'A-P' ... 'B-N' 'N-S' 'S-T']\n",
      " ['A-P' 'P-A' 'A-P' ... 'B-N' 'N-B' 'B-P']]\n",
      "Output :\n",
      "[['A-B' 'B-P' 'P-S' ... 'P-B' 'B-N' 'N-S']\n",
      " ['A-B' 'B-P' 'P-S' ... 'P-B' 'B-N' 'N-B']\n",
      " ['A-B' 'B-P' 'P-S' ... 'P-B' 'B-N' 'N-A']\n",
      " ...\n",
      " ['A-P' 'P-A' 'A-P' ... 'N-B' 'B-P' 'P-S']\n",
      " ['A-P' 'P-A' 'A-P' ... 'N-B' 'B-P' 'P-B']\n",
      " ['A-P' 'P-A' 'A-P' ... 'N-B' 'B-P' 'P-A']]\n",
      "Output :\n",
      "[['A-B' 'B-P' 'P-S' ... 'B-N' 'N-A' 'A-P']\n",
      " ['A-B' 'B-P' 'P-S' ... 'A-P' 'P-B' 'B-N']\n",
      " ['A-B' 'B-P' 'P-S' ... 'A-P' 'P-A' 'A-P']\n",
      " ...\n",
      " ['A-P' 'P-A' 'A-P' ... 'S-T' 'T-B' 'B-P']\n",
      " ['A-P' 'P-A' 'A-P' ... 'B-P' 'P-S' 'S-T']\n",
      " ['A-P' 'P-A' 'A-P' ... 'B-P' 'P-B' 'B-P']]\n",
      "Output :\n",
      "[['A-B' 'B-P' 'P-S' ... 'N-A' 'A-P' 'P-S']\n",
      " ['A-B' 'B-P' 'P-S' ... 'N-A' 'A-P' 'P-B']\n",
      " ['A-B' 'B-P' 'P-S' ... 'N-A' 'A-P' 'P-A']\n",
      " ...\n",
      " ['A-P' 'P-A' 'A-P' ... 'P-B' 'B-P' 'P-S']\n",
      " ['A-P' 'P-A' 'A-P' ... 'P-B' 'B-P' 'P-B']\n",
      " ['A-P' 'P-A' 'A-P' ... 'P-B' 'B-P' 'P-A']]\n",
      "Output :\n",
      "[['A-B' 'B-P' 'P-S' ... 'A-P' 'P-A' 'A-P']\n",
      " ['A-B' 'B-P' 'P-S' ... 'B-N' 'N-A' 'A-P']\n",
      " ['A-B' 'B-P' 'P-S' ... 'A-P' 'P-B' 'B-N']\n",
      " ...\n",
      " ['A-P' 'P-A' 'A-P' ... 'B-P' 'P-B' 'B-P']\n",
      " ['A-P' 'P-A' 'A-P' ... 'S-T' 'T-B' 'B-P']\n",
      " ['A-P' 'P-A' 'A-P' ... 'B-P' 'P-S' 'S-T']]\n",
      "Output :\n",
      "[['A-B' 'B-P' 'P-S' ... 'P-A' 'A-P' '0']\n",
      " ['A-B' 'B-P' 'P-S' ... 'N-A' 'A-P' '0']\n",
      " ['A-B' 'B-P' 'P-S' ... 'P-B' 'B-N' '0']\n",
      " ...\n",
      " ['A-P' 'P-A' 'A-P' ... 'P-B' 'B-P' '0']\n",
      " ['A-P' 'P-A' 'A-P' ... 'T-B' 'B-P' '0']\n",
      " ['A-P' 'P-A' 'A-P' ... 'P-S' 'S-T' '0']]\n",
      "Output :\n",
      "[['A-B' 'B-P' 'P-S' ... 'A-P' '0' '0']\n",
      " ['A-B' 'B-P' 'P-S' ... 'A-P' '0' '0']\n",
      " ['A-B' 'B-P' 'P-S' ... 'B-N' '0' '0']\n",
      " ...\n",
      " ['A-P' 'P-A' 'A-P' ... 'B-P' '0' '0']\n",
      " ['A-P' 'P-A' 'A-P' ... 'B-P' '0' '0']\n",
      " ['A-P' 'P-A' 'A-P' ... 'S-T' '0' '0']]\n"
     ]
    }
   ],
   "source": [
    "all_paths = allPath(job_done,tasks)"
   ]
  },
  {
   "cell_type": "markdown",
   "metadata": {},
   "source": [
    "ลองเชคคำตอบ"
   ]
  },
  {
   "cell_type": "code",
   "execution_count": 35,
   "metadata": {},
   "outputs": [
    {
     "data": {
      "text/plain": [
       "(330, 14)"
      ]
     },
     "execution_count": 35,
     "metadata": {},
     "output_type": "execute_result"
    }
   ],
   "source": [
    "all_paths.shape"
   ]
  },
  {
   "cell_type": "markdown",
   "metadata": {},
   "source": [
    "มีท้งหมด 330 วิธีที่ต่างกัน และจำนวนครั้งสูงสุดในการเดินงานคือ 13 (columns สุดท้ายเป็น 0 ไม่นับ)"
   ]
  },
  {
   "cell_type": "markdown",
   "metadata": {},
   "source": [
    "ลอง print ดู ถ้า 0 คือเสร็จแล้ว ไม่นับ"
   ]
  },
  {
   "cell_type": "code",
   "execution_count": 36,
   "metadata": {},
   "outputs": [
    {
     "data": {
      "text/plain": [
       "array([['A-B', 'B-P', 'P-S', 'S-T', 'T-B', 'B-P', 'P-B', 'B-N', 'N-A', 'A-P', 'P-A', 'A-P', '0', '0'],\n",
       "       ['A-B', 'B-P', 'P-S', 'S-T', 'T-B', 'B-P', 'P-A', 'A-P', 'P-B', 'B-N', 'N-A', 'A-P', '0', '0'],\n",
       "       ['A-B', 'B-P', 'P-S', 'S-T', 'T-B', 'B-P', 'P-A', 'A-P', 'P-A', 'A-P', 'P-B', 'B-N', '0', '0'],\n",
       "       ['A-B', 'B-P', 'P-S', 'S-T', 'T-B', 'B-N', 'N-B', 'B-P', 'P-A', 'A-P', 'P-A', 'A-P', '0', '0'],\n",
       "       ['A-B', 'B-P', 'P-S', 'S-T', 'T-B', 'B-N', 'N-A', 'A-P', 'P-B', 'B-P', 'P-A', 'A-P', '0', '0'],\n",
       "       ['A-B', 'B-P', 'P-S', 'S-T', 'T-B', 'B-N', 'N-A', 'A-P', 'P-A', 'A-P', 'P-B', 'B-P', '0', '0'],\n",
       "       ['A-B', 'B-P', 'P-S', 'S-T', 'T-A', 'A-P', 'P-B', 'B-P', 'P-B', 'B-N', 'N-A', 'A-P', '0', '0'],\n",
       "       ['A-B', 'B-P', 'P-S', 'S-T', 'T-A', 'A-P', 'P-B', 'B-P', 'P-A', 'A-P', 'P-B', 'B-N', '0', '0'],\n",
       "       ['A-B', 'B-P', 'P-S', 'S-T', 'T-A', 'A-P', 'P-B', 'B-N', 'N-B', 'B-P', 'P-A', 'A-P', '0', '0'],\n",
       "       ['A-B', 'B-P', 'P-S', 'S-T', 'T-A', 'A-P', 'P-B', 'B-N', 'N-A', 'A-P', 'P-B', 'B-P', '0', '0'],\n",
       "       ['A-B', 'B-P', 'P-S', 'S-T', 'T-A', 'A-P', 'P-A', 'A-P', 'P-B', 'B-P', 'P-B', 'B-N', '0', '0'],\n",
       "       ['A-B', 'B-P', 'P-S', 'S-T', 'T-A', 'A-P', 'P-A', 'A-P', 'P-B', 'B-N', 'N-B', 'B-P', '0', '0'],\n",
       "       ['A-B', 'B-P', 'P-B', 'B-P', 'P-S', 'S-T', 'T-B', 'B-N', 'N-A', 'A-P', 'P-A', 'A-P', '0', '0'],\n",
       "       ['A-B', 'B-P', 'P-B', 'B-P', 'P-S', 'S-T', 'T-A', 'A-P', 'P-B', 'B-N', 'N-A', 'A-P', '0', '0'],\n",
       "       ['A-B', 'B-P', 'P-B', 'B-P', 'P-S', 'S-T', 'T-A', 'A-P', 'P-A', 'A-P', 'P-B', 'B-N', '0', '0'],\n",
       "       ['A-B', 'B-P', 'P-B', 'B-P', 'P-B', 'B-N', 'N-S', 'S-T', 'T-A', 'A-P', 'P-A', 'A-P', '0', '0'],\n",
       "       ['A-B', 'B-P', 'P-B', 'B-P', 'P-B', 'B-N', 'N-A', 'A-P', 'P-S', 'S-T', 'T-A', 'A-P', '0', '0'],\n",
       "       ['A-B', 'B-P', 'P-B', 'B-P', 'P-B', 'B-N', 'N-A', 'A-P', 'P-A', 'A-P', 'P-S', 'S-T', '0', '0'],\n",
       "       ['A-B', 'B-P', 'P-B', 'B-P', 'P-A', 'A-P', 'P-S', 'S-T', 'T-B', 'B-N', 'N-A', 'A-P', '0', '0'],\n",
       "       ['A-B', 'B-P', 'P-B', 'B-P', 'P-A', 'A-P', 'P-S', 'S-T', 'T-A', 'A-P', 'P-B', 'B-N', '0', '0'],\n",
       "       ['A-B', 'B-P', 'P-B', 'B-P', 'P-A', 'A-P', 'P-B', 'B-N', 'N-S', 'S-T', 'T-A', 'A-P', '0', '0'],\n",
       "       ['A-B', 'B-P', 'P-B', 'B-P', 'P-A', 'A-P', 'P-B', 'B-N', 'N-A', 'A-P', 'P-S', 'S-T', '0', '0'],\n",
       "       ['A-B', 'B-P', 'P-B', 'B-P', 'P-A', 'A-P', 'P-A', 'A-P', 'P-S', 'S-T', 'T-B', 'B-N', '0', '0'],\n",
       "       ['A-B', 'B-P', 'P-B', 'B-P', 'P-A', 'A-P', 'P-A', 'A-P', 'P-B', 'B-N', 'N-S', 'S-T', '0', '0'],\n",
       "       ['A-B', 'B-P', 'P-B', 'B-N', 'N-S', 'S-T', 'T-B', 'B-P', 'P-A', 'A-P', 'P-A', 'A-P', '0', '0'],\n",
       "       ['A-B', 'B-P', 'P-B', 'B-N', 'N-S', 'S-T', 'T-A', 'A-P', 'P-B', 'B-P', 'P-A', 'A-P', '0', '0'],\n",
       "       ['A-B', 'B-P', 'P-B', 'B-N', 'N-S', 'S-T', 'T-A', 'A-P', 'P-A', 'A-P', 'P-B', 'B-P', '0', '0'],\n",
       "       ['A-B', 'B-P', 'P-B', 'B-N', 'N-B', 'B-P', 'P-S', 'S-T', 'T-A', 'A-P', 'P-A', 'A-P', '0', '0'],\n",
       "       ['A-B', 'B-P', 'P-B', 'B-N', 'N-B', 'B-P', 'P-A', 'A-P', 'P-S', 'S-T', 'T-A', 'A-P', '0', '0'],\n",
       "       ['A-B', 'B-P', 'P-B', 'B-N', 'N-B', 'B-P', 'P-A', 'A-P', 'P-A', 'A-P', 'P-S', 'S-T', '0', '0'],\n",
       "       ['A-B', 'B-P', 'P-B', 'B-N', 'N-A', 'A-P', 'P-S', 'S-T', 'T-B', 'B-P', 'P-A', 'A-P', '0', '0'],\n",
       "       ['A-B', 'B-P', 'P-B', 'B-N', 'N-A', 'A-P', 'P-S', 'S-T', 'T-A', 'A-P', 'P-B', 'B-P', '0', '0'],\n",
       "       ['A-B', 'B-P', 'P-B', 'B-N', 'N-A', 'A-P', 'P-B', 'B-P', 'P-S', 'S-T', 'T-A', 'A-P', '0', '0'],\n",
       "       ['A-B', 'B-P', 'P-B', 'B-N', 'N-A', 'A-P', 'P-B', 'B-P', 'P-A', 'A-P', 'P-S', 'S-T', '0', '0'],\n",
       "       ['A-B', 'B-P', 'P-B', 'B-N', 'N-A', 'A-P', 'P-A', 'A-P', 'P-S', 'S-T', 'T-B', 'B-P', '0', '0'],\n",
       "       ['A-B', 'B-P', 'P-B', 'B-N', 'N-A', 'A-P', 'P-A', 'A-P', 'P-B', 'B-P', 'P-S', 'S-T', '0', '0'],\n",
       "       ['A-B', 'B-P', 'P-A', 'A-P', 'P-S', 'S-T', 'T-B', 'B-P', 'P-B', 'B-N', 'N-A', 'A-P', '0', '0'],\n",
       "       ['A-B', 'B-P', 'P-A', 'A-P', 'P-S', 'S-T', 'T-B', 'B-P', 'P-A', 'A-P', 'P-B', 'B-N', '0', '0'],\n",
       "       ['A-B', 'B-P', 'P-A', 'A-P', 'P-S', 'S-T', 'T-B', 'B-N', 'N-B', 'B-P', 'P-A', 'A-P', '0', '0'],\n",
       "       ['A-B', 'B-P', 'P-A', 'A-P', 'P-S', 'S-T', 'T-B', 'B-N', 'N-A', 'A-P', 'P-B', 'B-P', '0', '0'],\n",
       "       ['A-B', 'B-P', 'P-A', 'A-P', 'P-S', 'S-T', 'T-A', 'A-P', 'P-B', 'B-P', 'P-B', 'B-N', '0', '0'],\n",
       "       ['A-B', 'B-P', 'P-A', 'A-P', 'P-S', 'S-T', 'T-A', 'A-P', 'P-B', 'B-N', 'N-B', 'B-P', '0', '0'],\n",
       "       ['A-B', 'B-P', 'P-A', 'A-P', 'P-B', 'B-P', 'P-S', 'S-T', 'T-B', 'B-N', 'N-A', 'A-P', '0', '0'],\n",
       "       ['A-B', 'B-P', 'P-A', 'A-P', 'P-B', 'B-P', 'P-S', 'S-T', 'T-A', 'A-P', 'P-B', 'B-N', '0', '0'],\n",
       "       ['A-B', 'B-P', 'P-A', 'A-P', 'P-B', 'B-P', 'P-B', 'B-N', 'N-S', 'S-T', 'T-A', 'A-P', '0', '0'],\n",
       "       ['A-B', 'B-P', 'P-A', 'A-P', 'P-B', 'B-P', 'P-B', 'B-N', 'N-A', 'A-P', 'P-S', 'S-T', '0', '0'],\n",
       "       ['A-B', 'B-P', 'P-A', 'A-P', 'P-B', 'B-P', 'P-A', 'A-P', 'P-S', 'S-T', 'T-B', 'B-N', '0', '0'],\n",
       "       ['A-B', 'B-P', 'P-A', 'A-P', 'P-B', 'B-P', 'P-A', 'A-P', 'P-B', 'B-N', 'N-S', 'S-T', '0', '0'],\n",
       "       ['A-B', 'B-P', 'P-A', 'A-P', 'P-B', 'B-N', 'N-S', 'S-T', 'T-B', 'B-P', 'P-A', 'A-P', '0', '0'],\n",
       "       ['A-B', 'B-P', 'P-A', 'A-P', 'P-B', 'B-N', 'N-S', 'S-T', 'T-A', 'A-P', 'P-B', 'B-P', '0', '0'],\n",
       "       ['A-B', 'B-P', 'P-A', 'A-P', 'P-B', 'B-N', 'N-B', 'B-P', 'P-S', 'S-T', 'T-A', 'A-P', '0', '0'],\n",
       "       ['A-B', 'B-P', 'P-A', 'A-P', 'P-B', 'B-N', 'N-B', 'B-P', 'P-A', 'A-P', 'P-S', 'S-T', '0', '0'],\n",
       "       ['A-B', 'B-P', 'P-A', 'A-P', 'P-B', 'B-N', 'N-A', 'A-P', 'P-S', 'S-T', 'T-B', 'B-P', '0', '0'],\n",
       "       ['A-B', 'B-P', 'P-A', 'A-P', 'P-B', 'B-N', 'N-A', 'A-P', 'P-B', 'B-P', 'P-S', 'S-T', '0', '0'],\n",
       "       ['A-B', 'B-P', 'P-A', 'A-P', 'P-A', 'A-P', 'P-S', 'S-T', 'T-B', 'B-P', 'P-B', 'B-N', '0', '0'],\n",
       "       ['A-B', 'B-P', 'P-A', 'A-P', 'P-A', 'A-P', 'P-S', 'S-T', 'T-B', 'B-N', 'N-B', 'B-P', '0', '0'],\n",
       "       ['A-B', 'B-P', 'P-A', 'A-P', 'P-A', 'A-P', 'P-B', 'B-P', 'P-S', 'S-T', 'T-B', 'B-N', '0', '0'],\n",
       "       ['A-B', 'B-P', 'P-A', 'A-P', 'P-A', 'A-P', 'P-B', 'B-P', 'P-B', 'B-N', 'N-S', 'S-T', '0', '0'],\n",
       "       ['A-B', 'B-P', 'P-A', 'A-P', 'P-A', 'A-P', 'P-B', 'B-N', 'N-S', 'S-T', 'T-B', 'B-P', '0', '0'],\n",
       "       ['A-B', 'B-P', 'P-A', 'A-P', 'P-A', 'A-P', 'P-B', 'B-N', 'N-B', 'B-P', 'P-S', 'S-T', '0', '0'],\n",
       "       ['A-B', 'B-N', 'N-S', 'S-T', 'T-B', 'B-P', 'P-B', 'B-P', 'P-A', 'A-P', 'P-A', 'A-P', '0', '0'],\n",
       "       ['A-B', 'B-N', 'N-S', 'S-T', 'T-B', 'B-P', 'P-A', 'A-P', 'P-B', 'B-P', 'P-A', 'A-P', '0', '0'],\n",
       "       ['A-B', 'B-N', 'N-S', 'S-T', 'T-B', 'B-P', 'P-A', 'A-P', 'P-A', 'A-P', 'P-B', 'B-P', '0', '0'],\n",
       "       ['A-B', 'B-N', 'N-S', 'S-T', 'T-A', 'A-P', 'P-B', 'B-P', 'P-B', 'B-P', 'P-A', 'A-P', '0', '0'],\n",
       "       ['A-B', 'B-N', 'N-S', 'S-T', 'T-A', 'A-P', 'P-B', 'B-P', 'P-A', 'A-P', 'P-B', 'B-P', '0', '0'],\n",
       "       ['A-B', 'B-N', 'N-S', 'S-T', 'T-A', 'A-P', 'P-A', 'A-P', 'P-B', 'B-P', 'P-B', 'B-P', '0', '0'],\n",
       "       ['A-B', 'B-N', 'N-B', 'B-P', 'P-S', 'S-T', 'T-B', 'B-P', 'P-A', 'A-P', 'P-A', 'A-P', '0', '0'],\n",
       "       ['A-B', 'B-N', 'N-B', 'B-P', 'P-S', 'S-T', 'T-A', 'A-P', 'P-B', 'B-P', 'P-A', 'A-P', '0', '0'],\n",
       "       ['A-B', 'B-N', 'N-B', 'B-P', 'P-S', 'S-T', 'T-A', 'A-P', 'P-A', 'A-P', 'P-B', 'B-P', '0', '0'],\n",
       "       ['A-B', 'B-N', 'N-B', 'B-P', 'P-B', 'B-P', 'P-S', 'S-T', 'T-A', 'A-P', 'P-A', 'A-P', '0', '0'],\n",
       "       ['A-B', 'B-N', 'N-B', 'B-P', 'P-B', 'B-P', 'P-A', 'A-P', 'P-S', 'S-T', 'T-A', 'A-P', '0', '0'],\n",
       "       ['A-B', 'B-N', 'N-B', 'B-P', 'P-B', 'B-P', 'P-A', 'A-P', 'P-A', 'A-P', 'P-S', 'S-T', '0', '0'],\n",
       "       ['A-B', 'B-N', 'N-B', 'B-P', 'P-A', 'A-P', 'P-S', 'S-T', 'T-B', 'B-P', 'P-A', 'A-P', '0', '0'],\n",
       "       ['A-B', 'B-N', 'N-B', 'B-P', 'P-A', 'A-P', 'P-S', 'S-T', 'T-A', 'A-P', 'P-B', 'B-P', '0', '0'],\n",
       "       ['A-B', 'B-N', 'N-B', 'B-P', 'P-A', 'A-P', 'P-B', 'B-P', 'P-S', 'S-T', 'T-A', 'A-P', '0', '0'],\n",
       "       ['A-B', 'B-N', 'N-B', 'B-P', 'P-A', 'A-P', 'P-B', 'B-P', 'P-A', 'A-P', 'P-S', 'S-T', '0', '0'],\n",
       "       ['A-B', 'B-N', 'N-B', 'B-P', 'P-A', 'A-P', 'P-A', 'A-P', 'P-S', 'S-T', 'T-B', 'B-P', '0', '0'],\n",
       "       ['A-B', 'B-N', 'N-B', 'B-P', 'P-A', 'A-P', 'P-A', 'A-P', 'P-B', 'B-P', 'P-S', 'S-T', '0', '0'],\n",
       "       ['A-B', 'B-N', 'N-A', 'A-P', 'P-S', 'S-T', 'T-B', 'B-P', 'P-B', 'B-P', 'P-A', 'A-P', '0', '0'],\n",
       "       ['A-B', 'B-N', 'N-A', 'A-P', 'P-S', 'S-T', 'T-B', 'B-P', 'P-A', 'A-P', 'P-B', 'B-P', '0', '0'],\n",
       "       ['A-B', 'B-N', 'N-A', 'A-P', 'P-S', 'S-T', 'T-A', 'A-P', 'P-B', 'B-P', 'P-B', 'B-P', '0', '0'],\n",
       "       ['A-B', 'B-N', 'N-A', 'A-P', 'P-B', 'B-P', 'P-S', 'S-T', 'T-B', 'B-P', 'P-A', 'A-P', '0', '0'],\n",
       "       ['A-B', 'B-N', 'N-A', 'A-P', 'P-B', 'B-P', 'P-S', 'S-T', 'T-A', 'A-P', 'P-B', 'B-P', '0', '0'],\n",
       "       ['A-B', 'B-N', 'N-A', 'A-P', 'P-B', 'B-P', 'P-B', 'B-P', 'P-S', 'S-T', 'T-A', 'A-P', '0', '0'],\n",
       "       ['A-B', 'B-N', 'N-A', 'A-P', 'P-B', 'B-P', 'P-B', 'B-P', 'P-A', 'A-P', 'P-S', 'S-T', '0', '0'],\n",
       "       ['A-B', 'B-N', 'N-A', 'A-P', 'P-B', 'B-P', 'P-A', 'A-P', 'P-S', 'S-T', 'T-B', 'B-P', '0', '0'],\n",
       "       ['A-B', 'B-N', 'N-A', 'A-P', 'P-B', 'B-P', 'P-A', 'A-P', 'P-B', 'B-P', 'P-S', 'S-T', '0', '0'],\n",
       "       ['A-B', 'B-N', 'N-A', 'A-P', 'P-A', 'A-P', 'P-S', 'S-T', 'T-B', 'B-P', 'P-B', 'B-P', '0', '0'],\n",
       "       ['A-B', 'B-N', 'N-A', 'A-P', 'P-A', 'A-P', 'P-B', 'B-P', 'P-S', 'S-T', 'T-B', 'B-P', '0', '0'],\n",
       "       ['A-B', 'B-N', 'N-A', 'A-P', 'P-A', 'A-P', 'P-B', 'B-P', 'P-B', 'B-P', 'P-S', 'S-T', '0', '0'],\n",
       "       ['A-P', 'P-S', 'S-T', 'T-B', 'B-P', 'P-B', 'B-P', 'P-B', 'B-N', 'N-A', 'A-P', 'P-A', 'A-B', '0'],\n",
       "       ['A-P', 'P-S', 'S-T', 'T-B', 'B-P', 'P-B', 'B-P', 'P-A', 'A-B', 'B-N', 'N-A', 'A-P', '0', '0'],\n",
       "       ['A-P', 'P-S', 'S-T', 'T-B', 'B-P', 'P-B', 'B-P', 'P-A', 'A-P', 'P-B', 'B-N', 'N-A', 'A-B', '0'],\n",
       "       ['A-P', 'P-S', 'S-T', 'T-B', 'B-P', 'P-B', 'B-P', 'P-A', 'A-P', 'P-A', 'A-B', 'B-N', '0', '0'],\n",
       "       ['A-P', 'P-S', 'S-T', 'T-B', 'B-P', 'P-B', 'B-N', 'N-B', 'B-P', 'P-A', 'A-P', 'P-A', 'A-B', '0'],\n",
       "       ['A-P', 'P-S', 'S-T', 'T-B', 'B-P', 'P-B', 'B-N', 'N-A', 'A-B', 'B-P', 'P-A', 'A-P', '0', '0'],\n",
       "       ['A-P', 'P-S', 'S-T', 'T-B', 'B-P', 'P-B', 'B-N', 'N-A', 'A-P', 'P-B', 'B-P', 'P-A', 'A-B', '0'],\n",
       "       ['A-P', 'P-S', 'S-T', 'T-B', 'B-P', 'P-B', 'B-N', 'N-A', 'A-P', 'P-A', 'A-B', 'B-P', '0', '0'],\n",
       "       ['A-P', 'P-S', 'S-T', 'T-B', 'B-P', 'P-A', 'A-B', 'B-P', 'P-B', 'B-N', 'N-A', 'A-P', '0', '0'],\n",
       "       ['A-P', 'P-S', 'S-T', 'T-B', 'B-P', 'P-A', 'A-B', 'B-P', 'P-A', 'A-P', 'P-B', 'B-N', '0', '0'],\n",
       "       ['A-P', 'P-S', 'S-T', 'T-B', 'B-P', 'P-A', 'A-B', 'B-N', 'N-B', 'B-P', 'P-A', 'A-P', '0', '0'],\n",
       "       ['A-P', 'P-S', 'S-T', 'T-B', 'B-P', 'P-A', 'A-B', 'B-N', 'N-A', 'A-P', 'P-B', 'B-P', '0', '0'],\n",
       "       ['A-P', 'P-S', 'S-T', 'T-B', 'B-P', 'P-A', 'A-P', 'P-B', 'B-P', 'P-B', 'B-N', 'N-A', 'A-B', '0'],\n",
       "       ['A-P', 'P-S', 'S-T', 'T-B', 'B-P', 'P-A', 'A-P', 'P-B', 'B-P', 'P-A', 'A-B', 'B-N', '0', '0'],\n",
       "       ['A-P', 'P-S', 'S-T', 'T-B', 'B-P', 'P-A', 'A-P', 'P-B', 'B-N', 'N-B', 'B-P', 'P-A', 'A-B', '0'],\n",
       "       ['A-P', 'P-S', 'S-T', 'T-B', 'B-P', 'P-A', 'A-P', 'P-B', 'B-N', 'N-A', 'A-B', 'B-P', '0', '0'],\n",
       "       ['A-P', 'P-S', 'S-T', 'T-B', 'B-P', 'P-A', 'A-P', 'P-A', 'A-B', 'B-P', 'P-B', 'B-N', '0', '0'],\n",
       "       ['A-P', 'P-S', 'S-T', 'T-B', 'B-P', 'P-A', 'A-P', 'P-A', 'A-B', 'B-N', 'N-B', 'B-P', '0', '0'],\n",
       "       ['A-P', 'P-S', 'S-T', 'T-B', 'B-N', 'N-B', 'B-P', 'P-B', 'B-P', 'P-A', 'A-P', 'P-A', 'A-B', '0'],\n",
       "       ['A-P', 'P-S', 'S-T', 'T-B', 'B-N', 'N-B', 'B-P', 'P-A', 'A-B', 'B-P', 'P-A', 'A-P', '0', '0'],\n",
       "       ['A-P', 'P-S', 'S-T', 'T-B', 'B-N', 'N-B', 'B-P', 'P-A', 'A-P', 'P-B', 'B-P', 'P-A', 'A-B', '0'],\n",
       "       ['A-P', 'P-S', 'S-T', 'T-B', 'B-N', 'N-B', 'B-P', 'P-A', 'A-P', 'P-A', 'A-B', 'B-P', '0', '0'],\n",
       "       ['A-P', 'P-S', 'S-T', 'T-B', 'B-N', 'N-A', 'A-B', 'B-P', 'P-B', 'B-P', 'P-A', 'A-P', '0', '0'],\n",
       "       ['A-P', 'P-S', 'S-T', 'T-B', 'B-N', 'N-A', 'A-B', 'B-P', 'P-A', 'A-P', 'P-B', 'B-P', '0', '0'],\n",
       "       ['A-P', 'P-S', 'S-T', 'T-B', 'B-N', 'N-A', 'A-P', 'P-B', 'B-P', 'P-B', 'B-P', 'P-A', 'A-B', '0'],\n",
       "       ['A-P', 'P-S', 'S-T', 'T-B', 'B-N', 'N-A', 'A-P', 'P-B', 'B-P', 'P-A', 'A-B', 'B-P', '0', '0'],\n",
       "       ['A-P', 'P-S', 'S-T', 'T-B', 'B-N', 'N-A', 'A-P', 'P-A', 'A-B', 'B-P', 'P-B', 'B-P', '0', '0'],\n",
       "       ['A-P', 'P-S', 'S-T', 'T-A', 'A-B', 'B-P', 'P-B', 'B-P', 'P-B', 'B-N', 'N-A', 'A-P', '0', '0'],\n",
       "       ['A-P', 'P-S', 'S-T', 'T-A', 'A-B', 'B-P', 'P-B', 'B-P', 'P-A', 'A-P', 'P-B', 'B-N', '0', '0'],\n",
       "       ['A-P', 'P-S', 'S-T', 'T-A', 'A-B', 'B-P', 'P-B', 'B-N', 'N-B', 'B-P', 'P-A', 'A-P', '0', '0'],\n",
       "       ['A-P', 'P-S', 'S-T', 'T-A', 'A-B', 'B-P', 'P-B', 'B-N', 'N-A', 'A-P', 'P-B', 'B-P', '0', '0'],\n",
       "       ['A-P', 'P-S', 'S-T', 'T-A', 'A-B', 'B-P', 'P-A', 'A-P', 'P-B', 'B-P', 'P-B', 'B-N', '0', '0'],\n",
       "       ['A-P', 'P-S', 'S-T', 'T-A', 'A-B', 'B-P', 'P-A', 'A-P', 'P-B', 'B-N', 'N-B', 'B-P', '0', '0'],\n",
       "       ['A-P', 'P-S', 'S-T', 'T-A', 'A-B', 'B-N', 'N-B', 'B-P', 'P-B', 'B-P', 'P-A', 'A-P', '0', '0'],\n",
       "       ['A-P', 'P-S', 'S-T', 'T-A', 'A-B', 'B-N', 'N-B', 'B-P', 'P-A', 'A-P', 'P-B', 'B-P', '0', '0'],\n",
       "       ['A-P', 'P-S', 'S-T', 'T-A', 'A-B', 'B-N', 'N-A', 'A-P', 'P-B', 'B-P', 'P-B', 'B-P', '0', '0'],\n",
       "       ['A-P', 'P-S', 'S-T', 'T-A', 'A-P', 'P-B', 'B-P', 'P-B', 'B-P', 'P-B', 'B-N', 'N-A', 'A-B', '0'],\n",
       "       ['A-P', 'P-S', 'S-T', 'T-A', 'A-P', 'P-B', 'B-P', 'P-B', 'B-P', 'P-A', 'A-B', 'B-N', '0', '0'],\n",
       "       ['A-P', 'P-S', 'S-T', 'T-A', 'A-P', 'P-B', 'B-P', 'P-B', 'B-N', 'N-B', 'B-P', 'P-A', 'A-B', '0'],\n",
       "       ['A-P', 'P-S', 'S-T', 'T-A', 'A-P', 'P-B', 'B-P', 'P-B', 'B-N', 'N-A', 'A-B', 'B-P', '0', '0'],\n",
       "       ['A-P', 'P-S', 'S-T', 'T-A', 'A-P', 'P-B', 'B-P', 'P-A', 'A-B', 'B-P', 'P-B', 'B-N', '0', '0'],\n",
       "       ['A-P', 'P-S', 'S-T', 'T-A', 'A-P', 'P-B', 'B-P', 'P-A', 'A-B', 'B-N', 'N-B', 'B-P', '0', '0'],\n",
       "       ['A-P', 'P-S', 'S-T', 'T-A', 'A-P', 'P-B', 'B-N', 'N-B', 'B-P', 'P-B', 'B-P', 'P-A', 'A-B', '0'],\n",
       "       ['A-P', 'P-S', 'S-T', 'T-A', 'A-P', 'P-B', 'B-N', 'N-B', 'B-P', 'P-A', 'A-B', 'B-P', '0', '0'],\n",
       "       ['A-P', 'P-S', 'S-T', 'T-A', 'A-P', 'P-B', 'B-N', 'N-A', 'A-B', 'B-P', 'P-B', 'B-P', '0', '0'],\n",
       "       ['A-P', 'P-S', 'S-T', 'T-A', 'A-P', 'P-A', 'A-B', 'B-P', 'P-B', 'B-P', 'P-B', 'B-N', '0', '0'],\n",
       "       ['A-P', 'P-S', 'S-T', 'T-A', 'A-P', 'P-A', 'A-B', 'B-P', 'P-B', 'B-N', 'N-B', 'B-P', '0', '0'],\n",
       "       ['A-P', 'P-S', 'S-T', 'T-A', 'A-P', 'P-A', 'A-B', 'B-N', 'N-B', 'B-P', 'P-B', 'B-P', '0', '0'],\n",
       "       ['A-P', 'P-B', 'B-P', 'P-S', 'S-T', 'T-B', 'B-P', 'P-B', 'B-N', 'N-A', 'A-P', 'P-A', 'A-B', '0'],\n",
       "       ['A-P', 'P-B', 'B-P', 'P-S', 'S-T', 'T-B', 'B-P', 'P-A', 'A-B', 'B-N', 'N-A', 'A-P', '0', '0'],\n",
       "       ['A-P', 'P-B', 'B-P', 'P-S', 'S-T', 'T-B', 'B-P', 'P-A', 'A-P', 'P-B', 'B-N', 'N-A', 'A-B', '0'],\n",
       "       ['A-P', 'P-B', 'B-P', 'P-S', 'S-T', 'T-B', 'B-P', 'P-A', 'A-P', 'P-A', 'A-B', 'B-N', '0', '0'],\n",
       "       ['A-P', 'P-B', 'B-P', 'P-S', 'S-T', 'T-B', 'B-N', 'N-B', 'B-P', 'P-A', 'A-P', 'P-A', 'A-B', '0'],\n",
       "       ['A-P', 'P-B', 'B-P', 'P-S', 'S-T', 'T-B', 'B-N', 'N-A', 'A-B', 'B-P', 'P-A', 'A-P', '0', '0'],\n",
       "       ['A-P', 'P-B', 'B-P', 'P-S', 'S-T', 'T-B', 'B-N', 'N-A', 'A-P', 'P-B', 'B-P', 'P-A', 'A-B', '0'],\n",
       "       ['A-P', 'P-B', 'B-P', 'P-S', 'S-T', 'T-B', 'B-N', 'N-A', 'A-P', 'P-A', 'A-B', 'B-P', '0', '0'],\n",
       "       ['A-P', 'P-B', 'B-P', 'P-S', 'S-T', 'T-A', 'A-B', 'B-P', 'P-B', 'B-N', 'N-A', 'A-P', '0', '0'],\n",
       "       ['A-P', 'P-B', 'B-P', 'P-S', 'S-T', 'T-A', 'A-B', 'B-P', 'P-A', 'A-P', 'P-B', 'B-N', '0', '0'],\n",
       "       ['A-P', 'P-B', 'B-P', 'P-S', 'S-T', 'T-A', 'A-B', 'B-N', 'N-B', 'B-P', 'P-A', 'A-P', '0', '0'],\n",
       "       ['A-P', 'P-B', 'B-P', 'P-S', 'S-T', 'T-A', 'A-B', 'B-N', 'N-A', 'A-P', 'P-B', 'B-P', '0', '0'],\n",
       "       ['A-P', 'P-B', 'B-P', 'P-S', 'S-T', 'T-A', 'A-P', 'P-B', 'B-P', 'P-B', 'B-N', 'N-A', 'A-B', '0'],\n",
       "       ['A-P', 'P-B', 'B-P', 'P-S', 'S-T', 'T-A', 'A-P', 'P-B', 'B-P', 'P-A', 'A-B', 'B-N', '0', '0'],\n",
       "       ['A-P', 'P-B', 'B-P', 'P-S', 'S-T', 'T-A', 'A-P', 'P-B', 'B-N', 'N-B', 'B-P', 'P-A', 'A-B', '0'],\n",
       "       ['A-P', 'P-B', 'B-P', 'P-S', 'S-T', 'T-A', 'A-P', 'P-B', 'B-N', 'N-A', 'A-B', 'B-P', '0', '0'],\n",
       "       ['A-P', 'P-B', 'B-P', 'P-S', 'S-T', 'T-A', 'A-P', 'P-A', 'A-B', 'B-P', 'P-B', 'B-N', '0', '0'],\n",
       "       ['A-P', 'P-B', 'B-P', 'P-S', 'S-T', 'T-A', 'A-P', 'P-A', 'A-B', 'B-N', 'N-B', 'B-P', '0', '0'],\n",
       "       ['A-P', 'P-B', 'B-P', 'P-B', 'B-P', 'P-S', 'S-T', 'T-B', 'B-N', 'N-A', 'A-P', 'P-A', 'A-B', '0'],\n",
       "       ['A-P', 'P-B', 'B-P', 'P-B', 'B-P', 'P-S', 'S-T', 'T-A', 'A-B', 'B-N', 'N-A', 'A-P', '0', '0'],\n",
       "       ['A-P', 'P-B', 'B-P', 'P-B', 'B-P', 'P-S', 'S-T', 'T-A', 'A-P', 'P-B', 'B-N', 'N-A', 'A-B', '0'],\n",
       "       ['A-P', 'P-B', 'B-P', 'P-B', 'B-P', 'P-S', 'S-T', 'T-A', 'A-P', 'P-A', 'A-B', 'B-N', '0', '0'],\n",
       "       ['A-P', 'P-B', 'B-P', 'P-B', 'B-P', 'P-B', 'B-N', 'N-S', 'S-T', 'T-A', 'A-P', 'P-A', 'A-B', '0'],\n",
       "       ['A-P', 'P-B', 'B-P', 'P-B', 'B-P', 'P-B', 'B-N', 'N-A', 'A-P', 'P-S', 'S-T', 'T-A', 'A-B', '0'],\n",
       "       ['A-P', 'P-B', 'B-P', 'P-B', 'B-P', 'P-A', 'A-B', 'B-N', 'N-S', 'S-T', 'T-A', 'A-P', '0', '0'],\n",
       "       ['A-P', 'P-B', 'B-P', 'P-B', 'B-P', 'P-A', 'A-B', 'B-N', 'N-A', 'A-P', 'P-S', 'S-T', '0', '0'],\n",
       "       ['A-P', 'P-B', 'B-P', 'P-B', 'B-P', 'P-A', 'A-P', 'P-S', 'S-T', 'T-B', 'B-N', 'N-A', 'A-B', '0'],\n",
       "       ['A-P', 'P-B', 'B-P', 'P-B', 'B-P', 'P-A', 'A-P', 'P-S', 'S-T', 'T-A', 'A-B', 'B-N', '0', '0'],\n",
       "       ['A-P', 'P-B', 'B-P', 'P-B', 'B-P', 'P-A', 'A-P', 'P-B', 'B-N', 'N-S', 'S-T', 'T-A', 'A-B', '0'],\n",
       "       ['A-P', 'P-B', 'B-P', 'P-B', 'B-P', 'P-A', 'A-P', 'P-A', 'A-B', 'B-N', 'N-S', 'S-T', '0', '0'],\n",
       "       ['A-P', 'P-B', 'B-P', 'P-B', 'B-N', 'N-S', 'S-T', 'T-B', 'B-P', 'P-A', 'A-P', 'P-A', 'A-B', '0'],\n",
       "       ['A-P', 'P-B', 'B-P', 'P-B', 'B-N', 'N-S', 'S-T', 'T-A', 'A-B', 'B-P', 'P-A', 'A-P', '0', '0'],\n",
       "       ['A-P', 'P-B', 'B-P', 'P-B', 'B-N', 'N-S', 'S-T', 'T-A', 'A-P', 'P-B', 'B-P', 'P-A', 'A-B', '0'],\n",
       "       ['A-P', 'P-B', 'B-P', 'P-B', 'B-N', 'N-S', 'S-T', 'T-A', 'A-P', 'P-A', 'A-B', 'B-P', '0', '0'],\n",
       "       ['A-P', 'P-B', 'B-P', 'P-B', 'B-N', 'N-B', 'B-P', 'P-S', 'S-T', 'T-A', 'A-P', 'P-A', 'A-B', '0'],\n",
       "       ['A-P', 'P-B', 'B-P', 'P-B', 'B-N', 'N-B', 'B-P', 'P-A', 'A-P', 'P-S', 'S-T', 'T-A', 'A-B', '0'],\n",
       "       ['A-P', 'P-B', 'B-P', 'P-B', 'B-N', 'N-A', 'A-B', 'B-P', 'P-S', 'S-T', 'T-A', 'A-P', '0', '0'],\n",
       "       ['A-P', 'P-B', 'B-P', 'P-B', 'B-N', 'N-A', 'A-B', 'B-P', 'P-A', 'A-P', 'P-S', 'S-T', '0', '0'],\n",
       "       ['A-P', 'P-B', 'B-P', 'P-B', 'B-N', 'N-A', 'A-P', 'P-S', 'S-T', 'T-B', 'B-P', 'P-A', 'A-B', '0'],\n",
       "       ['A-P', 'P-B', 'B-P', 'P-B', 'B-N', 'N-A', 'A-P', 'P-S', 'S-T', 'T-A', 'A-B', 'B-P', '0', '0'],\n",
       "       ['A-P', 'P-B', 'B-P', 'P-B', 'B-N', 'N-A', 'A-P', 'P-B', 'B-P', 'P-S', 'S-T', 'T-A', 'A-B', '0'],\n",
       "       ['A-P', 'P-B', 'B-P', 'P-B', 'B-N', 'N-A', 'A-P', 'P-A', 'A-B', 'B-P', 'P-S', 'S-T', '0', '0'],\n",
       "       ['A-P', 'P-B', 'B-P', 'P-A', 'A-B', 'B-P', 'P-S', 'S-T', 'T-B', 'B-N', 'N-A', 'A-P', '0', '0'],\n",
       "       ['A-P', 'P-B', 'B-P', 'P-A', 'A-B', 'B-P', 'P-S', 'S-T', 'T-A', 'A-P', 'P-B', 'B-N', '0', '0'],\n",
       "       ['A-P', 'P-B', 'B-P', 'P-A', 'A-B', 'B-P', 'P-B', 'B-N', 'N-S', 'S-T', 'T-A', 'A-P', '0', '0'],\n",
       "       ['A-P', 'P-B', 'B-P', 'P-A', 'A-B', 'B-P', 'P-B', 'B-N', 'N-A', 'A-P', 'P-S', 'S-T', '0', '0'],\n",
       "       ['A-P', 'P-B', 'B-P', 'P-A', 'A-B', 'B-P', 'P-A', 'A-P', 'P-S', 'S-T', 'T-B', 'B-N', '0', '0'],\n",
       "       ['A-P', 'P-B', 'B-P', 'P-A', 'A-B', 'B-P', 'P-A', 'A-P', 'P-B', 'B-N', 'N-S', 'S-T', '0', '0'],\n",
       "       ['A-P', 'P-B', 'B-P', 'P-A', 'A-B', 'B-N', 'N-S', 'S-T', 'T-B', 'B-P', 'P-A', 'A-P', '0', '0'],\n",
       "       ['A-P', 'P-B', 'B-P', 'P-A', 'A-B', 'B-N', 'N-S', 'S-T', 'T-A', 'A-P', 'P-B', 'B-P', '0', '0'],\n",
       "       ['A-P', 'P-B', 'B-P', 'P-A', 'A-B', 'B-N', 'N-B', 'B-P', 'P-S', 'S-T', 'T-A', 'A-P', '0', '0'],\n",
       "       ['A-P', 'P-B', 'B-P', 'P-A', 'A-B', 'B-N', 'N-B', 'B-P', 'P-A', 'A-P', 'P-S', 'S-T', '0', '0'],\n",
       "       ['A-P', 'P-B', 'B-P', 'P-A', 'A-B', 'B-N', 'N-A', 'A-P', 'P-S', 'S-T', 'T-B', 'B-P', '0', '0'],\n",
       "       ['A-P', 'P-B', 'B-P', 'P-A', 'A-B', 'B-N', 'N-A', 'A-P', 'P-B', 'B-P', 'P-S', 'S-T', '0', '0'],\n",
       "       ['A-P', 'P-B', 'B-P', 'P-A', 'A-P', 'P-S', 'S-T', 'T-B', 'B-P', 'P-B', 'B-N', 'N-A', 'A-B', '0'],\n",
       "       ['A-P', 'P-B', 'B-P', 'P-A', 'A-P', 'P-S', 'S-T', 'T-B', 'B-P', 'P-A', 'A-B', 'B-N', '0', '0'],\n",
       "       ['A-P', 'P-B', 'B-P', 'P-A', 'A-P', 'P-S', 'S-T', 'T-B', 'B-N', 'N-B', 'B-P', 'P-A', 'A-B', '0'],\n",
       "       ['A-P', 'P-B', 'B-P', 'P-A', 'A-P', 'P-S', 'S-T', 'T-B', 'B-N', 'N-A', 'A-B', 'B-P', '0', '0'],\n",
       "       ['A-P', 'P-B', 'B-P', 'P-A', 'A-P', 'P-S', 'S-T', 'T-A', 'A-B', 'B-P', 'P-B', 'B-N', '0', '0'],\n",
       "       ['A-P', 'P-B', 'B-P', 'P-A', 'A-P', 'P-S', 'S-T', 'T-A', 'A-B', 'B-N', 'N-B', 'B-P', '0', '0'],\n",
       "       ['A-P', 'P-B', 'B-P', 'P-A', 'A-P', 'P-B', 'B-P', 'P-S', 'S-T', 'T-B', 'B-N', 'N-A', 'A-B', '0'],\n",
       "       ['A-P', 'P-B', 'B-P', 'P-A', 'A-P', 'P-B', 'B-P', 'P-S', 'S-T', 'T-A', 'A-B', 'B-N', '0', '0'],\n",
       "       ['A-P', 'P-B', 'B-P', 'P-A', 'A-P', 'P-B', 'B-P', 'P-B', 'B-N', 'N-S', 'S-T', 'T-A', 'A-B', '0'],\n",
       "       ['A-P', 'P-B', 'B-P', 'P-A', 'A-P', 'P-B', 'B-P', 'P-A', 'A-B', 'B-N', 'N-S', 'S-T', '0', '0'],\n",
       "       ['A-P', 'P-B', 'B-P', 'P-A', 'A-P', 'P-B', 'B-N', 'N-S', 'S-T', 'T-B', 'B-P', 'P-A', 'A-B', '0'],\n",
       "       ['A-P', 'P-B', 'B-P', 'P-A', 'A-P', 'P-B', 'B-N', 'N-S', 'S-T', 'T-A', 'A-B', 'B-P', '0', '0'],\n",
       "       ['A-P', 'P-B', 'B-P', 'P-A', 'A-P', 'P-B', 'B-N', 'N-B', 'B-P', 'P-S', 'S-T', 'T-A', 'A-B', '0'],\n",
       "       ['A-P', 'P-B', 'B-P', 'P-A', 'A-P', 'P-B', 'B-N', 'N-A', 'A-B', 'B-P', 'P-S', 'S-T', '0', '0'],\n",
       "       ['A-P', 'P-B', 'B-P', 'P-A', 'A-P', 'P-A', 'A-B', 'B-P', 'P-S', 'S-T', 'T-B', 'B-N', '0', '0'],\n",
       "       ['A-P', 'P-B', 'B-P', 'P-A', 'A-P', 'P-A', 'A-B', 'B-P', 'P-B', 'B-N', 'N-S', 'S-T', '0', '0'],\n",
       "       ['A-P', 'P-B', 'B-P', 'P-A', 'A-P', 'P-A', 'A-B', 'B-N', 'N-S', 'S-T', 'T-B', 'B-P', '0', '0'],\n",
       "       ['A-P', 'P-B', 'B-P', 'P-A', 'A-P', 'P-A', 'A-B', 'B-N', 'N-B', 'B-P', 'P-S', 'S-T', '0', '0'],\n",
       "       ['A-P', 'P-B', 'B-N', 'N-S', 'S-T', 'T-B', 'B-P', 'P-B', 'B-P', 'P-A', 'A-P', 'P-A', 'A-B', '0'],\n",
       "       ['A-P', 'P-B', 'B-N', 'N-S', 'S-T', 'T-B', 'B-P', 'P-A', 'A-B', 'B-P', 'P-A', 'A-P', '0', '0'],\n",
       "       ['A-P', 'P-B', 'B-N', 'N-S', 'S-T', 'T-B', 'B-P', 'P-A', 'A-P', 'P-B', 'B-P', 'P-A', 'A-B', '0'],\n",
       "       ['A-P', 'P-B', 'B-N', 'N-S', 'S-T', 'T-B', 'B-P', 'P-A', 'A-P', 'P-A', 'A-B', 'B-P', '0', '0'],\n",
       "       ['A-P', 'P-B', 'B-N', 'N-S', 'S-T', 'T-A', 'A-B', 'B-P', 'P-B', 'B-P', 'P-A', 'A-P', '0', '0'],\n",
       "       ['A-P', 'P-B', 'B-N', 'N-S', 'S-T', 'T-A', 'A-B', 'B-P', 'P-A', 'A-P', 'P-B', 'B-P', '0', '0'],\n",
       "       ['A-P', 'P-B', 'B-N', 'N-S', 'S-T', 'T-A', 'A-P', 'P-B', 'B-P', 'P-B', 'B-P', 'P-A', 'A-B', '0'],\n",
       "       ['A-P', 'P-B', 'B-N', 'N-S', 'S-T', 'T-A', 'A-P', 'P-B', 'B-P', 'P-A', 'A-B', 'B-P', '0', '0'],\n",
       "       ['A-P', 'P-B', 'B-N', 'N-S', 'S-T', 'T-A', 'A-P', 'P-A', 'A-B', 'B-P', 'P-B', 'B-P', '0', '0'],\n",
       "       ['A-P', 'P-B', 'B-N', 'N-B', 'B-P', 'P-S', 'S-T', 'T-B', 'B-P', 'P-A', 'A-P', 'P-A', 'A-B', '0'],\n",
       "       ['A-P', 'P-B', 'B-N', 'N-B', 'B-P', 'P-S', 'S-T', 'T-A', 'A-B', 'B-P', 'P-A', 'A-P', '0', '0'],\n",
       "       ['A-P', 'P-B', 'B-N', 'N-B', 'B-P', 'P-S', 'S-T', 'T-A', 'A-P', 'P-B', 'B-P', 'P-A', 'A-B', '0'],\n",
       "       ['A-P', 'P-B', 'B-N', 'N-B', 'B-P', 'P-S', 'S-T', 'T-A', 'A-P', 'P-A', 'A-B', 'B-P', '0', '0'],\n",
       "       ['A-P', 'P-B', 'B-N', 'N-B', 'B-P', 'P-B', 'B-P', 'P-S', 'S-T', 'T-A', 'A-P', 'P-A', 'A-B', '0'],\n",
       "       ['A-P', 'P-B', 'B-N', 'N-B', 'B-P', 'P-B', 'B-P', 'P-A', 'A-P', 'P-S', 'S-T', 'T-A', 'A-B', '0'],\n",
       "       ['A-P', 'P-B', 'B-N', 'N-B', 'B-P', 'P-A', 'A-B', 'B-P', 'P-S', 'S-T', 'T-A', 'A-P', '0', '0'],\n",
       "       ['A-P', 'P-B', 'B-N', 'N-B', 'B-P', 'P-A', 'A-B', 'B-P', 'P-A', 'A-P', 'P-S', 'S-T', '0', '0'],\n",
       "       ['A-P', 'P-B', 'B-N', 'N-B', 'B-P', 'P-A', 'A-P', 'P-S', 'S-T', 'T-B', 'B-P', 'P-A', 'A-B', '0'],\n",
       "       ['A-P', 'P-B', 'B-N', 'N-B', 'B-P', 'P-A', 'A-P', 'P-S', 'S-T', 'T-A', 'A-B', 'B-P', '0', '0'],\n",
       "       ['A-P', 'P-B', 'B-N', 'N-B', 'B-P', 'P-A', 'A-P', 'P-B', 'B-P', 'P-S', 'S-T', 'T-A', 'A-B', '0'],\n",
       "       ['A-P', 'P-B', 'B-N', 'N-B', 'B-P', 'P-A', 'A-P', 'P-A', 'A-B', 'B-P', 'P-S', 'S-T', '0', '0'],\n",
       "       ['A-P', 'P-B', 'B-N', 'N-A', 'A-B', 'B-P', 'P-S', 'S-T', 'T-B', 'B-P', 'P-A', 'A-P', '0', '0'],\n",
       "       ['A-P', 'P-B', 'B-N', 'N-A', 'A-B', 'B-P', 'P-S', 'S-T', 'T-A', 'A-P', 'P-B', 'B-P', '0', '0'],\n",
       "       ['A-P', 'P-B', 'B-N', 'N-A', 'A-B', 'B-P', 'P-B', 'B-P', 'P-S', 'S-T', 'T-A', 'A-P', '0', '0'],\n",
       "       ['A-P', 'P-B', 'B-N', 'N-A', 'A-B', 'B-P', 'P-B', 'B-P', 'P-A', 'A-P', 'P-S', 'S-T', '0', '0'],\n",
       "       ['A-P', 'P-B', 'B-N', 'N-A', 'A-B', 'B-P', 'P-A', 'A-P', 'P-S', 'S-T', 'T-B', 'B-P', '0', '0'],\n",
       "       ['A-P', 'P-B', 'B-N', 'N-A', 'A-B', 'B-P', 'P-A', 'A-P', 'P-B', 'B-P', 'P-S', 'S-T', '0', '0'],\n",
       "       ['A-P', 'P-B', 'B-N', 'N-A', 'A-P', 'P-S', 'S-T', 'T-B', 'B-P', 'P-B', 'B-P', 'P-A', 'A-B', '0'],\n",
       "       ['A-P', 'P-B', 'B-N', 'N-A', 'A-P', 'P-S', 'S-T', 'T-B', 'B-P', 'P-A', 'A-B', 'B-P', '0', '0'],\n",
       "       ['A-P', 'P-B', 'B-N', 'N-A', 'A-P', 'P-S', 'S-T', 'T-A', 'A-B', 'B-P', 'P-B', 'B-P', '0', '0'],\n",
       "       ['A-P', 'P-B', 'B-N', 'N-A', 'A-P', 'P-B', 'B-P', 'P-S', 'S-T', 'T-B', 'B-P', 'P-A', 'A-B', '0'],\n",
       "       ['A-P', 'P-B', 'B-N', 'N-A', 'A-P', 'P-B', 'B-P', 'P-S', 'S-T', 'T-A', 'A-B', 'B-P', '0', '0'],\n",
       "       ['A-P', 'P-B', 'B-N', 'N-A', 'A-P', 'P-B', 'B-P', 'P-B', 'B-P', 'P-S', 'S-T', 'T-A', 'A-B', '0'],\n",
       "       ['A-P', 'P-B', 'B-N', 'N-A', 'A-P', 'P-B', 'B-P', 'P-A', 'A-B', 'B-P', 'P-S', 'S-T', '0', '0'],\n",
       "       ['A-P', 'P-B', 'B-N', 'N-A', 'A-P', 'P-A', 'A-B', 'B-P', 'P-S', 'S-T', 'T-B', 'B-P', '0', '0'],\n",
       "       ['A-P', 'P-B', 'B-N', 'N-A', 'A-P', 'P-A', 'A-B', 'B-P', 'P-B', 'B-P', 'P-S', 'S-T', '0', '0'],\n",
       "       ['A-P', 'P-A', 'A-B', 'B-P', 'P-S', 'S-T', 'T-B', 'B-P', 'P-B', 'B-N', 'N-A', 'A-P', '0', '0'],\n",
       "       ['A-P', 'P-A', 'A-B', 'B-P', 'P-S', 'S-T', 'T-B', 'B-P', 'P-A', 'A-P', 'P-B', 'B-N', '0', '0'],\n",
       "       ['A-P', 'P-A', 'A-B', 'B-P', 'P-S', 'S-T', 'T-B', 'B-N', 'N-B', 'B-P', 'P-A', 'A-P', '0', '0'],\n",
       "       ['A-P', 'P-A', 'A-B', 'B-P', 'P-S', 'S-T', 'T-B', 'B-N', 'N-A', 'A-P', 'P-B', 'B-P', '0', '0'],\n",
       "       ['A-P', 'P-A', 'A-B', 'B-P', 'P-S', 'S-T', 'T-A', 'A-P', 'P-B', 'B-P', 'P-B', 'B-N', '0', '0'],\n",
       "       ['A-P', 'P-A', 'A-B', 'B-P', 'P-S', 'S-T', 'T-A', 'A-P', 'P-B', 'B-N', 'N-B', 'B-P', '0', '0'],\n",
       "       ['A-P', 'P-A', 'A-B', 'B-P', 'P-B', 'B-P', 'P-S', 'S-T', 'T-B', 'B-N', 'N-A', 'A-P', '0', '0'],\n",
       "       ['A-P', 'P-A', 'A-B', 'B-P', 'P-B', 'B-P', 'P-S', 'S-T', 'T-A', 'A-P', 'P-B', 'B-N', '0', '0'],\n",
       "       ['A-P', 'P-A', 'A-B', 'B-P', 'P-B', 'B-P', 'P-B', 'B-N', 'N-S', 'S-T', 'T-A', 'A-P', '0', '0'],\n",
       "       ['A-P', 'P-A', 'A-B', 'B-P', 'P-B', 'B-P', 'P-B', 'B-N', 'N-A', 'A-P', 'P-S', 'S-T', '0', '0'],\n",
       "       ['A-P', 'P-A', 'A-B', 'B-P', 'P-B', 'B-P', 'P-A', 'A-P', 'P-S', 'S-T', 'T-B', 'B-N', '0', '0'],\n",
       "       ['A-P', 'P-A', 'A-B', 'B-P', 'P-B', 'B-P', 'P-A', 'A-P', 'P-B', 'B-N', 'N-S', 'S-T', '0', '0'],\n",
       "       ['A-P', 'P-A', 'A-B', 'B-P', 'P-B', 'B-N', 'N-S', 'S-T', 'T-B', 'B-P', 'P-A', 'A-P', '0', '0'],\n",
       "       ['A-P', 'P-A', 'A-B', 'B-P', 'P-B', 'B-N', 'N-S', 'S-T', 'T-A', 'A-P', 'P-B', 'B-P', '0', '0'],\n",
       "       ['A-P', 'P-A', 'A-B', 'B-P', 'P-B', 'B-N', 'N-B', 'B-P', 'P-S', 'S-T', 'T-A', 'A-P', '0', '0'],\n",
       "       ['A-P', 'P-A', 'A-B', 'B-P', 'P-B', 'B-N', 'N-B', 'B-P', 'P-A', 'A-P', 'P-S', 'S-T', '0', '0'],\n",
       "       ['A-P', 'P-A', 'A-B', 'B-P', 'P-B', 'B-N', 'N-A', 'A-P', 'P-S', 'S-T', 'T-B', 'B-P', '0', '0'],\n",
       "       ['A-P', 'P-A', 'A-B', 'B-P', 'P-B', 'B-N', 'N-A', 'A-P', 'P-B', 'B-P', 'P-S', 'S-T', '0', '0'],\n",
       "       ['A-P', 'P-A', 'A-B', 'B-P', 'P-A', 'A-P', 'P-S', 'S-T', 'T-B', 'B-P', 'P-B', 'B-N', '0', '0'],\n",
       "       ['A-P', 'P-A', 'A-B', 'B-P', 'P-A', 'A-P', 'P-S', 'S-T', 'T-B', 'B-N', 'N-B', 'B-P', '0', '0'],\n",
       "       ['A-P', 'P-A', 'A-B', 'B-P', 'P-A', 'A-P', 'P-B', 'B-P', 'P-S', 'S-T', 'T-B', 'B-N', '0', '0'],\n",
       "       ['A-P', 'P-A', 'A-B', 'B-P', 'P-A', 'A-P', 'P-B', 'B-P', 'P-B', 'B-N', 'N-S', 'S-T', '0', '0'],\n",
       "       ['A-P', 'P-A', 'A-B', 'B-P', 'P-A', 'A-P', 'P-B', 'B-N', 'N-S', 'S-T', 'T-B', 'B-P', '0', '0'],\n",
       "       ['A-P', 'P-A', 'A-B', 'B-P', 'P-A', 'A-P', 'P-B', 'B-N', 'N-B', 'B-P', 'P-S', 'S-T', '0', '0'],\n",
       "       ['A-P', 'P-A', 'A-B', 'B-N', 'N-S', 'S-T', 'T-B', 'B-P', 'P-B', 'B-P', 'P-A', 'A-P', '0', '0'],\n",
       "       ['A-P', 'P-A', 'A-B', 'B-N', 'N-S', 'S-T', 'T-B', 'B-P', 'P-A', 'A-P', 'P-B', 'B-P', '0', '0'],\n",
       "       ['A-P', 'P-A', 'A-B', 'B-N', 'N-S', 'S-T', 'T-A', 'A-P', 'P-B', 'B-P', 'P-B', 'B-P', '0', '0'],\n",
       "       ['A-P', 'P-A', 'A-B', 'B-N', 'N-B', 'B-P', 'P-S', 'S-T', 'T-B', 'B-P', 'P-A', 'A-P', '0', '0'],\n",
       "       ['A-P', 'P-A', 'A-B', 'B-N', 'N-B', 'B-P', 'P-S', 'S-T', 'T-A', 'A-P', 'P-B', 'B-P', '0', '0'],\n",
       "       ['A-P', 'P-A', 'A-B', 'B-N', 'N-B', 'B-P', 'P-B', 'B-P', 'P-S', 'S-T', 'T-A', 'A-P', '0', '0'],\n",
       "       ['A-P', 'P-A', 'A-B', 'B-N', 'N-B', 'B-P', 'P-B', 'B-P', 'P-A', 'A-P', 'P-S', 'S-T', '0', '0'],\n",
       "       ['A-P', 'P-A', 'A-B', 'B-N', 'N-B', 'B-P', 'P-A', 'A-P', 'P-S', 'S-T', 'T-B', 'B-P', '0', '0'],\n",
       "       ['A-P', 'P-A', 'A-B', 'B-N', 'N-B', 'B-P', 'P-A', 'A-P', 'P-B', 'B-P', 'P-S', 'S-T', '0', '0'],\n",
       "       ['A-P', 'P-A', 'A-B', 'B-N', 'N-A', 'A-P', 'P-S', 'S-T', 'T-B', 'B-P', 'P-B', 'B-P', '0', '0'],\n",
       "       ['A-P', 'P-A', 'A-B', 'B-N', 'N-A', 'A-P', 'P-B', 'B-P', 'P-S', 'S-T', 'T-B', 'B-P', '0', '0'],\n",
       "       ['A-P', 'P-A', 'A-B', 'B-N', 'N-A', 'A-P', 'P-B', 'B-P', 'P-B', 'B-P', 'P-S', 'S-T', '0', '0'],\n",
       "       ['A-P', 'P-A', 'A-P', 'P-S', 'S-T', 'T-B', 'B-P', 'P-B', 'B-P', 'P-B', 'B-N', 'N-A', 'A-B', '0'],\n",
       "       ['A-P', 'P-A', 'A-P', 'P-S', 'S-T', 'T-B', 'B-P', 'P-B', 'B-P', 'P-A', 'A-B', 'B-N', '0', '0'],\n",
       "       ['A-P', 'P-A', 'A-P', 'P-S', 'S-T', 'T-B', 'B-P', 'P-B', 'B-N', 'N-B', 'B-P', 'P-A', 'A-B', '0'],\n",
       "       ['A-P', 'P-A', 'A-P', 'P-S', 'S-T', 'T-B', 'B-P', 'P-B', 'B-N', 'N-A', 'A-B', 'B-P', '0', '0'],\n",
       "       ['A-P', 'P-A', 'A-P', 'P-S', 'S-T', 'T-B', 'B-P', 'P-A', 'A-B', 'B-P', 'P-B', 'B-N', '0', '0'],\n",
       "       ['A-P', 'P-A', 'A-P', 'P-S', 'S-T', 'T-B', 'B-P', 'P-A', 'A-B', 'B-N', 'N-B', 'B-P', '0', '0'],\n",
       "       ['A-P', 'P-A', 'A-P', 'P-S', 'S-T', 'T-B', 'B-N', 'N-B', 'B-P', 'P-B', 'B-P', 'P-A', 'A-B', '0'],\n",
       "       ['A-P', 'P-A', 'A-P', 'P-S', 'S-T', 'T-B', 'B-N', 'N-B', 'B-P', 'P-A', 'A-B', 'B-P', '0', '0'],\n",
       "       ['A-P', 'P-A', 'A-P', 'P-S', 'S-T', 'T-B', 'B-N', 'N-A', 'A-B', 'B-P', 'P-B', 'B-P', '0', '0'],\n",
       "       ['A-P', 'P-A', 'A-P', 'P-S', 'S-T', 'T-A', 'A-B', 'B-P', 'P-B', 'B-P', 'P-B', 'B-N', '0', '0'],\n",
       "       ['A-P', 'P-A', 'A-P', 'P-S', 'S-T', 'T-A', 'A-B', 'B-P', 'P-B', 'B-N', 'N-B', 'B-P', '0', '0'],\n",
       "       ['A-P', 'P-A', 'A-P', 'P-S', 'S-T', 'T-A', 'A-B', 'B-N', 'N-B', 'B-P', 'P-B', 'B-P', '0', '0'],\n",
       "       ['A-P', 'P-A', 'A-P', 'P-B', 'B-P', 'P-S', 'S-T', 'T-B', 'B-P', 'P-B', 'B-N', 'N-A', 'A-B', '0'],\n",
       "       ['A-P', 'P-A', 'A-P', 'P-B', 'B-P', 'P-S', 'S-T', 'T-B', 'B-P', 'P-A', 'A-B', 'B-N', '0', '0'],\n",
       "       ['A-P', 'P-A', 'A-P', 'P-B', 'B-P', 'P-S', 'S-T', 'T-B', 'B-N', 'N-B', 'B-P', 'P-A', 'A-B', '0'],\n",
       "       ['A-P', 'P-A', 'A-P', 'P-B', 'B-P', 'P-S', 'S-T', 'T-B', 'B-N', 'N-A', 'A-B', 'B-P', '0', '0'],\n",
       "       ['A-P', 'P-A', 'A-P', 'P-B', 'B-P', 'P-S', 'S-T', 'T-A', 'A-B', 'B-P', 'P-B', 'B-N', '0', '0'],\n",
       "       ['A-P', 'P-A', 'A-P', 'P-B', 'B-P', 'P-S', 'S-T', 'T-A', 'A-B', 'B-N', 'N-B', 'B-P', '0', '0'],\n",
       "       ['A-P', 'P-A', 'A-P', 'P-B', 'B-P', 'P-B', 'B-P', 'P-S', 'S-T', 'T-B', 'B-N', 'N-A', 'A-B', '0'],\n",
       "       ['A-P', 'P-A', 'A-P', 'P-B', 'B-P', 'P-B', 'B-P', 'P-S', 'S-T', 'T-A', 'A-B', 'B-N', '0', '0'],\n",
       "       ['A-P', 'P-A', 'A-P', 'P-B', 'B-P', 'P-B', 'B-P', 'P-B', 'B-N', 'N-S', 'S-T', 'T-A', 'A-B', '0'],\n",
       "       ['A-P', 'P-A', 'A-P', 'P-B', 'B-P', 'P-B', 'B-P', 'P-A', 'A-B', 'B-N', 'N-S', 'S-T', '0', '0'],\n",
       "       ['A-P', 'P-A', 'A-P', 'P-B', 'B-P', 'P-B', 'B-N', 'N-S', 'S-T', 'T-B', 'B-P', 'P-A', 'A-B', '0'],\n",
       "       ['A-P', 'P-A', 'A-P', 'P-B', 'B-P', 'P-B', 'B-N', 'N-S', 'S-T', 'T-A', 'A-B', 'B-P', '0', '0'],\n",
       "       ['A-P', 'P-A', 'A-P', 'P-B', 'B-P', 'P-B', 'B-N', 'N-B', 'B-P', 'P-S', 'S-T', 'T-A', 'A-B', '0'],\n",
       "       ['A-P', 'P-A', 'A-P', 'P-B', 'B-P', 'P-B', 'B-N', 'N-A', 'A-B', 'B-P', 'P-S', 'S-T', '0', '0'],\n",
       "       ['A-P', 'P-A', 'A-P', 'P-B', 'B-P', 'P-A', 'A-B', 'B-P', 'P-S', 'S-T', 'T-B', 'B-N', '0', '0'],\n",
       "       ['A-P', 'P-A', 'A-P', 'P-B', 'B-P', 'P-A', 'A-B', 'B-P', 'P-B', 'B-N', 'N-S', 'S-T', '0', '0'],\n",
       "       ['A-P', 'P-A', 'A-P', 'P-B', 'B-P', 'P-A', 'A-B', 'B-N', 'N-S', 'S-T', 'T-B', 'B-P', '0', '0'],\n",
       "       ['A-P', 'P-A', 'A-P', 'P-B', 'B-P', 'P-A', 'A-B', 'B-N', 'N-B', 'B-P', 'P-S', 'S-T', '0', '0'],\n",
       "       ['A-P', 'P-A', 'A-P', 'P-B', 'B-N', 'N-S', 'S-T', 'T-B', 'B-P', 'P-B', 'B-P', 'P-A', 'A-B', '0'],\n",
       "       ['A-P', 'P-A', 'A-P', 'P-B', 'B-N', 'N-S', 'S-T', 'T-B', 'B-P', 'P-A', 'A-B', 'B-P', '0', '0'],\n",
       "       ['A-P', 'P-A', 'A-P', 'P-B', 'B-N', 'N-S', 'S-T', 'T-A', 'A-B', 'B-P', 'P-B', 'B-P', '0', '0'],\n",
       "       ['A-P', 'P-A', 'A-P', 'P-B', 'B-N', 'N-B', 'B-P', 'P-S', 'S-T', 'T-B', 'B-P', 'P-A', 'A-B', '0'],\n",
       "       ['A-P', 'P-A', 'A-P', 'P-B', 'B-N', 'N-B', 'B-P', 'P-S', 'S-T', 'T-A', 'A-B', 'B-P', '0', '0'],\n",
       "       ['A-P', 'P-A', 'A-P', 'P-B', 'B-N', 'N-B', 'B-P', 'P-B', 'B-P', 'P-S', 'S-T', 'T-A', 'A-B', '0'],\n",
       "       ['A-P', 'P-A', 'A-P', 'P-B', 'B-N', 'N-B', 'B-P', 'P-A', 'A-B', 'B-P', 'P-S', 'S-T', '0', '0'],\n",
       "       ['A-P', 'P-A', 'A-P', 'P-B', 'B-N', 'N-A', 'A-B', 'B-P', 'P-S', 'S-T', 'T-B', 'B-P', '0', '0'],\n",
       "       ['A-P', 'P-A', 'A-P', 'P-B', 'B-N', 'N-A', 'A-B', 'B-P', 'P-B', 'B-P', 'P-S', 'S-T', '0', '0'],\n",
       "       ['A-P', 'P-A', 'A-P', 'P-A', 'A-B', 'B-P', 'P-S', 'S-T', 'T-B', 'B-P', 'P-B', 'B-N', '0', '0'],\n",
       "       ['A-P', 'P-A', 'A-P', 'P-A', 'A-B', 'B-P', 'P-S', 'S-T', 'T-B', 'B-N', 'N-B', 'B-P', '0', '0'],\n",
       "       ['A-P', 'P-A', 'A-P', 'P-A', 'A-B', 'B-P', 'P-B', 'B-P', 'P-S', 'S-T', 'T-B', 'B-N', '0', '0'],\n",
       "       ['A-P', 'P-A', 'A-P', 'P-A', 'A-B', 'B-P', 'P-B', 'B-P', 'P-B', 'B-N', 'N-S', 'S-T', '0', '0'],\n",
       "       ['A-P', 'P-A', 'A-P', 'P-A', 'A-B', 'B-P', 'P-B', 'B-N', 'N-S', 'S-T', 'T-B', 'B-P', '0', '0'],\n",
       "       ['A-P', 'P-A', 'A-P', 'P-A', 'A-B', 'B-P', 'P-B', 'B-N', 'N-B', 'B-P', 'P-S', 'S-T', '0', '0'],\n",
       "       ['A-P', 'P-A', 'A-P', 'P-A', 'A-B', 'B-N', 'N-S', 'S-T', 'T-B', 'B-P', 'P-B', 'B-P', '0', '0'],\n",
       "       ['A-P', 'P-A', 'A-P', 'P-A', 'A-B', 'B-N', 'N-B', 'B-P', 'P-S', 'S-T', 'T-B', 'B-P', '0', '0'],\n",
       "       ['A-P', 'P-A', 'A-P', 'P-A', 'A-B', 'B-N', 'N-B', 'B-P', 'P-B', 'B-P', 'P-S', 'S-T', '0', '0']], dtype='<U3')"
      ]
     },
     "execution_count": 36,
     "metadata": {},
     "output_type": "execute_result"
    }
   ],
   "source": [
    "np.set_printoptions(threshold=np.nan,linewidth=200)\n",
    "all_paths"
   ]
  },
  {
   "cell_type": "markdown",
   "metadata": {},
   "source": [
    "ดูด้วยตาจากข้างบนคือ วิ่งน้อยสุด 12 งาน มากสุด 13 งาน"
   ]
  },
  {
   "cell_type": "markdown",
   "metadata": {},
   "source": [
    "สุ่มทดสองสัก tasks ดูว่างานหมดจริงไหม"
   ]
  },
  {
   "cell_type": "code",
   "execution_count": 37,
   "metadata": {},
   "outputs": [
    {
     "data": {
      "text/plain": [
       "array(['A-P', 'P-A', 'A-P', 'P-B', 'B-P', 'P-A', 'A-B', 'B-P', 'P-B', 'B-N', 'N-S', 'S-T', '0', '0'], dtype='<U3')"
      ]
     },
     "execution_count": 37,
     "metadata": {},
     "output_type": "execute_result"
    }
   ],
   "source": [
    "all_paths[309]"
   ]
  },
  {
   "cell_type": "code",
   "execution_count": 38,
   "metadata": {},
   "outputs": [
    {
     "data": {
      "text/html": [
       "<div>\n",
       "<style scoped>\n",
       "    .dataframe tbody tr th:only-of-type {\n",
       "        vertical-align: middle;\n",
       "    }\n",
       "\n",
       "    .dataframe tbody tr th {\n",
       "        vertical-align: top;\n",
       "    }\n",
       "\n",
       "    .dataframe thead th {\n",
       "        text-align: right;\n",
       "    }\n",
       "</style>\n",
       "<table border=\"1\" class=\"dataframe\">\n",
       "  <thead>\n",
       "    <tr style=\"text-align: right;\">\n",
       "      <th></th>\n",
       "      <th>Start</th>\n",
       "      <th>End</th>\n",
       "      <th>Count</th>\n",
       "      <th>path</th>\n",
       "    </tr>\n",
       "  </thead>\n",
       "  <tbody>\n",
       "  </tbody>\n",
       "</table>\n",
       "</div>"
      ],
      "text/plain": [
       "Empty DataFrame\n",
       "Columns: [Start, End, Count, path]\n",
       "Index: []"
      ]
     },
     "execution_count": 38,
     "metadata": {},
     "output_type": "execute_result"
    }
   ],
   "source": [
    "checkRemainingTasks(all_paths[309], tasks)"
   ]
  },
  {
   "cell_type": "markdown",
   "metadata": {},
   "source": [
    "งานหมดจริง"
   ]
  },
  {
   "cell_type": "markdown",
   "metadata": {},
   "source": [
    "# Output : \n",
    "- ~~หาทุกทางที่ทำให้งานจบ~~\n",
    "- ทุกทางยาวเท่าไหร่\n",
    "- บอกด้วยว่าจากระยะทางทั้งหมด แบ่งเป็นระยะทางมีของและไม่มีของอย่างละเท่าไหร่\n",
    "- เอาทางที่ระยะทางซ้ำกันออก"
   ]
  },
  {
   "cell_type": "markdown",
   "metadata": {},
   "source": [
    "คำนวณ distances"
   ]
  },
  {
   "cell_type": "code",
   "execution_count": 39,
   "metadata": {},
   "outputs": [
    {
     "data": {
      "text/plain": [
       "array([[  0. ,  19.8, 130. , 123. , 144. , 136. , 118. , 171. , 183. , 181. , 150. , 174. , 172. ,  40.3,  51.8,  45.6, 311. , 360. , 308. ,  11.6, 101. , 256. ],\n",
       "       [ 19.8,   0. , 146. , 141. , 161. , 154. , 142. , 158. , 204. , 197. , 168. , 158. , 155. ,  43.2,  51.4,  29.5, 309. , 344. , 279. ,  13.4,  99. , 254. ],\n",
       "       [130. , 146. ,   0. ,  60. ,  66. ,   7. ,  39.6,  50.3, 111. , 115. ,  89.3, 275. , 277. , 124. , 118. , 180. , 422. , 466. , 429. , 138. , 209. , 364. ],\n",
       "       [123. , 141. ,  60. ,   0. , 171. ,  63.7,  90. ,  74.6, 166. , 159. ,  32.2, 270. , 268. , 128. , 108. , 174. , 401. , 456. , 391. , 128. , 168. , 346. ],\n",
       "       [144. , 161. ,  66. , 171. ,   0. ,  70.4,  30.2, 107. ,  56.4,  54.4, 147. , 302. , 300. , 148. , 131. , 206. , 438. , 456. , 358. , 157. , 224. , 381. ],\n",
       "       [136. , 154. ,   7. ,  63.7,  70.4,   0. ,  44.6,  54.5, 116. , 119. ,  94.9, 284. , 281. , 142. , 122. , 188. , 428. , 469. , 404. , 148. , 182. , 359. ],\n",
       "       [118. , 142. ,  39.6,  90. ,  30.2,  44.6,   0. ,  80.2,  79.2,  77.2, 124. , 269. , 267. , 128. , 105. , 168. , 413. , 455. , 403. , 133. , 208. , 358. ],\n",
       "       [171. , 158. ,  50.3,  74.6, 107. ,  54.5,  80.2,   0. , 156. , 148. ,  61.7, 291. , 318. , 165. , 155. , 222. , 439. , 506. , 487. , 149. , 192. , 375. ],\n",
       "       [183. , 204. , 111. , 166. ,  56.4, 116. ,  79.2, 156. ,   0. ,  43.8, 191. , 328. , 330. , 182. , 172. , 237. , 474. , 523. , 479. , 196. , 266. , 422. ],\n",
       "       [181. , 197. , 115. , 159. ,  54.4, 119. ,  77.2, 148. ,  43.8,   0. , 183. , 326. , 328. , 174. , 164. , 230. , 472. , 516. , 479. , 188. , 259. , 414. ],\n",
       "       [150. , 168. ,  89.3,  32.2, 147. ,  94.9, 124. ,  61.7, 191. , 183. ,   0. , 300. , 298. , 158. , 139. , 193. , 470. , 486. , 421. , 158. , 164. , 376. ],\n",
       "       [174. , 158. , 275. , 270. , 302. , 284. , 269. , 291. , 328. , 326. , 300. ,   0. ,  43.6, 151. , 162. , 169. , 384. , 194. , 163. , 168. , 261. , 396. ],\n",
       "       [172. , 155. , 277. , 268. , 300. , 281. , 267. , 318. , 330. , 328. , 298. ,  43.6,   0. , 153. , 164. , 171. , 437. , 212. , 162. , 170. , 263. , 393. ],\n",
       "       [ 40.3,  43.2, 124. , 128. , 148. , 142. , 128. , 165. , 182. , 174. , 158. , 151. , 153. ,   0. ,  11. ,  65.4, 331. , 347. , 282. ,  50. , 176. , 281. ],\n",
       "       [ 51.8,  51.4, 118. , 108. , 131. , 122. , 105. , 155. , 172. , 164. , 139. , 162. , 164. ,  11. ,   0. ,  66.2, 343. , 352. , 316. ,  51. , 130. , 285. ],\n",
       "       [ 45.6,  29.5, 180. , 174. , 206. , 188. , 168. , 222. , 237. , 230. , 193. , 169. , 171. ,  65.4,  66.2,   0. , 283. , 325. , 291. ,  48. , 124. , 240. ],\n",
       "       [311. , 309. , 422. , 401. , 438. , 428. , 413. , 439. , 474. , 472. , 470. , 384. , 437. , 331. , 343. , 283. ,   0. , 329. , 480. , 309. , 265. , 151. ],\n",
       "       [360. , 344. , 466. , 456. , 456. , 469. , 455. , 506. , 523. , 516. , 486. , 194. , 212. , 347. , 352. , 325. , 329. ,   0. , 178. , 359. , 444. , 472. ],\n",
       "       [308. , 279. , 429. , 391. , 358. , 404. , 403. , 487. , 479. , 479. , 421. , 163. , 162. , 282. , 316. , 291. , 480. , 178. ,   0. , 322. , 415. , 517. ],\n",
       "       [ 11.6,  13.4, 138. , 128. , 157. , 148. , 133. , 149. , 196. , 188. , 158. , 168. , 170. ,  50. ,  51. ,  48. , 309. , 359. , 322. ,   0. , 109. , 253. ],\n",
       "       [101. ,  99. , 209. , 168. , 224. , 182. , 208. , 192. , 266. , 259. , 164. , 261. , 263. , 176. , 130. , 124. , 265. , 444. , 415. , 109. ,   0. , 183. ],\n",
       "       [256. , 254. , 364. , 346. , 381. , 359. , 358. , 375. , 422. , 414. , 376. , 396. , 393. , 281. , 285. , 240. , 151. , 472. , 517. , 253. , 183. ,   0. ]])"
      ]
     },
     "execution_count": 39,
     "metadata": {},
     "output_type": "execute_result"
    }
   ],
   "source": [
    "distances"
   ]
  },
  {
   "cell_type": "code",
   "execution_count": 40,
   "metadata": {},
   "outputs": [
    {
     "data": {
      "text/plain": [
       "array(['A', 'B', 'C', 'D', 'E', 'F', 'G', 'H', 'I', 'J', 'K', 'L', 'M', 'N', 'O', 'P', 'Q', 'R', 'S', 'T', 'U', 'V'], dtype=object)"
      ]
     },
     "execution_count": 40,
     "metadata": {},
     "output_type": "execute_result"
    }
   ],
   "source": [
    "node_names"
   ]
  },
  {
   "cell_type": "code",
   "execution_count": 41,
   "metadata": {},
   "outputs": [
    {
     "data": {
      "text/html": [
       "<div>\n",
       "<style scoped>\n",
       "    .dataframe tbody tr th:only-of-type {\n",
       "        vertical-align: middle;\n",
       "    }\n",
       "\n",
       "    .dataframe tbody tr th {\n",
       "        vertical-align: top;\n",
       "    }\n",
       "\n",
       "    .dataframe thead th {\n",
       "        text-align: right;\n",
       "    }\n",
       "</style>\n",
       "<table border=\"1\" class=\"dataframe\">\n",
       "  <thead>\n",
       "    <tr style=\"text-align: right;\">\n",
       "      <th></th>\n",
       "      <th>Start</th>\n",
       "      <th>End</th>\n",
       "      <th>Count</th>\n",
       "      <th>path</th>\n",
       "    </tr>\n",
       "  </thead>\n",
       "  <tbody>\n",
       "    <tr>\n",
       "      <th>0</th>\n",
       "      <td>S</td>\n",
       "      <td>T</td>\n",
       "      <td>1</td>\n",
       "      <td>S-T</td>\n",
       "    </tr>\n",
       "    <tr>\n",
       "      <th>1</th>\n",
       "      <td>B</td>\n",
       "      <td>P</td>\n",
       "      <td>2</td>\n",
       "      <td>B-P</td>\n",
       "    </tr>\n",
       "    <tr>\n",
       "      <th>2</th>\n",
       "      <td>B</td>\n",
       "      <td>N</td>\n",
       "      <td>1</td>\n",
       "      <td>B-N</td>\n",
       "    </tr>\n",
       "    <tr>\n",
       "      <th>3</th>\n",
       "      <td>A</td>\n",
       "      <td>B</td>\n",
       "      <td>1</td>\n",
       "      <td>A-B</td>\n",
       "    </tr>\n",
       "    <tr>\n",
       "      <th>4</th>\n",
       "      <td>A</td>\n",
       "      <td>P</td>\n",
       "      <td>2</td>\n",
       "      <td>A-P</td>\n",
       "    </tr>\n",
       "  </tbody>\n",
       "</table>\n",
       "</div>"
      ],
      "text/plain": [
       "  Start End  Count path\n",
       "0     S   T      1  S-T\n",
       "1     B   P      2  B-P\n",
       "2     B   N      1  B-N\n",
       "3     A   B      1  A-B\n",
       "4     A   P      2  A-P"
      ]
     },
     "execution_count": 41,
     "metadata": {},
     "output_type": "execute_result"
    }
   ],
   "source": [
    "tasks"
   ]
  },
  {
   "cell_type": "code",
   "execution_count": 42,
   "metadata": {},
   "outputs": [
    {
     "data": {
      "text/plain": [
       "array(['S-T', 'B-P', 'B-N', 'A-B', 'A-P'], dtype=object)"
      ]
     },
     "execution_count": 42,
     "metadata": {},
     "output_type": "execute_result"
    }
   ],
   "source": [
    "tasks_arr = tasks['path'].values\n",
    "tasks_arr"
   ]
  },
  {
   "cell_type": "code",
   "execution_count": 43,
   "metadata": {},
   "outputs": [],
   "source": [
    "# 5. แปลงจาก A-B เป็น distances\n",
    "def getDistance(startEndStr):\n",
    "    global tasks_arr\n",
    "    global distances\n",
    "    global node_names\n",
    "    \n",
    "    if startEndStr == '0':\n",
    "        return 0\n",
    "    else:\n",
    "        start,end = startEndStr.split('-')\n",
    "        i,j = np.where(node_names == start)[0][0],np.where(node_names == end)[0][0]\n",
    "        return distances[i,j] if startEndStr in tasks_arr else -1*distances[i,j]"
   ]
  },
  {
   "cell_type": "code",
   "execution_count": 44,
   "metadata": {},
   "outputs": [
    {
     "data": {
      "text/plain": [
       "19.8"
      ]
     },
     "execution_count": 44,
     "metadata": {},
     "output_type": "execute_result"
    }
   ],
   "source": [
    "getDistance('A-B')"
   ]
  },
  {
   "cell_type": "code",
   "execution_count": 45,
   "metadata": {},
   "outputs": [
    {
     "data": {
      "text/plain": [
       "0"
      ]
     },
     "execution_count": 45,
     "metadata": {},
     "output_type": "execute_result"
    }
   ],
   "source": [
    "getDistance('0')"
   ]
  },
  {
   "cell_type": "code",
   "execution_count": 46,
   "metadata": {},
   "outputs": [
    {
     "data": {
      "text/plain": [
       "-146.0"
      ]
     },
     "execution_count": 46,
     "metadata": {},
     "output_type": "execute_result"
    }
   ],
   "source": [
    "getDistance('B-C')"
   ]
  },
  {
   "cell_type": "markdown",
   "metadata": {},
   "source": [
    "ทำกับทุก element ของ matrix (เปลี่ยน A-B ใน all_path ให้กลายเป็น distance ให้หมด) จะได้"
   ]
  },
  {
   "cell_type": "code",
   "execution_count": 57,
   "metadata": {},
   "outputs": [],
   "source": [
    "getDistanceAllElement = np.vectorize(getDistance) "
   ]
  },
  {
   "cell_type": "code",
   "execution_count": 66,
   "metadata": {},
   "outputs": [
    {
     "data": {
      "text/plain": [
       "array([[  19.8,   29.5, -291. ,  322. ,  -13.4,   29.5,  -29.5,   43.2,  -40.3,   45.6,  -45.6,   45.6,    0. ,    0. ],\n",
       "       [  19.8,   29.5, -291. ,  322. ,  -13.4,   29.5,  -45.6,   45.6,  -29.5,   43.2,  -40.3,   45.6,    0. ,    0. ],\n",
       "       [  19.8,   29.5, -291. ,  322. ,  -13.4,   29.5,  -45.6,   45.6,  -45.6,   45.6,  -29.5,   43.2,    0. ,    0. ],\n",
       "       [  19.8,   29.5, -291. ,  322. ,  -13.4,   43.2,  -43.2,   29.5,  -45.6,   45.6,  -45.6,   45.6,    0. ,    0. ],\n",
       "       [  19.8,   29.5, -291. ,  322. ,  -13.4,   43.2,  -40.3,   45.6,  -29.5,   29.5,  -45.6,   45.6,    0. ,    0. ],\n",
       "       [  19.8,   29.5, -291. ,  322. ,  -13.4,   43.2,  -40.3,   45.6,  -45.6,   45.6,  -29.5,   29.5,    0. ,    0. ],\n",
       "       [  19.8,   29.5, -291. ,  322. ,  -11.6,   45.6,  -29.5,   29.5,  -29.5,   43.2,  -40.3,   45.6,    0. ,    0. ],\n",
       "       [  19.8,   29.5, -291. ,  322. ,  -11.6,   45.6,  -29.5,   29.5,  -45.6,   45.6,  -29.5,   43.2,    0. ,    0. ],\n",
       "       [  19.8,   29.5, -291. ,  322. ,  -11.6,   45.6,  -29.5,   43.2,  -43.2,   29.5,  -45.6,   45.6,    0. ,    0. ],\n",
       "       [  19.8,   29.5, -291. ,  322. ,  -11.6,   45.6,  -29.5,   43.2,  -40.3,   45.6,  -29.5,   29.5,    0. ,    0. ],\n",
       "       [  19.8,   29.5, -291. ,  322. ,  -11.6,   45.6,  -45.6,   45.6,  -29.5,   29.5,  -29.5,   43.2,    0. ,    0. ],\n",
       "       [  19.8,   29.5, -291. ,  322. ,  -11.6,   45.6,  -45.6,   45.6,  -29.5,   43.2,  -43.2,   29.5,    0. ,    0. ],\n",
       "       [  19.8,   29.5,  -29.5,   29.5, -291. ,  322. ,  -13.4,   43.2,  -40.3,   45.6,  -45.6,   45.6,    0. ,    0. ],\n",
       "       [  19.8,   29.5,  -29.5,   29.5, -291. ,  322. ,  -11.6,   45.6,  -29.5,   43.2,  -40.3,   45.6,    0. ,    0. ],\n",
       "       [  19.8,   29.5,  -29.5,   29.5, -291. ,  322. ,  -11.6,   45.6,  -45.6,   45.6,  -29.5,   43.2,    0. ,    0. ],\n",
       "       [  19.8,   29.5,  -29.5,   29.5,  -29.5,   43.2, -282. ,  322. ,  -11.6,   45.6,  -45.6,   45.6,    0. ,    0. ],\n",
       "       [  19.8,   29.5,  -29.5,   29.5,  -29.5,   43.2,  -40.3,   45.6, -291. ,  322. ,  -11.6,   45.6,    0. ,    0. ],\n",
       "       [  19.8,   29.5,  -29.5,   29.5,  -29.5,   43.2,  -40.3,   45.6,  -45.6,   45.6, -291. ,  322. ,    0. ,    0. ],\n",
       "       [  19.8,   29.5,  -29.5,   29.5,  -45.6,   45.6, -291. ,  322. ,  -13.4,   43.2,  -40.3,   45.6,    0. ,    0. ],\n",
       "       [  19.8,   29.5,  -29.5,   29.5,  -45.6,   45.6, -291. ,  322. ,  -11.6,   45.6,  -29.5,   43.2,    0. ,    0. ]])"
      ]
     },
     "execution_count": 66,
     "metadata": {},
     "output_type": "execute_result"
    }
   ],
   "source": [
    "result_array = getDistanceAllElement(all_paths)\n",
    "result_array[0:20]"
   ]
  },
  {
   "cell_type": "code",
   "execution_count": 59,
   "metadata": {},
   "outputs": [
    {
     "data": {
      "text/plain": [
       "(330, 14)"
      ]
     },
     "execution_count": 59,
     "metadata": {},
     "output_type": "execute_result"
    }
   ],
   "source": [
    "result_array.shape"
   ]
  },
  {
   "cell_type": "markdown",
   "metadata": {},
   "source": [
    "รวมระยะทางที่วิ่งทั้งหมด แล้วพิจารณาเฉพาะที่ unique \n",
    "\n",
    "ปล.unique ที่ว่าคือ ต้อง unique ที่ระยะรวม, ระยะ +, ระยะทาง -"
   ]
  },
  {
   "cell_type": "code",
   "execution_count": 60,
   "metadata": {},
   "outputs": [],
   "source": [
    "# 6.\n",
    "def sumDistance(distance_arr):\n",
    "    all_distances = sum(distance_arr)\n",
    "    pos_distances = sum(distance_arr[distance_arr > 0])\n",
    "    neg_distances = sum(distance_arr[distance_arr < 0])\n",
    "    abs_distances = pos_distances + abs(neg_distances)\n",
    "    \n",
    "    return pos_distances, neg_distances, all_distances, abs_distances"
   ]
  },
  {
   "cell_type": "code",
   "execution_count": 65,
   "metadata": {},
   "outputs": [
    {
     "data": {
      "text/plain": [
       "array([[ 535.2, -419.8,  115.4,  955. ],\n",
       "       [ 535.2, -419.8,  115.4,  955. ],\n",
       "       [ 535.2, -425.1,  110.1,  960.3],\n",
       "       [ 535.2, -438.8,   96.4,  974. ],\n",
       "       [ 535.2, -419.8,  115.4,  955. ],\n",
       "       [ 535.2, -419.8,  115.4,  955. ],\n",
       "       [ 535.2, -401.9,  133.3,  937.1],\n",
       "       [ 535.2, -407.2,  128. ,  942.4],\n",
       "       [ 535.2, -420.9,  114.3,  956.1],\n",
       "       [ 535.2, -401.9,  133.3,  937.1],\n",
       "       [ 535.2, -407.2,  128. ,  942.4],\n",
       "       [ 535.2, -420.9,  114.3,  956.1],\n",
       "       [ 535.2, -419.8,  115.4,  955. ],\n",
       "       [ 535.2, -401.9,  133.3,  937.1],\n",
       "       [ 535.2, -407.2,  128. ,  942.4],\n",
       "       [ 535.2, -398.2,  137. ,  933.4],\n",
       "       [ 535.2, -401.9,  133.3,  937.1],\n",
       "       [ 535.2, -435.9,   99.3,  971.1],\n",
       "       [ 535.2, -419.8,  115.4,  955. ],\n",
       "       [ 535.2, -407.2,  128. ,  942.4]])"
      ]
     },
     "execution_count": 65,
     "metadata": {},
     "output_type": "execute_result"
    }
   ],
   "source": [
    "all_distance_path = np.apply_along_axis(sumDistance, 1, result_array)\n",
    "all_distance_path[0:20]"
   ]
  },
  {
   "cell_type": "markdown",
   "metadata": {},
   "source": [
    "จะเห็นว่าระยะทาง + เท่ากันหมด แต่ - นั้นต่างกัน"
   ]
  },
  {
   "cell_type": "code",
   "execution_count": 62,
   "metadata": {},
   "outputs": [
    {
     "data": {
      "text/plain": [
       "330"
      ]
     },
     "execution_count": 62,
     "metadata": {},
     "output_type": "execute_result"
    }
   ],
   "source": [
    "len(all_distance_path[:,2])"
   ]
  },
  {
   "cell_type": "markdown",
   "metadata": {},
   "source": [
    "จาก 330 ทางที่เป็นไปได้"
   ]
  },
  {
   "cell_type": "code",
   "execution_count": 63,
   "metadata": {},
   "outputs": [
    {
     "data": {
      "text/plain": [
       "30"
      ]
     },
     "execution_count": 63,
     "metadata": {},
     "output_type": "execute_result"
    }
   ],
   "source": [
    "len(np.unique(all_distance_path[:,2]))"
   ]
  },
  {
   "cell_type": "markdown",
   "metadata": {},
   "source": [
    "มีแค่ 30 ทางเท่านั้นที่ unique ให้ค่าแตกต่างกัน"
   ]
  },
  {
   "cell_type": "code",
   "execution_count": 64,
   "metadata": {},
   "outputs": [
    {
     "data": {
      "text/plain": [
       "array([ 66.9,  66.9,  80.3,  84.8,  85.9,  85.9,  85.9,  89.6,  96.4,  96.4,  99.3, 103. , 103.8, 103.8, 107.5, 110.1, 110.1, 114.3, 114.3, 114.3, 115.4, 115.4, 115.4, 115.4, 119.1, 119.1, 128. ,\n",
       "       128. , 133.3, 137. ])"
      ]
     },
     "execution_count": 64,
     "metadata": {},
     "output_type": "execute_result"
    }
   ],
   "source": [
    "np.unique(all_distance_path[:,2])"
   ]
  },
  {
   "cell_type": "markdown",
   "metadata": {},
   "source": [
    "โดยทางที่ดีที่สุด (col 3 มากสุด) วิ่งระยะรวมไป 137.\n",
    "\n",
    "ลองกวาดดูว่ามีทางอะไรบ้าง"
   ]
  },
  {
   "cell_type": "code",
   "execution_count": 67,
   "metadata": {},
   "outputs": [
    {
     "data": {
      "text/plain": [
       "array([['A-B', 'B-P', 'P-B', 'B-P', 'P-B', 'B-N', 'N-S', 'S-T', 'T-A', 'A-P', 'P-A', 'A-P', '0', '0'],\n",
       "       ['A-B', 'B-P', 'P-B', 'B-P', 'P-A', 'A-P', 'P-B', 'B-N', 'N-S', 'S-T', 'T-A', 'A-P', '0', '0'],\n",
       "       ['A-B', 'B-P', 'P-B', 'B-N', 'N-S', 'S-T', 'T-A', 'A-P', 'P-B', 'B-P', 'P-A', 'A-P', '0', '0'],\n",
       "       ['A-B', 'B-P', 'P-B', 'B-N', 'N-S', 'S-T', 'T-A', 'A-P', 'P-A', 'A-P', 'P-B', 'B-P', '0', '0'],\n",
       "       ['A-B', 'B-P', 'P-A', 'A-P', 'P-B', 'B-P', 'P-B', 'B-N', 'N-S', 'S-T', 'T-A', 'A-P', '0', '0'],\n",
       "       ['A-B', 'B-P', 'P-A', 'A-P', 'P-B', 'B-N', 'N-S', 'S-T', 'T-A', 'A-P', 'P-B', 'B-P', '0', '0'],\n",
       "       ['A-B', 'B-N', 'N-S', 'S-T', 'T-A', 'A-P', 'P-B', 'B-P', 'P-B', 'B-P', 'P-A', 'A-P', '0', '0'],\n",
       "       ['A-B', 'B-N', 'N-S', 'S-T', 'T-A', 'A-P', 'P-B', 'B-P', 'P-A', 'A-P', 'P-B', 'B-P', '0', '0'],\n",
       "       ['A-B', 'B-N', 'N-S', 'S-T', 'T-A', 'A-P', 'P-A', 'A-P', 'P-B', 'B-P', 'P-B', 'B-P', '0', '0'],\n",
       "       ['A-P', 'P-B', 'B-P', 'P-B', 'B-P', 'P-A', 'A-B', 'B-N', 'N-S', 'S-T', 'T-A', 'A-P', '0', '0'],\n",
       "       ['A-P', 'P-B', 'B-P', 'P-B', 'B-N', 'N-S', 'S-T', 'T-A', 'A-B', 'B-P', 'P-A', 'A-P', '0', '0'],\n",
       "       ['A-P', 'P-B', 'B-P', 'P-B', 'B-N', 'N-S', 'S-T', 'T-A', 'A-P', 'P-A', 'A-B', 'B-P', '0', '0'],\n",
       "       ['A-P', 'P-B', 'B-P', 'P-A', 'A-B', 'B-P', 'P-B', 'B-N', 'N-S', 'S-T', 'T-A', 'A-P', '0', '0'],\n",
       "       ['A-P', 'P-B', 'B-P', 'P-A', 'A-B', 'B-N', 'N-S', 'S-T', 'T-A', 'A-P', 'P-B', 'B-P', '0', '0'],\n",
       "       ['A-P', 'P-B', 'B-P', 'P-A', 'A-P', 'P-B', 'B-N', 'N-S', 'S-T', 'T-A', 'A-B', 'B-P', '0', '0'],\n",
       "       ['A-P', 'P-B', 'B-N', 'N-S', 'S-T', 'T-A', 'A-B', 'B-P', 'P-B', 'B-P', 'P-A', 'A-P', '0', '0'],\n",
       "       ['A-P', 'P-B', 'B-N', 'N-S', 'S-T', 'T-A', 'A-B', 'B-P', 'P-A', 'A-P', 'P-B', 'B-P', '0', '0'],\n",
       "       ['A-P', 'P-B', 'B-N', 'N-S', 'S-T', 'T-A', 'A-P', 'P-B', 'B-P', 'P-A', 'A-B', 'B-P', '0', '0'],\n",
       "       ['A-P', 'P-B', 'B-N', 'N-S', 'S-T', 'T-A', 'A-P', 'P-A', 'A-B', 'B-P', 'P-B', 'B-P', '0', '0'],\n",
       "       ['A-P', 'P-A', 'A-B', 'B-P', 'P-B', 'B-P', 'P-B', 'B-N', 'N-S', 'S-T', 'T-A', 'A-P', '0', '0'],\n",
       "       ['A-P', 'P-A', 'A-B', 'B-P', 'P-B', 'B-N', 'N-S', 'S-T', 'T-A', 'A-P', 'P-B', 'B-P', '0', '0'],\n",
       "       ['A-P', 'P-A', 'A-B', 'B-N', 'N-S', 'S-T', 'T-A', 'A-P', 'P-B', 'B-P', 'P-B', 'B-P', '0', '0'],\n",
       "       ['A-P', 'P-A', 'A-P', 'P-B', 'B-P', 'P-B', 'B-N', 'N-S', 'S-T', 'T-A', 'A-B', 'B-P', '0', '0'],\n",
       "       ['A-P', 'P-A', 'A-P', 'P-B', 'B-N', 'N-S', 'S-T', 'T-A', 'A-B', 'B-P', 'P-B', 'B-P', '0', '0']], dtype='<U3')"
      ]
     },
     "execution_count": 67,
     "metadata": {},
     "output_type": "execute_result"
    }
   ],
   "source": [
    "all_paths[all_distance_path[:,2] == 137.0]"
   ]
  },
  {
   "cell_type": "code",
   "execution_count": 71,
   "metadata": {},
   "outputs": [
    {
     "data": {
      "text/plain": [
       "24"
      ]
     },
     "execution_count": 71,
     "metadata": {},
     "output_type": "execute_result"
    }
   ],
   "source": [
    "path_from_number_of_distances = all_paths[all_distance_path[:,2] == 137]\n",
    "\n",
    "len(all_paths[all_distance_path[:,2] == 137])"
   ]
  },
  {
   "cell_type": "markdown",
   "metadata": {},
   "source": [
    "จากผลข้างต้นพบว่ามี 24 วิธีที่จะวิ่งได้ระยะทางน้อยสุดสำหรับโจทย์นี้\n",
    "\n",
    "และระยะทางน้อยสุดคือ 137"
   ]
  },
  {
   "cell_type": "markdown",
   "metadata": {},
   "source": [
    "จาก Task ข้างต้น ทำให้แสดง task path เป็นชื่อไทย"
   ]
  },
  {
   "cell_type": "code",
   "execution_count": 156,
   "metadata": {},
   "outputs": [
    {
     "data": {
      "text/html": [
       "<div>\n",
       "<style scoped>\n",
       "    .dataframe tbody tr th:only-of-type {\n",
       "        vertical-align: middle;\n",
       "    }\n",
       "\n",
       "    .dataframe tbody tr th {\n",
       "        vertical-align: top;\n",
       "    }\n",
       "\n",
       "    .dataframe thead th {\n",
       "        text-align: right;\n",
       "    }\n",
       "</style>\n",
       "<table border=\"1\" class=\"dataframe\">\n",
       "  <thead>\n",
       "    <tr style=\"text-align: right;\">\n",
       "      <th></th>\n",
       "      <th>name</th>\n",
       "      <th>node</th>\n",
       "    </tr>\n",
       "  </thead>\n",
       "  <tbody>\n",
       "    <tr>\n",
       "      <th>0</th>\n",
       "      <td>A</td>\n",
       "      <td>นครหลวง</td>\n",
       "    </tr>\n",
       "    <tr>\n",
       "      <th>1</th>\n",
       "      <td>B</td>\n",
       "      <td>ท่าเรือ</td>\n",
       "    </tr>\n",
       "    <tr>\n",
       "      <th>2</th>\n",
       "      <td>C</td>\n",
       "      <td>ไทยไซโล</td>\n",
       "    </tr>\n",
       "    <tr>\n",
       "      <th>3</th>\n",
       "      <td>D</td>\n",
       "      <td>น้ำมันพืชไทย</td>\n",
       "    </tr>\n",
       "    <tr>\n",
       "      <th>4</th>\n",
       "      <td>E</td>\n",
       "      <td>บางปะกง</td>\n",
       "    </tr>\n",
       "    <tr>\n",
       "      <th>5</th>\n",
       "      <td>F</td>\n",
       "      <td>ไชยพร</td>\n",
       "    </tr>\n",
       "    <tr>\n",
       "      <th>6</th>\n",
       "      <td>G</td>\n",
       "      <td>บางนา</td>\n",
       "    </tr>\n",
       "    <tr>\n",
       "      <th>7</th>\n",
       "      <td>H</td>\n",
       "      <td>มหาชัย</td>\n",
       "    </tr>\n",
       "    <tr>\n",
       "      <th>8</th>\n",
       "      <td>I</td>\n",
       "      <td>บ้านบึง</td>\n",
       "    </tr>\n",
       "    <tr>\n",
       "      <th>9</th>\n",
       "      <td>J</td>\n",
       "      <td>ศรีราชา</td>\n",
       "    </tr>\n",
       "    <tr>\n",
       "      <th>10</th>\n",
       "      <td>K</td>\n",
       "      <td>ราชบุรี</td>\n",
       "    </tr>\n",
       "    <tr>\n",
       "      <th>11</th>\n",
       "      <td>L</td>\n",
       "      <td>โคราช</td>\n",
       "    </tr>\n",
       "    <tr>\n",
       "      <th>12</th>\n",
       "      <td>M</td>\n",
       "      <td>ปักธงชัย</td>\n",
       "    </tr>\n",
       "    <tr>\n",
       "      <th>13</th>\n",
       "      <td>N</td>\n",
       "      <td>หนองแค(สัตว์บก)</td>\n",
       "    </tr>\n",
       "    <tr>\n",
       "      <th>14</th>\n",
       "      <td>O</td>\n",
       "      <td>หนองแค(สัตว์นํ้า)</td>\n",
       "    </tr>\n",
       "    <tr>\n",
       "      <th>15</th>\n",
       "      <td>P</td>\n",
       "      <td>โคกตูม</td>\n",
       "    </tr>\n",
       "    <tr>\n",
       "      <th>16</th>\n",
       "      <td>Q</td>\n",
       "      <td>พิษณุโลก</td>\n",
       "    </tr>\n",
       "    <tr>\n",
       "      <th>17</th>\n",
       "      <td>R</td>\n",
       "      <td>ขอนเเก่น</td>\n",
       "    </tr>\n",
       "    <tr>\n",
       "      <th>18</th>\n",
       "      <td>S</td>\n",
       "      <td>ลำปลายมาศ</td>\n",
       "    </tr>\n",
       "    <tr>\n",
       "      <th>19</th>\n",
       "      <td>T</td>\n",
       "      <td>วังแดง</td>\n",
       "    </tr>\n",
       "    <tr>\n",
       "      <th>20</th>\n",
       "      <td>U</td>\n",
       "      <td>สุพรรณบุรี</td>\n",
       "    </tr>\n",
       "    <tr>\n",
       "      <th>21</th>\n",
       "      <td>V</td>\n",
       "      <td>กำเเพงเพชร</td>\n",
       "    </tr>\n",
       "  </tbody>\n",
       "</table>\n",
       "</div>"
      ],
      "text/plain": [
       "   name               node\n",
       "0     A            นครหลวง\n",
       "1     B            ท่าเรือ\n",
       "2     C            ไทยไซโล\n",
       "3     D       น้ำมันพืชไทย\n",
       "4     E            บางปะกง\n",
       "5     F              ไชยพร\n",
       "6     G              บางนา\n",
       "7     H             มหาชัย\n",
       "8     I            บ้านบึง\n",
       "9     J            ศรีราชา\n",
       "10    K            ราชบุรี\n",
       "11    L              โคราช\n",
       "12    M           ปักธงชัย\n",
       "13    N    หนองแค(สัตว์บก)\n",
       "14    O  หนองแค(สัตว์นํ้า)\n",
       "15    P             โคกตูม\n",
       "16    Q           พิษณุโลก\n",
       "17    R           ขอนเเก่น\n",
       "18    S          ลำปลายมาศ\n",
       "19    T             วังแดง\n",
       "20    U         สุพรรณบุรี\n",
       "21    V         กำเเพงเพชร"
      ]
     },
     "execution_count": 156,
     "metadata": {},
     "output_type": "execute_result"
    }
   ],
   "source": [
    "full_node_names = pd.read_csv('data/node_names.csv')\n",
    "full_node_names"
   ]
  },
  {
   "cell_type": "code",
   "execution_count": 210,
   "metadata": {},
   "outputs": [],
   "source": [
    "# 7.\n",
    "def getTaskName(task_path, full_node_names, distances, tasks):\n",
    "    name_arr = full_node_names['name'].values\n",
    "    only_task = task_path[task_path != '0'];\n",
    "    active_path = tasks['path'].values\n",
    "    \n",
    "    # ดูว่า job ไทนมี tasks เป็น + บ้าง\n",
    "    is_positive_task = np.isin(only_task, active_path) \n",
    "    \n",
    "    # แยกจุดเริ่ม-จบ \n",
    "    start_f = lambda x : x.split('-')[0]\n",
    "    start_vf = np.vectorize(start_f)\n",
    "    start_node = start_vf(only_task)\n",
    "    end_f = lambda y : y.split('-')[1]\n",
    "    end_vf = np.vectorize(end_f)\n",
    "    end_node = end_vf(only_task)\n",
    "    \n",
    "    row_num = len(only_task)\n",
    "    \n",
    "    name_list = []\n",
    "    distance_list = []\n",
    "    for i in range(row_num):\n",
    "        # name        \n",
    "        start_name =  full_node_names[full_node_names['name'] == start_node[i]]['node'].values[0]\n",
    "        end_name =  full_node_names[full_node_names['name'] == end_node[i]]['node'].values[0]\n",
    "        name = start_name + '-' + end_name \n",
    "        name_list.append(name)\n",
    "        \n",
    "        # distance        \n",
    "        start,end = start_node[i],end_node[i]\n",
    "        m,n = np.where(name_arr == start)[0][0],np.where(name_arr == end)[0][0]\n",
    "        before_path = only_task[0:i]\n",
    "        remaining_tasks = checkRemainingTasks(before_path, tasks)\n",
    "        current_task = task_path[i] \n",
    "        if current_task in remaining_tasks['path'].values:\n",
    "            distance_list.append(distances[m,n])\n",
    "        else:\n",
    "            distance_list.append(-distances[m,n])\n",
    "\n",
    "    return pd.DataFrame({'Name' : name_list, 'Distance': distance_list})"
   ]
  },
  {
   "cell_type": "code",
   "execution_count": 211,
   "metadata": {},
   "outputs": [
    {
     "data": {
      "text/html": [
       "<div>\n",
       "<style scoped>\n",
       "    .dataframe tbody tr th:only-of-type {\n",
       "        vertical-align: middle;\n",
       "    }\n",
       "\n",
       "    .dataframe tbody tr th {\n",
       "        vertical-align: top;\n",
       "    }\n",
       "\n",
       "    .dataframe thead th {\n",
       "        text-align: right;\n",
       "    }\n",
       "</style>\n",
       "<table border=\"1\" class=\"dataframe\">\n",
       "  <thead>\n",
       "    <tr style=\"text-align: right;\">\n",
       "      <th></th>\n",
       "      <th>Name</th>\n",
       "      <th>Distance</th>\n",
       "    </tr>\n",
       "  </thead>\n",
       "  <tbody>\n",
       "    <tr>\n",
       "      <th>0</th>\n",
       "      <td>นครหลวง-ท่าเรือ</td>\n",
       "      <td>19.8</td>\n",
       "    </tr>\n",
       "    <tr>\n",
       "      <th>1</th>\n",
       "      <td>ท่าเรือ-โคกตูม</td>\n",
       "      <td>29.5</td>\n",
       "    </tr>\n",
       "    <tr>\n",
       "      <th>2</th>\n",
       "      <td>โคกตูม-ท่าเรือ</td>\n",
       "      <td>-29.5</td>\n",
       "    </tr>\n",
       "    <tr>\n",
       "      <th>3</th>\n",
       "      <td>ท่าเรือ-หนองแค(สัตว์บก)</td>\n",
       "      <td>43.2</td>\n",
       "    </tr>\n",
       "    <tr>\n",
       "      <th>4</th>\n",
       "      <td>หนองแค(สัตว์บก)-ลำปลายมาศ</td>\n",
       "      <td>-282.0</td>\n",
       "    </tr>\n",
       "    <tr>\n",
       "      <th>5</th>\n",
       "      <td>ลำปลายมาศ-วังแดง</td>\n",
       "      <td>322.0</td>\n",
       "    </tr>\n",
       "    <tr>\n",
       "      <th>6</th>\n",
       "      <td>วังแดง-นครหลวง</td>\n",
       "      <td>-11.6</td>\n",
       "    </tr>\n",
       "    <tr>\n",
       "      <th>7</th>\n",
       "      <td>นครหลวง-โคกตูม</td>\n",
       "      <td>45.6</td>\n",
       "    </tr>\n",
       "    <tr>\n",
       "      <th>8</th>\n",
       "      <td>โคกตูม-นครหลวง</td>\n",
       "      <td>-45.6</td>\n",
       "    </tr>\n",
       "    <tr>\n",
       "      <th>9</th>\n",
       "      <td>นครหลวง-โคกตูม</td>\n",
       "      <td>45.6</td>\n",
       "    </tr>\n",
       "    <tr>\n",
       "      <th>10</th>\n",
       "      <td>โคกตูม-ท่าเรือ</td>\n",
       "      <td>-29.5</td>\n",
       "    </tr>\n",
       "    <tr>\n",
       "      <th>11</th>\n",
       "      <td>ท่าเรือ-โคกตูม</td>\n",
       "      <td>29.5</td>\n",
       "    </tr>\n",
       "  </tbody>\n",
       "</table>\n",
       "</div>"
      ],
      "text/plain": [
       "                         Name  Distance\n",
       "0             นครหลวง-ท่าเรือ      19.8\n",
       "1              ท่าเรือ-โคกตูม      29.5\n",
       "2              โคกตูม-ท่าเรือ     -29.5\n",
       "3     ท่าเรือ-หนองแค(สัตว์บก)      43.2\n",
       "4   หนองแค(สัตว์บก)-ลำปลายมาศ    -282.0\n",
       "5            ลำปลายมาศ-วังแดง     322.0\n",
       "6              วังแดง-นครหลวง     -11.6\n",
       "7              นครหลวง-โคกตูม      45.6\n",
       "8              โคกตูม-นครหลวง     -45.6\n",
       "9              นครหลวง-โคกตูม      45.6\n",
       "10             โคกตูม-ท่าเรือ     -29.5\n",
       "11             ท่าเรือ-โคกตูม      29.5"
      ]
     },
     "execution_count": 211,
     "metadata": {},
     "output_type": "execute_result"
    }
   ],
   "source": [
    "thai_name = getTaskName(path_from_number_of_distances[3], full_node_names, distances, tasks)\n",
    "thai_name"
   ]
  },
  {
   "cell_type": "code",
   "execution_count": null,
   "metadata": {},
   "outputs": [],
   "source": []
  }
 ],
 "metadata": {
  "kernelspec": {
   "display_name": "Python 3",
   "language": "python",
   "name": "python3"
  },
  "language_info": {
   "codemirror_mode": {
    "name": "ipython",
    "version": 3
   },
   "file_extension": ".py",
   "mimetype": "text/x-python",
   "name": "python",
   "nbconvert_exporter": "python",
   "pygments_lexer": "ipython3",
   "version": "3.6.8"
  }
 },
 "nbformat": 4,
 "nbformat_minor": 2
}
