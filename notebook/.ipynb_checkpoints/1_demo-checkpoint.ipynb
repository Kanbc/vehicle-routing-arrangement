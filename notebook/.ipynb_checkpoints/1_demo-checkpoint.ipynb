{
 "cells": [
  {
   "cell_type": "markdown",
   "metadata": {},
   "source": [
    "## Problem"
   ]
  },
  {
   "cell_type": "markdown",
   "metadata": {},
   "source": [
    "Input : \n",
    "- เส้นทาง (ต้นทาง-ปลายทาง) : เปลี่ยนได้เพิ่มได้\n",
    "- จำนวนงานของแต่ละเส้นทาง\n",
    "- จุดเริ่มต้น"
   ]
  },
  {
   "cell_type": "markdown",
   "metadata": {},
   "source": [
    "Output : \n",
    "- หาทุกทางที่ทำให้งานจบ\n",
    "- ทุกทางยาวเท่าไหร่\n",
    "- เอาทางที่ระยะทางซ้ำกันออก\n",
    "- บอกด้วยว่าจากระยะทางทั้งหมด แบ่งเป็นระยะทางมีของและไม่มีของอย่างละเท่าไหร่"
   ]
  },
  {
   "cell_type": "markdown",
   "metadata": {},
   "source": [
    "### Data \n",
    "\n",
    "- prepare the data (5 node, 10 work, distance between all node) "
   ]
  },
  {
   "cell_type": "code",
   "execution_count": null,
   "metadata": {},
   "outputs": [],
   "source": []
  }
 ],
 "metadata": {
  "kernelspec": {
   "display_name": "Python 3",
   "language": "python",
   "name": "python3"
  },
  "language_info": {
   "codemirror_mode": {
    "name": "ipython",
    "version": 3
   },
   "file_extension": ".py",
   "mimetype": "text/x-python",
   "name": "python",
   "nbconvert_exporter": "python",
   "pygments_lexer": "ipython3",
   "version": "3.6.8"
  }
 },
 "nbformat": 4,
 "nbformat_minor": 2
}
