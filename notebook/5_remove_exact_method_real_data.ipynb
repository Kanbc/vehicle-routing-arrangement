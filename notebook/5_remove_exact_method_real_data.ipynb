{
 "cells": [
  {
   "cell_type": "markdown",
   "metadata": {},
   "source": [
    "จาก 3. เราคำนวณทุก matrix เลยซึ่งทำให้ matrix path ใหญ่มากๆ สิ่งที่จะทำในขั้นนี้คือเรายังคงทำ exact-method เหมือนเดิมโดยลดทอนขนาด matrix ให้เล็กลงจาก path ที่มี \n",
    "- task ทั้งหมด\n",
    "- จุด end\n",
    "\n",
    "เหมือนกัน\n",
    "\n",
    "เช่น\n",
    "\n",
    "กรณีที่เริ่มจากจุด A \n",
    "\n",
    "Path 1 : A-B,B-C,C-A,A-C\n",
    "\n",
    "Path 2 : A-C,C-A,A-B,B-C \n",
    "\n"
   ]
  },
  {
   "cell_type": "markdown",
   "metadata": {},
   "source": [
    "จะเห็นว่า task และจุด end เหมือนกันดังนั้นในการคำนวณ nextNode จาก remainingTasks จะให้ผลเหมือนกัน ดังนั้นเราสามารถเลือกแค่วิธีการเดียวแล้วรันต่อไปได้ สุดท้ายถ้าทางนี้น้อยสุดจริง จะได้ผลลัพธ์ที่น้อยสุดเหมือนกัน"
   ]
  },
  {
   "cell_type": "code",
   "execution_count": 2,
   "metadata": {},
   "outputs": [
    {
     "name": "stdout",
     "output_type": "stream",
     "text": [
      "Number of Core : 4\n"
     ]
    }
   ],
   "source": [
    "import numpy as np\n",
    "import pandas as pd\n",
    "import time\n",
    "import multiprocessing as mp\n",
    "print('Number of Core :',mp.cpu_count())\n",
    "\n",
    "class VehicleRoutingArrangement:\n",
    "    def __init__(self, node_names, distances_matrix, tasks):\n",
    "        self.full_node_names = node_names\n",
    "        self.node_names = node_names['name'].values\n",
    "        self.distances = distances_matrix\n",
    "        self.tasks = tasks\n",
    "        \n",
    "    def checkRemainingTasks(self, job_done):\n",
    "        remaining_tasks = self.tasks.copy()\n",
    "        if len(remaining_tasks) > 0:\n",
    "            active_path = tasks['path'].values\n",
    "            job_done = job_done[np.isin(job_done, active_path)]\n",
    "            \n",
    "            job_unique, job_counts = np.unique(job_done, return_counts=True)\n",
    "            job_done_df = pd.DataFrame({'path': job_unique, 'Count': job_counts})\n",
    "            \n",
    "            merged_df = remaining_tasks.merge(job_done_df, on='path',how='outer')\n",
    "            merged_df.loc[merged_df['Count_y'].isnull(), 'Count_y'] = 0\n",
    "            merged_df['Count'] = merged_df['Count_x'] - merged_df['Count_y']\n",
    "            output = merged_df[merged_df['Count'] > 0][['Start','End','path','Count']]        \n",
    "            return output\n",
    "        else:\n",
    "            return remaining_tasks\n",
    "    \n",
    "    def startOrEnd(self, current_position,rm_task):\n",
    "        start_set = rm_task['Start'].unique()\n",
    "        if current_position in start_set:\n",
    "            return rm_task[rm_task['Start'] == current_position]['End'].values\n",
    "        else:\n",
    "            return start_set\n",
    "        \n",
    "    def nextJobsMatrix(self, job_done, next_nodes):\n",
    "        current_position = job_done[-1].split('-')[-1]\n",
    "        next_jobs = current_position + '-' + next_nodes\n",
    "        \n",
    "        if len(job_done[0]) > 1:\n",
    "            ini_mat = np.tile(job_done,(len(next_jobs),1))\n",
    "            output = np.hstack((ini_mat, np.array([next_jobs]).T ))\n",
    "        else:\n",
    "            output = np.array([next_jobs]).T\n",
    "        return output\n",
    "    \n",
    "    def jobMatrix(self, each_row):\n",
    "        remaining_jobs = self.checkRemainingTasks(each_row)\n",
    "        if len(remaining_jobs) == 0:\n",
    "            job_matrix = np.append(each_row,'0')\n",
    "        else:\n",
    "            current_position = each_row[-1].split('-')[-1]\n",
    "            next_nodes = self.startOrEnd(current_position, remaining_jobs)\n",
    "            job_matrix = self.nextJobsMatrix(each_row, next_nodes)\n",
    "        return job_matrix\n",
    "    \n",
    "    def currentPosition(self, x):\n",
    "        return x.split('-')[-1]\n",
    "    \n",
    "    def allPath(self, before_path):\n",
    "        start_time = time.time()\n",
    "            \n",
    "        # Pool Multiple Processing    \n",
    "        pool = mp.Pool(processes=4)\n",
    "        output_list = pool.map(self.jobMatrix, before_path)\n",
    "        output = np.vstack(output_list)\n",
    "        # re-output to unique matrix\n",
    "        old_output = output.copy()\n",
    "        vCurrentPos = np.vectorize(self.currentPosition)\n",
    "        last_position = old_output[:,-1]\n",
    "        current_pos_arr = vCurrentPos(last_position)\n",
    "        output.sort(axis=1)\n",
    "        all_groups = pd.DataFrame({\n",
    "                        'tasks' : [\"\".join(i) for i in output.astype(str)], \n",
    "                        'current_pos': list(current_pos_arr) , \n",
    "                        'id': range(len(current_pos_arr)) }).groupby(['tasks','current_pos'])\n",
    "        unique_index = all_groups.first()['id'].values\n",
    "        output = old_output[unique_index,:]\n",
    "\n",
    "        last_column = output[:,-1]\n",
    "        all_zero = sum(last_column == '0')\n",
    "        stop_time = time.time() - start_time\n",
    "        print('Output Matrix Shape :', output.shape, ', Use Time :', stop_time, 's')\n",
    "        if all_zero == len(last_column):\n",
    "            return output\n",
    "        else:\n",
    "            return self.allPath(output)\n",
    "    \n",
    "    def getDistance(self, startEndStr):\n",
    "        tasks_arr = self.tasks['path'].values\n",
    "        if startEndStr == '0':\n",
    "            return 0\n",
    "        else:\n",
    "            start,end = startEndStr.split('-')\n",
    "            i,j = np.where(self.node_names == start)[0][0],np.where(self.node_names == end)[0][0]\n",
    "            return self.distances[i,j] if startEndStr in tasks_arr else -1*self.distances[i,j]\n",
    "        \n",
    "    def sumDistance(self, distance_arr):\n",
    "        all_distances = sum(distance_arr)\n",
    "        pos_distances = sum(distance_arr[distance_arr > 0])\n",
    "        neg_distances = sum(distance_arr[distance_arr < 0])\n",
    "        abs_distances = pos_distances + abs(neg_distances)\n",
    "        return pos_distances, neg_distances, all_distances, abs_distances\n",
    "        \n",
    "    def allDistancePath(self, all_path):\n",
    "        getDistanceAllElement = np.vectorize(self.getDistance) \n",
    "        result_array = getDistanceAllElement(all_path)\n",
    "        all_distance_path = np.apply_along_axis(self.sumDistance, 1, result_array)\n",
    "        return all_distance_path\n",
    "    \n",
    "    def getTaskName(self, task_path):\n",
    "        name_arr = self.full_node_names['name'].values\n",
    "        only_task = task_path[task_path != '0'];\n",
    "\n",
    "        # แยกจุดเริ่ม-จบ \n",
    "        start_f = lambda x : x.split('-')[0]\n",
    "        start_vf = np.vectorize(start_f)\n",
    "        start_node = start_vf(only_task)\n",
    "        end_f = lambda y : y.split('-')[1]\n",
    "        end_vf = np.vectorize(end_f)\n",
    "        end_node = end_vf(only_task)\n",
    "\n",
    "        row_num = len(only_task)\n",
    "\n",
    "        name_list = []\n",
    "        distance_list = []\n",
    "        for i in range(row_num):\n",
    "            # name        \n",
    "            start_name =  self.full_node_names[self.full_node_names['name'] == start_node[i]]['node'].values[0]\n",
    "            end_name =  self.full_node_names[self.full_node_names['name'] == end_node[i]]['node'].values[0]\n",
    "            name = start_name + '-' + end_name \n",
    "            name_list.append(name)\n",
    "\n",
    "            # distance        \n",
    "            start,end = start_node[i],end_node[i]\n",
    "            m,n = np.where(name_arr == start)[0][0],np.where(name_arr == end)[0][0]\n",
    "            before_path = only_task[0:i]\n",
    "            remaining_tasks = self.checkRemainingTasks(before_path)\n",
    "            current_task = task_path[i] \n",
    "            if current_task in remaining_tasks['path'].values:\n",
    "                distance_list.append(self.distances[m,n])\n",
    "            else:\n",
    "                distance_list.append(-self.distances[m,n])\n",
    "\n",
    "        return pd.DataFrame({'Name' : name_list, 'Distance': distance_list})\n",
    "    \n",
    "start_point = np.array([['S']]) # start_point\n",
    "node_names = pd.read_csv('data/node_names.csv')\n",
    "distances = pd.read_csv('data/distances_matrix.csv', header=None).values\n",
    "tasks = pd.read_csv('data/demo_tasks.csv')[['Start','End','Count']]\n",
    "tasks['path'] = tasks['Start'] +'-'+ tasks['End']"
   ]
  },
  {
   "cell_type": "code",
   "execution_count": 3,
   "metadata": {},
   "outputs": [],
   "source": [
    "vehicleObj = VehicleRoutingArrangement(node_names, distances, tasks)"
   ]
  },
  {
   "cell_type": "code",
   "execution_count": 4,
   "metadata": {},
   "outputs": [
    {
     "name": "stdout",
     "output_type": "stream",
     "text": [
      "Output Matrix Shape : (1, 1) , Use Time : 0.08915996551513672 s\n",
      "Output Matrix Shape : (2, 2) , Use Time : 0.0850071907043457 s\n",
      "Output Matrix Shape : (4, 3) , Use Time : 0.08620190620422363 s\n",
      "Output Matrix Shape : (8, 4) , Use Time : 0.09043192863464355 s\n",
      "Output Matrix Shape : (15, 5) , Use Time : 0.10927987098693848 s\n",
      "Output Matrix Shape : (24, 6) , Use Time : 0.14958524703979492 s\n",
      "Output Matrix Shape : (32, 7) , Use Time : 0.1804060935974121 s\n",
      "Output Matrix Shape : (37, 8) , Use Time : 0.20919418334960938 s\n",
      "Output Matrix Shape : (35, 9) , Use Time : 0.20987415313720703 s\n",
      "Output Matrix Shape : (31, 10) , Use Time : 0.24719786643981934 s\n",
      "Output Matrix Shape : (22, 11) , Use Time : 0.24539422988891602 s\n",
      "Output Matrix Shape : (14, 12) , Use Time : 0.22520804405212402 s\n",
      "Output Matrix Shape : (14, 13) , Use Time : 0.16047096252441406 s\n",
      "Output Matrix Shape : (14, 14) , Use Time : 0.21397185325622559 s\n"
     ]
    }
   ],
   "source": [
    "all_path = vehicleObj.allPath(start_point)"
   ]
  },
  {
   "cell_type": "code",
   "execution_count": 5,
   "metadata": {},
   "outputs": [
    {
     "data": {
      "text/plain": [
       "array([['S-T', 'T-B', 'B-N', 'N-A', 'A-P', 'P-A', 'A-P', 'P-A', 'A-B', 'B-P', 'P-B', 'B-P', '0', '0'],\n",
       "       ['S-T', 'T-A', 'A-B', 'B-N', 'N-A', 'A-P', 'P-A', 'A-P', 'P-B', 'B-P', 'P-B', 'B-P', '0', '0'],\n",
       "       ['S-T', 'T-B', 'B-P', 'P-A', 'A-P', 'P-A', 'A-P', 'P-A', 'A-B', 'B-N', 'N-B', 'B-P', '0', '0'],\n",
       "       ['S-T', 'T-A', 'A-P', 'P-A', 'A-P', 'P-A', 'A-B', 'B-N', 'N-B', 'B-P', 'P-B', 'B-P', '0', '0'],\n",
       "       ['S-T', 'T-B', 'B-P', 'P-A', 'A-P', 'P-A', 'A-P', 'P-A', 'A-B', 'B-P', 'P-B', 'B-N', '0', '0'],\n",
       "       ['S-T', 'T-A', 'A-P', 'P-A', 'A-P', 'P-A', 'A-B', 'B-P', 'P-B', 'B-P', 'P-B', 'B-N', '0', '0'],\n",
       "       ['S-T', 'T-B', 'B-P', 'P-B', 'B-P', 'P-B', 'B-N', 'N-A', 'A-B', 'B-A', 'A-P', 'P-A', 'A-P', '0'],\n",
       "       ['S-T', 'T-A', 'A-P', 'P-B', 'B-P', 'P-B', 'B-P', 'P-B', 'B-N', 'N-A', 'A-B', 'B-A', 'A-P', '0'],\n",
       "       ['S-T', 'T-B', 'B-N', 'N-B', 'B-P', 'P-B', 'B-P', 'P-A', 'A-B', 'B-A', 'A-P', 'P-A', 'A-P', '0'],\n",
       "       ['S-T', 'T-A', 'A-P', 'P-B', 'B-N', 'N-B', 'B-P', 'P-B', 'B-P', 'P-A', 'A-B', 'B-A', 'A-P', '0'],\n",
       "       ['S-T', 'T-B', 'B-N', 'N-A', 'A-P', 'P-A', 'A-P', 'P-B', 'B-P', 'P-B', 'B-P', 'P-A', 'A-B', '0'],\n",
       "       ['S-T', 'T-A', 'A-P', 'P-B', 'B-N', 'N-A', 'A-P', 'P-B', 'B-P', 'P-B', 'B-P', 'P-A', 'A-B', '0'],\n",
       "       ['S-T', 'T-B', 'B-N', 'N-B', 'B-P', 'P-A', 'A-P', 'P-A', 'A-P', 'P-B', 'B-P', 'P-A', 'A-B', '0'],\n",
       "       ['S-T', 'T-A', 'A-P', 'P-A', 'A-P', 'P-B', 'B-N', 'N-B', 'B-P', 'P-B', 'B-P', 'P-A', 'A-B', '0']], dtype=object)"
      ]
     },
     "execution_count": 5,
     "metadata": {},
     "output_type": "execute_result"
    }
   ],
   "source": [
    "np.set_printoptions(threshold=np.nan,linewidth=200)\n",
    "all_path"
   ]
  },
  {
   "cell_type": "code",
   "execution_count": 6,
   "metadata": {},
   "outputs": [
    {
     "data": {
      "text/plain": [
       "(360, 14)"
      ]
     },
     "execution_count": 6,
     "metadata": {},
     "output_type": "execute_result"
    }
   ],
   "source": [
    "# np.load('../script/output/all_path.npy').shape"
   ]
  },
  {
   "cell_type": "code",
   "execution_count": 6,
   "metadata": {},
   "outputs": [
    {
     "data": {
      "text/plain": [
       "array([312.3, 330.2, 331.3, 338.1, 341.8, 349.2, 355.5, 356. , 357.1, 359.7, 360.8, 373.4, 375. , 378.7])"
      ]
     },
     "execution_count": 6,
     "metadata": {},
     "output_type": "execute_result"
    }
   ],
   "source": [
    "distance_path = vehicleObj.allDistancePath(all_path) # unique อยู่แล้ว\n",
    "np.sort(distance_path[:,2])"
   ]
  },
  {
   "cell_type": "code",
   "execution_count": 8,
   "metadata": {},
   "outputs": [
    {
     "data": {
      "text/plain": [
       "array([['S-T', 'T-A', 'A-B', 'B-N', 'N-A', 'A-P', 'P-A', 'A-P', 'P-B', 'B-P', 'P-B', 'B-P', '0', '0']], dtype=object)"
      ]
     },
     "execution_count": 8,
     "metadata": {},
     "output_type": "execute_result"
    }
   ],
   "source": [
    "path_from_number_of_distances = all_path[distance_path[:,2] == 378.7] # เอาค่าดีสุด\n",
    "path_from_number_of_distances"
   ]
  },
  {
   "cell_type": "code",
   "execution_count": 9,
   "metadata": {},
   "outputs": [
    {
     "data": {
      "text/html": [
       "<div>\n",
       "<style scoped>\n",
       "    .dataframe tbody tr th:only-of-type {\n",
       "        vertical-align: middle;\n",
       "    }\n",
       "\n",
       "    .dataframe tbody tr th {\n",
       "        vertical-align: top;\n",
       "    }\n",
       "\n",
       "    .dataframe thead th {\n",
       "        text-align: right;\n",
       "    }\n",
       "</style>\n",
       "<table border=\"1\" class=\"dataframe\">\n",
       "  <thead>\n",
       "    <tr style=\"text-align: right;\">\n",
       "      <th></th>\n",
       "      <th>Name</th>\n",
       "      <th>Distance</th>\n",
       "    </tr>\n",
       "  </thead>\n",
       "  <tbody>\n",
       "    <tr>\n",
       "      <th>0</th>\n",
       "      <td>ลำปลายมาศ-วังแดง</td>\n",
       "      <td>322.0</td>\n",
       "    </tr>\n",
       "    <tr>\n",
       "      <th>1</th>\n",
       "      <td>วังแดง-นครหลวง</td>\n",
       "      <td>-11.6</td>\n",
       "    </tr>\n",
       "    <tr>\n",
       "      <th>2</th>\n",
       "      <td>นครหลวง-ท่าเรือ</td>\n",
       "      <td>19.8</td>\n",
       "    </tr>\n",
       "    <tr>\n",
       "      <th>3</th>\n",
       "      <td>ท่าเรือ-หนองแค(สัตว์บก)</td>\n",
       "      <td>43.2</td>\n",
       "    </tr>\n",
       "    <tr>\n",
       "      <th>4</th>\n",
       "      <td>หนองแค(สัตว์บก)-นครหลวง</td>\n",
       "      <td>-40.3</td>\n",
       "    </tr>\n",
       "    <tr>\n",
       "      <th>5</th>\n",
       "      <td>นครหลวง-โคกตูม</td>\n",
       "      <td>45.6</td>\n",
       "    </tr>\n",
       "    <tr>\n",
       "      <th>6</th>\n",
       "      <td>โคกตูม-นครหลวง</td>\n",
       "      <td>-45.6</td>\n",
       "    </tr>\n",
       "    <tr>\n",
       "      <th>7</th>\n",
       "      <td>นครหลวง-โคกตูม</td>\n",
       "      <td>45.6</td>\n",
       "    </tr>\n",
       "    <tr>\n",
       "      <th>8</th>\n",
       "      <td>โคกตูม-ท่าเรือ</td>\n",
       "      <td>-29.5</td>\n",
       "    </tr>\n",
       "    <tr>\n",
       "      <th>9</th>\n",
       "      <td>ท่าเรือ-โคกตูม</td>\n",
       "      <td>29.5</td>\n",
       "    </tr>\n",
       "    <tr>\n",
       "      <th>10</th>\n",
       "      <td>โคกตูม-ท่าเรือ</td>\n",
       "      <td>-29.5</td>\n",
       "    </tr>\n",
       "    <tr>\n",
       "      <th>11</th>\n",
       "      <td>ท่าเรือ-โคกตูม</td>\n",
       "      <td>29.5</td>\n",
       "    </tr>\n",
       "  </tbody>\n",
       "</table>\n",
       "</div>"
      ],
      "text/plain": [
       "                       Name  Distance\n",
       "0          ลำปลายมาศ-วังแดง     322.0\n",
       "1            วังแดง-นครหลวง     -11.6\n",
       "2           นครหลวง-ท่าเรือ      19.8\n",
       "3   ท่าเรือ-หนองแค(สัตว์บก)      43.2\n",
       "4   หนองแค(สัตว์บก)-นครหลวง     -40.3\n",
       "5            นครหลวง-โคกตูม      45.6\n",
       "6            โคกตูม-นครหลวง     -45.6\n",
       "7            นครหลวง-โคกตูม      45.6\n",
       "8            โคกตูม-ท่าเรือ     -29.5\n",
       "9            ท่าเรือ-โคกตูม      29.5\n",
       "10           โคกตูม-ท่าเรือ     -29.5\n",
       "11           ท่าเรือ-โคกตูม      29.5"
      ]
     },
     "execution_count": 9,
     "metadata": {},
     "output_type": "execute_result"
    }
   ],
   "source": [
    "thai_name = vehicleObj.getTaskName(path_from_number_of_distances[0])\n",
    "thai_name"
   ]
  },
  {
   "cell_type": "code",
   "execution_count": null,
   "metadata": {},
   "outputs": [],
   "source": []
  }
 ],
 "metadata": {
  "kernelspec": {
   "display_name": "Python 3",
   "language": "python",
   "name": "python3"
  },
  "language_info": {
   "codemirror_mode": {
    "name": "ipython",
    "version": 3
   },
   "file_extension": ".py",
   "mimetype": "text/x-python",
   "name": "python",
   "nbconvert_exporter": "python",
   "pygments_lexer": "ipython3",
   "version": "3.6.8"
  }
 },
 "nbformat": 4,
 "nbformat_minor": 2
}
